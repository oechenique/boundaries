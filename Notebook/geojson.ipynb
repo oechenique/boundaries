{
 "cells": [
  {
   "cell_type": "markdown",
   "id": "68ac58d2-2878-4969-b5c3-f315cb441c1c",
   "metadata": {},
   "source": [
    "## Libraries"
   ]
  },
  {
   "cell_type": "code",
   "execution_count": 1,
   "id": "51019112-272f-4230-970e-0b16a2dde674",
   "metadata": {
    "scrolled": true
   },
   "outputs": [],
   "source": [
    "# Main libraries installation\n",
    "!pip install geopandas requests contextily folium > nul"
   ]
  },
  {
   "cell_type": "code",
   "execution_count": 2,
   "id": "a8450bc6-da08-409c-8a0b-ad58f0259220",
   "metadata": {},
   "outputs": [],
   "source": [
    "# Import necessary libraries\n",
    "import geopandas as gpd      # For working with geospatial data\n",
    "import pandas as pd          # For data manipulation and analysis\n",
    "import os                    # For operating system-related functionality\n",
    "import io                    # For input/output operations\n",
    "import contextily as cx      # For basemaps and context tiles\n",
    "import matplotlib.pyplot as plt  # For creating visualizations\n",
    "from rasterio.crs import CRS  # For handling coordinate reference systems\n",
    "import folium                # For creating interactive maps\n",
    "from folium.plugins import MarkerCluster  # For clustering markers on the map\n",
    "from IPython.display import display_javascript  # For displaying JavaScript in IPython\n",
    "import plotly.express as px\n",
    "import warnings  # Library for managing warnings\n",
    "warnings.filterwarnings(\"ignore\")  # Ignore warnings during runtime\n",
    "\n",
    "import plotly.io as pio  # Library for handling Plotly I/O\n",
    "from IPython.display import Image  # Library for displaying images in IPython environment"
   ]
  },
  {
   "cell_type": "markdown",
   "id": "63cd3bc9-ab8e-4aa5-ba5b-25dc44265f31",
   "metadata": {},
   "source": [
    "## Data Ingestion"
   ]
  },
  {
   "cell_type": "code",
   "execution_count": 3,
   "id": "eb2746df-c471-426c-a573-59e0ba986784",
   "metadata": {},
   "outputs": [],
   "source": [
    "# Path to the GeoJSON file\n",
    "geojson_path = 'data/in_geojson/geoBoundaries-NPL-ADM2.geojson'\n",
    "\n",
    "# Load the GeoJSON into a GeoDataFrame\n",
    "gdf_geojson = gpd.read_file(geojson_path)"
   ]
  },
  {
   "cell_type": "markdown",
   "id": "69a33cf3-5d90-4b63-846e-f70ec7558a0b",
   "metadata": {},
   "source": [
    "## Data Exploring"
   ]
  },
  {
   "cell_type": "code",
   "execution_count": 4,
   "id": "c8c2628a-1c41-4e0b-85cf-2d4fe3c5cce0",
   "metadata": {},
   "outputs": [
    {
     "name": "stdout",
     "output_type": "stream",
     "text": [
      "<class 'geopandas.geodataframe.GeoDataFrame'>\n",
      "RangeIndex: 77 entries, 0 to 76\n",
      "Data columns (total 4 columns):\n",
      " #   Column    Non-Null Count  Dtype   \n",
      "---  ------    --------------  -----   \n",
      " 0    NAME     77 non-null     object  \n",
      " 1   LEVEL     77 non-null     object  \n",
      " 2   shapeISO  77 non-null     object  \n",
      " 3   geometry  77 non-null     geometry\n",
      "dtypes: geometry(1), object(3)\n",
      "memory usage: 2.5+ KB\n"
     ]
    }
   ],
   "source": [
    "# Display information about the GeoDataFrame\n",
    "gdf_geojson.info()"
   ]
  },
  {
   "cell_type": "code",
   "execution_count": 5,
   "id": "5ccc605a-fa24-4e47-93cc-d8e0d8627bce",
   "metadata": {},
   "outputs": [
    {
     "data": {
      "text/html": [
       "<div>\n",
       "<style scoped>\n",
       "    .dataframe tbody tr th:only-of-type {\n",
       "        vertical-align: middle;\n",
       "    }\n",
       "\n",
       "    .dataframe tbody tr th {\n",
       "        vertical-align: top;\n",
       "    }\n",
       "\n",
       "    .dataframe thead th {\n",
       "        text-align: right;\n",
       "    }\n",
       "</style>\n",
       "<table border=\"1\" class=\"dataframe\">\n",
       "  <thead>\n",
       "    <tr style=\"text-align: right;\">\n",
       "      <th></th>\n",
       "      <th>NAME</th>\n",
       "      <th>LEVEL</th>\n",
       "      <th>shapeISO</th>\n",
       "      <th>geometry</th>\n",
       "    </tr>\n",
       "  </thead>\n",
       "  <tbody>\n",
       "    <tr>\n",
       "      <th>0</th>\n",
       "      <td>ACHHAM</td>\n",
       "      <td>ADM2</td>\n",
       "      <td></td>\n",
       "      <td>POLYGON ((81.46795 29.27183, 81.46739 29.27183...</td>\n",
       "    </tr>\n",
       "    <tr>\n",
       "      <th>1</th>\n",
       "      <td>ARGHAKHANCHI</td>\n",
       "      <td>ADM2</td>\n",
       "      <td></td>\n",
       "      <td>POLYGON ((83.05092 28.11155, 83.05075 28.11142...</td>\n",
       "    </tr>\n",
       "    <tr>\n",
       "      <th>2</th>\n",
       "      <td>BAGLUNG</td>\n",
       "      <td>ADM2</td>\n",
       "      <td></td>\n",
       "      <td>POLYGON ((83.10730 28.63216, 83.10721 28.63218...</td>\n",
       "    </tr>\n",
       "    <tr>\n",
       "      <th>3</th>\n",
       "      <td>BAITADI</td>\n",
       "      <td>ADM2</td>\n",
       "      <td></td>\n",
       "      <td>POLYGON ((80.79591 29.68825, 80.79572 29.68839...</td>\n",
       "    </tr>\n",
       "    <tr>\n",
       "      <th>4</th>\n",
       "      <td>BAJHANG</td>\n",
       "      <td>ADM2</td>\n",
       "      <td></td>\n",
       "      <td>POLYGON ((80.90816 29.44139, 80.90795 29.44204...</td>\n",
       "    </tr>\n",
       "  </tbody>\n",
       "</table>\n",
       "</div>"
      ],
      "text/plain": [
       "           NAME LEVEL shapeISO  \\\n",
       "0        ACHHAM  ADM2            \n",
       "1  ARGHAKHANCHI  ADM2            \n",
       "2       BAGLUNG  ADM2            \n",
       "3       BAITADI  ADM2            \n",
       "4       BAJHANG  ADM2            \n",
       "\n",
       "                                            geometry  \n",
       "0  POLYGON ((81.46795 29.27183, 81.46739 29.27183...  \n",
       "1  POLYGON ((83.05092 28.11155, 83.05075 28.11142...  \n",
       "2  POLYGON ((83.10730 28.63216, 83.10721 28.63218...  \n",
       "3  POLYGON ((80.79591 29.68825, 80.79572 29.68839...  \n",
       "4  POLYGON ((80.90816 29.44139, 80.90795 29.44204...  "
      ]
     },
     "execution_count": 5,
     "metadata": {},
     "output_type": "execute_result"
    }
   ],
   "source": [
    "# Display the first few rows of the GeoDataFrame\n",
    "gdf_geojson.head()"
   ]
  },
  {
   "cell_type": "code",
   "execution_count": 6,
   "id": "54412567-d861-45d8-8702-dcfae313fa1d",
   "metadata": {},
   "outputs": [
    {
     "name": "stdout",
     "output_type": "stream",
     "text": [
      "GEOGCS[\"WGS 84\",DATUM[\"WGS_1984\",SPHEROID[\"WGS 84\",6378137,298.257223563,AUTHORITY[\"EPSG\",\"7030\"]],AUTHORITY[\"EPSG\",\"6326\"]],PRIMEM[\"Greenwich\",0,AUTHORITY[\"EPSG\",\"8901\"]],UNIT[\"degree\",0.0174532925199433,AUTHORITY[\"EPSG\",\"9122\"]],AXIS[\"Latitude\",NORTH],AXIS[\"Longitude\",EAST],AUTHORITY[\"EPSG\",\"4326\"]]\n"
     ]
    }
   ],
   "source": [
    "# Print the original Coordinate Reference System (CRS) of the GeoDataFrame\n",
    "print(gdf_geojson.crs)"
   ]
  },
  {
   "cell_type": "code",
   "execution_count": 7,
   "id": "d8aa8f31-94d9-4f2d-abfa-78515aee8acf",
   "metadata": {},
   "outputs": [],
   "source": [
    "# Set the Coordinate Reference System (CRS) to EPSG:4326\n",
    "gdf_geojson = gdf_geojson.set_crs(4326, allow_override=True)"
   ]
  },
  {
   "cell_type": "markdown",
   "id": "df871957-32de-48cb-a3f5-a2d5f7c9c3fb",
   "metadata": {},
   "source": [
    "### Data Visualization\n",
    "\n",
    "This interactive map visualizes regions using GeoJSON data. Each polygon represents a region, and you can hover over a region to see its name in the tooltip. The selected region is highlighted in orange"
   ]
  },
  {
   "cell_type": "code",
   "execution_count": 8,
   "id": "5a01855e-8c9f-4292-b1e9-32d5f1416a7c",
   "metadata": {},
   "outputs": [],
   "source": [
    "# Create a Plotly Express map using Mapbox\n",
    "fig = px.choropleth_mapbox(gdf_geojson,\n",
    "                           geojson=gdf_geojson.geometry.__geo_interface__,\n",
    "                           locations=gdf_geojson.index,\n",
    "                           color=' NAME',  # Use ' NAME' for color\n",
    "                           hover_data=[' NAME'],  # Add ' NAME' to hover\n",
    "                           mapbox_style=\"open-street-map\",\n",
    "                           center={\"lat\": gdf_geojson.geometry.centroid.y.mean(), \"lon\": gdf_geojson.geometry.centroid.x.mean()},\n",
    "                           zoom=7,\n",
    "                           color_continuous_scale='YlOrRd')\n",
    "\n",
    "# Show the map\n",
    "fig.show()"
   ]
  },
  {
   "cell_type": "code",
   "execution_count": null,
   "id": "e20721d4-10bd-41a1-bd04-664e062f4ae2",
   "metadata": {},
   "outputs": [],
   "source": [
    "# Assuming 'fig' is your Plotly figure\n",
    "pio.write_html(fig, 'data/in_geojson/map_npl.html')"
   ]
  },
  {
   "cell_type": "code",
   "execution_count": null,
   "id": "07006550",
   "metadata": {},
   "outputs": [],
   "source": [
    "# Path to your PNG file\n",
    "ruta_archivo_png = 'data/in_geojson/map_npl.png'  # Replace with the correct path\n",
    "\n",
    "# Display the image in the notebook\n",
    "Image(filename=ruta_archivo_png)"
   ]
  }
 ],
 "metadata": {
  "kernelspec": {
   "display_name": "Python 3 (ipykernel)",
   "language": "python",
   "name": "python3"
  },
  "language_info": {
   "codemirror_mode": {
    "name": "ipython",
    "version": 3
   },
   "file_extension": ".py",
   "mimetype": "text/x-python",
   "name": "python",
   "nbconvert_exporter": "python",
   "pygments_lexer": "ipython3",
   "version": "3.10.7"
  }
 },
 "nbformat": 4,
 "nbformat_minor": 5
}

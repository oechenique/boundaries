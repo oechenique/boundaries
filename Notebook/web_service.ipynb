{
 "cells": [
  {
   "cell_type": "markdown",
   "id": "b4e96f87-496d-402c-bd88-2f9d956ed9fc",
   "metadata": {},
   "source": [
    "## Libaries"
   ]
  },
  {
   "cell_type": "code",
   "execution_count": 1,
   "id": "23af737c-d10b-4191-8f9b-7b21bb97650a",
   "metadata": {
    "scrolled": true
   },
   "outputs": [
    {
     "name": "stderr",
     "output_type": "stream",
     "text": [
      "\n",
      "[notice] A new release of pip is available: 23.2.1 -> 23.3.2\n",
      "[notice] To update, run: python.exe -m pip install --upgrade pip\n"
     ]
    }
   ],
   "source": [
    "# Main libraries installation\n",
    "!pip install geopandas owslib requests contextily osmnx > nul"
   ]
  },
  {
   "cell_type": "code",
   "execution_count": 2,
   "id": "1869af3e",
   "metadata": {},
   "outputs": [
    {
     "name": "stderr",
     "output_type": "stream",
     "text": [
      "ERROR: Could not find a version that satisfies the requirement distutils (from versions: none)\n",
      "ERROR: No matching distribution found for distutils\n",
      "\n",
      "[notice] A new release of pip is available: 23.2.1 -> 23.3.2\n",
      "[notice] To update, run: python.exe -m pip install --upgrade pip\n"
     ]
    }
   ],
   "source": [
    "!pip install --upgrade distutils > nul"
   ]
  },
  {
   "cell_type": "code",
   "execution_count": 3,
   "id": "ee39ae14-746c-4ddb-b24c-7073156db65c",
   "metadata": {},
   "outputs": [],
   "source": [
    "# Import necessary libraries\n",
    "from owslib.wfs import WebFeatureService  # Library for working with Web Feature Service\n",
    "import osmnx as ox  # Library for retrieving OpenStreetMap data and network analysis\n",
    "import geopandas as gpd  # Library for geospatial data manipulation and analysis\n",
    "from shapely.geometry import Point, Polygon  # Library for handling geometric shapes\n",
    "import pandas as pd  # Library for data manipulation and analysis\n",
    "import os  # Library for operating system-related functionality\n",
    "import io  # Library for input/output operations\n",
    "import rasterio  # Library for reading and writing raster data\n",
    "import numpy as np  # Library for numerical operations\n",
    "from rasterio.crs import CRS  # Library for handling coordinate reference systems in raster data\n",
    "import json  # Library for working with JSON data\n",
    "import contextily as cx  # Library for basemaps and context tiles\n",
    "import matplotlib.pyplot as plt  # Library for creating visualizations\n",
    "import requests  # Library for making HTTP requests\n",
    "from io import BytesIO  # Library for handling binary data\n",
    "import zipfile  # Library for handling ZIP files\n",
    "import pyproj  # Library for performing cartographic projections\n",
    "import seaborn as sns  # Library for statistical data visualization\n",
    "import urllib.request  # Library for making URL requests\n",
    "from urllib.error import ContentTooShortError  # Library for handling content too short errors during URL requests\n",
    "from shapely.geometry import Polygon  # Library for handling polygon geometries\n",
    "import plotly.express as px  # Library for creating interactive visualizations\n",
    "import warnings  # Library for managing warnings\n",
    "\n",
    "# Disable deprecation warnings\n",
    "warnings.filterwarnings(\"ignore\", category=DeprecationWarning)\n"
   ]
  },
  {
   "cell_type": "markdown",
   "id": "549d9c8d-45d9-44fc-8385-e38157910aa7",
   "metadata": {},
   "source": [
    "## Data Ingestion"
   ]
  },
  {
   "cell_type": "code",
   "execution_count": 4,
   "id": "ef1de313-2c3f-4783-b5a6-0980600db582",
   "metadata": {},
   "outputs": [
    {
     "name": "stderr",
     "output_type": "stream",
     "text": [
      "C:\\Users\\Lenovo\\AppData\\Local\\Temp\\ipykernel_16328\\188318385.py:6: UserWarning: The `geometries` module and `geometries_from_X` functions have been renamed the `features` module and `features_from_X` functions. Use these instead. The `geometries` module and function names are deprecated and will be removed in a future release.\n",
      "  gdf2 = ox.geometries_from_place(city, tags)\n"
     ]
    }
   ],
   "source": [
    "# Specify the name of the city or area of interest\n",
    "city = \"Ciudad Autónoma de Buenos Aires\"\n",
    "\n",
    "# Download OSM data using Overpass API\n",
    "tags = {\"amenity\": \"bar\"}\n",
    "gdf2 = ox.geometries_from_place(city, tags)\n",
    "\n",
    "# Filter and create a GeoPandas DataFrame with relevant data\n",
    "gdf2 = gdf2[gdf2['amenity'] == 'bar']\n",
    "\n",
    "gdf2 = gdf2.reset_index()\n",
    "\n",
    "# Filter only Point geometries\n",
    "gdf2 = gdf2[gdf2['geometry'].geom_type == 'Point']"
   ]
  },
  {
   "cell_type": "markdown",
   "id": "3c663c0b-cb99-48ba-8969-ab7a79582676",
   "metadata": {},
   "source": [
    "## Data exploring"
   ]
  },
  {
   "cell_type": "code",
   "execution_count": 5,
   "id": "b674be02-41e2-423a-a663-470562435c1d",
   "metadata": {},
   "outputs": [
    {
     "name": "stdout",
     "output_type": "stream",
     "text": [
      "<class 'geopandas.geodataframe.GeoDataFrame'>\n",
      "Int64Index: 377 entries, 0 to 376\n",
      "Data columns (total 87 columns):\n",
      " #   Column                   Non-Null Count  Dtype   \n",
      "---  ------                   --------------  -----   \n",
      " 0   element_type             377 non-null    object  \n",
      " 1   osmid                    377 non-null    int64   \n",
      " 2   amenity                  377 non-null    object  \n",
      " 3   name                     348 non-null    object  \n",
      " 4   geometry                 377 non-null    geometry\n",
      " 5   addr:housenumber         142 non-null    object  \n",
      " 6   addr:street              173 non-null    object  \n",
      " 7   cuisine                  14 non-null     object  \n",
      " 8   internet_access          26 non-null     object  \n",
      " 9   old_name                 1 non-null      object  \n",
      " 10  opening_hours            51 non-null     object  \n",
      " 11  source                   41 non-null     object  \n",
      " 12  wikidata                 4 non-null      object  \n",
      " 13  wikimedia_commons        4 non-null      object  \n",
      " 14  addr:city                52 non-null     object  \n",
      " 15  addr:postcode            46 non-null     object  \n",
      " 16  branch                   1 non-null      object  \n",
      " 17  delivery                 9 non-null      object  \n",
      " 18  outdoor_seating          28 non-null     object  \n",
      " 19  takeaway                 8 non-null      object  \n",
      " 20  wheelchair               7 non-null      object  \n",
      " 21  addr:country             12 non-null     object  \n",
      " 22  food                     2 non-null      object  \n",
      " 23  phone                    37 non-null     object  \n",
      " 24  website                  33 non-null     object  \n",
      " 25  dance:style              5 non-null      object  \n",
      " 26  dance:teaching           1 non-null      object  \n",
      " 27  leisure                  5 non-null      object  \n",
      " 28  smoking                  6 non-null      object  \n",
      " 29  check_date               6 non-null      object  \n",
      " 30  healthcare               1 non-null      object  \n",
      " 31  wifi                     1 non-null      object  \n",
      " 32  note                     2 non-null      object  \n",
      " 33  name:en                  27 non-null     object  \n",
      " 34  name:es                  28 non-null     object  \n",
      " 35  wikipedia                1 non-null      object  \n",
      " 36  level                    3 non-null      object  \n",
      " 37  name:de                  1 non-null      object  \n",
      " 38  email                    11 non-null     object  \n",
      " 39  description              6 non-null      object  \n",
      " 40  contact:facebook         10 non-null     object  \n",
      " 41  addr:housename           1 non-null      object  \n",
      " 42  brewery                  5 non-null      object  \n",
      " 43  operator                 1 non-null      object  \n",
      " 44  brand:wikipedia          1 non-null      object  \n",
      " 45  short_name               1 non-null      object  \n",
      " 46  survey:date              4 non-null      object  \n",
      " 47  contact:email            1 non-null      object  \n",
      " 48  contact:phone            3 non-null      object  \n",
      " 49  contact:website          1 non-null      object  \n",
      " 50  name:fr                  5 non-null      object  \n",
      " 51  verify                   1 non-null      object  \n",
      " 52  fixme                    3 non-null      object  \n",
      " 53  contact:instagram        6 non-null      object  \n",
      " 54  drive_through            4 non-null      object  \n",
      " 55  shop                     1 non-null      object  \n",
      " 56  contact:twitter          2 non-null      object  \n",
      " 57  microbrewery             2 non-null      object  \n",
      " 58  dog                      3 non-null      object  \n",
      " 59  payment:cash             4 non-null      object  \n",
      " 60  payment:credit_cards     4 non-null      object  \n",
      " 61  payment:debit_cards      4 non-null      object  \n",
      " 62  payment:mastercard       3 non-null      object  \n",
      " 63  payment:visa             3 non-null      object  \n",
      " 64  internet_access:fee      2 non-null      object  \n",
      " 65  check_date:currency:XBT  10 non-null     object  \n",
      " 66  currency:XBT             10 non-null     object  \n",
      " 67  payment:lightning        10 non-null     object  \n",
      " 68  payment:onchain          10 non-null     object  \n",
      " 69  name:ja                  1 non-null      object  \n",
      " 70  start_date               1 non-null      object  \n",
      " 71  sport                    1 non-null      object  \n",
      " 72  air_conditioning         1 non-null      object  \n",
      " 73  min_age                  1 non-null      object  \n",
      " 74  payment:contactless      1 non-null      object  \n",
      " 75  image                    1 non-null      object  \n",
      " 76  name:nl                  1 non-null      object  \n",
      " 77  clothes                  2 non-null      object  \n",
      " 78  nodes                    0 non-null      object  \n",
      " 79  building                 0 non-null      object  \n",
      " 80  instagram                0 non-null      object  \n",
      " 81  building:levels          0 non-null      object  \n",
      " 82  toilets:wheelchair       0 non-null      object  \n",
      " 83  website:menu             0 non-null      object  \n",
      " 84  contact:mobile           0 non-null      object  \n",
      " 85  height                   0 non-null      object  \n",
      " 86  opening_hours:kitchen    0 non-null      object  \n",
      "dtypes: geometry(1), int64(1), object(85)\n",
      "memory usage: 259.2+ KB\n"
     ]
    }
   ],
   "source": [
    "# Display information about the GeoDataFrame\n",
    "gdf2.info()"
   ]
  },
  {
   "cell_type": "code",
   "execution_count": 6,
   "id": "36cad7f0-d7bf-4603-aaf4-85e46aa99e79",
   "metadata": {
    "scrolled": true
   },
   "outputs": [
    {
     "data": {
      "text/html": [
       "<div>\n",
       "<style scoped>\n",
       "    .dataframe tbody tr th:only-of-type {\n",
       "        vertical-align: middle;\n",
       "    }\n",
       "\n",
       "    .dataframe tbody tr th {\n",
       "        vertical-align: top;\n",
       "    }\n",
       "\n",
       "    .dataframe thead th {\n",
       "        text-align: right;\n",
       "    }\n",
       "</style>\n",
       "<table border=\"1\" class=\"dataframe\">\n",
       "  <thead>\n",
       "    <tr style=\"text-align: right;\">\n",
       "      <th></th>\n",
       "      <th>element_type</th>\n",
       "      <th>osmid</th>\n",
       "      <th>amenity</th>\n",
       "      <th>name</th>\n",
       "      <th>geometry</th>\n",
       "      <th>addr:housenumber</th>\n",
       "      <th>addr:street</th>\n",
       "      <th>cuisine</th>\n",
       "      <th>internet_access</th>\n",
       "      <th>old_name</th>\n",
       "      <th>...</th>\n",
       "      <th>clothes</th>\n",
       "      <th>nodes</th>\n",
       "      <th>building</th>\n",
       "      <th>instagram</th>\n",
       "      <th>building:levels</th>\n",
       "      <th>toilets:wheelchair</th>\n",
       "      <th>website:menu</th>\n",
       "      <th>contact:mobile</th>\n",
       "      <th>height</th>\n",
       "      <th>opening_hours:kitchen</th>\n",
       "    </tr>\n",
       "  </thead>\n",
       "  <tbody>\n",
       "    <tr>\n",
       "      <th>0</th>\n",
       "      <td>node</td>\n",
       "      <td>479757409</td>\n",
       "      <td>bar</td>\n",
       "      <td>Macondo Bar</td>\n",
       "      <td>POINT (-58.43028 -34.58851)</td>\n",
       "      <td>NaN</td>\n",
       "      <td>NaN</td>\n",
       "      <td>NaN</td>\n",
       "      <td>NaN</td>\n",
       "      <td>NaN</td>\n",
       "      <td>...</td>\n",
       "      <td>NaN</td>\n",
       "      <td>NaN</td>\n",
       "      <td>NaN</td>\n",
       "      <td>NaN</td>\n",
       "      <td>NaN</td>\n",
       "      <td>NaN</td>\n",
       "      <td>NaN</td>\n",
       "      <td>NaN</td>\n",
       "      <td>NaN</td>\n",
       "      <td>NaN</td>\n",
       "    </tr>\n",
       "    <tr>\n",
       "      <th>1</th>\n",
       "      <td>node</td>\n",
       "      <td>479757410</td>\n",
       "      <td>bar</td>\n",
       "      <td>Utopia</td>\n",
       "      <td>POINT (-58.43060 -34.58867)</td>\n",
       "      <td>1590</td>\n",
       "      <td>Serrano</td>\n",
       "      <td>NaN</td>\n",
       "      <td>NaN</td>\n",
       "      <td>NaN</td>\n",
       "      <td>...</td>\n",
       "      <td>NaN</td>\n",
       "      <td>NaN</td>\n",
       "      <td>NaN</td>\n",
       "      <td>NaN</td>\n",
       "      <td>NaN</td>\n",
       "      <td>NaN</td>\n",
       "      <td>NaN</td>\n",
       "      <td>NaN</td>\n",
       "      <td>NaN</td>\n",
       "      <td>NaN</td>\n",
       "    </tr>\n",
       "    <tr>\n",
       "      <th>2</th>\n",
       "      <td>node</td>\n",
       "      <td>479757411</td>\n",
       "      <td>bar</td>\n",
       "      <td>Prólogo</td>\n",
       "      <td>POINT (-58.43063 -34.58874)</td>\n",
       "      <td>1580</td>\n",
       "      <td>Serrano</td>\n",
       "      <td>NaN</td>\n",
       "      <td>NaN</td>\n",
       "      <td>NaN</td>\n",
       "      <td>...</td>\n",
       "      <td>NaN</td>\n",
       "      <td>NaN</td>\n",
       "      <td>NaN</td>\n",
       "      <td>NaN</td>\n",
       "      <td>NaN</td>\n",
       "      <td>NaN</td>\n",
       "      <td>NaN</td>\n",
       "      <td>NaN</td>\n",
       "      <td>NaN</td>\n",
       "      <td>NaN</td>\n",
       "    </tr>\n",
       "    <tr>\n",
       "      <th>3</th>\n",
       "      <td>node</td>\n",
       "      <td>479757412</td>\n",
       "      <td>bar</td>\n",
       "      <td>Tazz</td>\n",
       "      <td>POINT (-58.43065 -34.58885)</td>\n",
       "      <td>1556</td>\n",
       "      <td>Serrano</td>\n",
       "      <td>NaN</td>\n",
       "      <td>NaN</td>\n",
       "      <td>NaN</td>\n",
       "      <td>...</td>\n",
       "      <td>NaN</td>\n",
       "      <td>NaN</td>\n",
       "      <td>NaN</td>\n",
       "      <td>NaN</td>\n",
       "      <td>NaN</td>\n",
       "      <td>NaN</td>\n",
       "      <td>NaN</td>\n",
       "      <td>NaN</td>\n",
       "      <td>NaN</td>\n",
       "      <td>NaN</td>\n",
       "    </tr>\n",
       "    <tr>\n",
       "      <th>4</th>\n",
       "      <td>node</td>\n",
       "      <td>724259211</td>\n",
       "      <td>bar</td>\n",
       "      <td>Aroma Freddo</td>\n",
       "      <td>POINT (-58.37534 -34.60299)</td>\n",
       "      <td>NaN</td>\n",
       "      <td>NaN</td>\n",
       "      <td>NaN</td>\n",
       "      <td>NaN</td>\n",
       "      <td>NaN</td>\n",
       "      <td>...</td>\n",
       "      <td>NaN</td>\n",
       "      <td>NaN</td>\n",
       "      <td>NaN</td>\n",
       "      <td>NaN</td>\n",
       "      <td>NaN</td>\n",
       "      <td>NaN</td>\n",
       "      <td>NaN</td>\n",
       "      <td>NaN</td>\n",
       "      <td>NaN</td>\n",
       "      <td>NaN</td>\n",
       "    </tr>\n",
       "  </tbody>\n",
       "</table>\n",
       "<p>5 rows × 87 columns</p>\n",
       "</div>"
      ],
      "text/plain": [
       "  element_type      osmid amenity          name                     geometry  \\\n",
       "0         node  479757409     bar   Macondo Bar  POINT (-58.43028 -34.58851)   \n",
       "1         node  479757410     bar        Utopia  POINT (-58.43060 -34.58867)   \n",
       "2         node  479757411     bar       Prólogo  POINT (-58.43063 -34.58874)   \n",
       "3         node  479757412     bar          Tazz  POINT (-58.43065 -34.58885)   \n",
       "4         node  724259211     bar  Aroma Freddo  POINT (-58.37534 -34.60299)   \n",
       "\n",
       "  addr:housenumber addr:street cuisine internet_access old_name  ... clothes  \\\n",
       "0              NaN         NaN     NaN             NaN      NaN  ...     NaN   \n",
       "1             1590     Serrano     NaN             NaN      NaN  ...     NaN   \n",
       "2             1580     Serrano     NaN             NaN      NaN  ...     NaN   \n",
       "3             1556     Serrano     NaN             NaN      NaN  ...     NaN   \n",
       "4              NaN         NaN     NaN             NaN      NaN  ...     NaN   \n",
       "\n",
       "  nodes building instagram building:levels toilets:wheelchair website:menu  \\\n",
       "0   NaN      NaN       NaN             NaN                NaN          NaN   \n",
       "1   NaN      NaN       NaN             NaN                NaN          NaN   \n",
       "2   NaN      NaN       NaN             NaN                NaN          NaN   \n",
       "3   NaN      NaN       NaN             NaN                NaN          NaN   \n",
       "4   NaN      NaN       NaN             NaN                NaN          NaN   \n",
       "\n",
       "  contact:mobile height opening_hours:kitchen  \n",
       "0            NaN    NaN                   NaN  \n",
       "1            NaN    NaN                   NaN  \n",
       "2            NaN    NaN                   NaN  \n",
       "3            NaN    NaN                   NaN  \n",
       "4            NaN    NaN                   NaN  \n",
       "\n",
       "[5 rows x 87 columns]"
      ]
     },
     "execution_count": 6,
     "metadata": {},
     "output_type": "execute_result"
    }
   ],
   "source": [
    "# Display the first few rows of the GeoDataFrame\n",
    "gdf2.head()"
   ]
  },
  {
   "cell_type": "code",
   "execution_count": 7,
   "id": "9f281e45-bf63-40b1-8991-29a8c7f3182b",
   "metadata": {
    "scrolled": true
   },
   "outputs": [
    {
     "name": "stdout",
     "output_type": "stream",
     "text": [
      "epsg:4326\n"
     ]
    }
   ],
   "source": [
    "# Print the original Coordinate Reference System (CRS) of the GeoDataFrame\n",
    "print(gdf2.crs)"
   ]
  },
  {
   "cell_type": "markdown",
   "id": "e0ed0c59-f603-4955-9fd1-fd69223a234c",
   "metadata": {},
   "source": [
    "## Data Visualization"
   ]
  },
  {
   "cell_type": "code",
   "execution_count": 8,
   "id": "27250ea5",
   "metadata": {},
   "outputs": [
    {
     "data": {
      "text/html": [
       "<div>\n",
       "<style scoped>\n",
       "    .dataframe tbody tr th:only-of-type {\n",
       "        vertical-align: middle;\n",
       "    }\n",
       "\n",
       "    .dataframe tbody tr th {\n",
       "        vertical-align: top;\n",
       "    }\n",
       "\n",
       "    .dataframe thead th {\n",
       "        text-align: right;\n",
       "    }\n",
       "</style>\n",
       "<table border=\"1\" class=\"dataframe\">\n",
       "  <thead>\n",
       "    <tr style=\"text-align: right;\">\n",
       "      <th></th>\n",
       "      <th>element_type</th>\n",
       "      <th>osmid</th>\n",
       "      <th>amenity</th>\n",
       "      <th>name</th>\n",
       "      <th>geometry</th>\n",
       "      <th>addr:housenumber</th>\n",
       "      <th>addr:street</th>\n",
       "      <th>cuisine</th>\n",
       "      <th>internet_access</th>\n",
       "      <th>old_name</th>\n",
       "      <th>...</th>\n",
       "      <th>clothes</th>\n",
       "      <th>nodes</th>\n",
       "      <th>building</th>\n",
       "      <th>instagram</th>\n",
       "      <th>building:levels</th>\n",
       "      <th>toilets:wheelchair</th>\n",
       "      <th>website:menu</th>\n",
       "      <th>contact:mobile</th>\n",
       "      <th>height</th>\n",
       "      <th>opening_hours:kitchen</th>\n",
       "    </tr>\n",
       "  </thead>\n",
       "  <tbody>\n",
       "    <tr>\n",
       "      <th>0</th>\n",
       "      <td>node</td>\n",
       "      <td>479757409</td>\n",
       "      <td>bar</td>\n",
       "      <td>Macondo Bar</td>\n",
       "      <td>POINT (-58.43028 -34.58851)</td>\n",
       "      <td>NaN</td>\n",
       "      <td>NaN</td>\n",
       "      <td>NaN</td>\n",
       "      <td>NaN</td>\n",
       "      <td>NaN</td>\n",
       "      <td>...</td>\n",
       "      <td>NaN</td>\n",
       "      <td>NaN</td>\n",
       "      <td>NaN</td>\n",
       "      <td>NaN</td>\n",
       "      <td>NaN</td>\n",
       "      <td>NaN</td>\n",
       "      <td>NaN</td>\n",
       "      <td>NaN</td>\n",
       "      <td>NaN</td>\n",
       "      <td>NaN</td>\n",
       "    </tr>\n",
       "    <tr>\n",
       "      <th>1</th>\n",
       "      <td>node</td>\n",
       "      <td>479757410</td>\n",
       "      <td>bar</td>\n",
       "      <td>Utopia</td>\n",
       "      <td>POINT (-58.43060 -34.58867)</td>\n",
       "      <td>1590</td>\n",
       "      <td>Serrano</td>\n",
       "      <td>NaN</td>\n",
       "      <td>NaN</td>\n",
       "      <td>NaN</td>\n",
       "      <td>...</td>\n",
       "      <td>NaN</td>\n",
       "      <td>NaN</td>\n",
       "      <td>NaN</td>\n",
       "      <td>NaN</td>\n",
       "      <td>NaN</td>\n",
       "      <td>NaN</td>\n",
       "      <td>NaN</td>\n",
       "      <td>NaN</td>\n",
       "      <td>NaN</td>\n",
       "      <td>NaN</td>\n",
       "    </tr>\n",
       "    <tr>\n",
       "      <th>2</th>\n",
       "      <td>node</td>\n",
       "      <td>479757411</td>\n",
       "      <td>bar</td>\n",
       "      <td>Prólogo</td>\n",
       "      <td>POINT (-58.43063 -34.58874)</td>\n",
       "      <td>1580</td>\n",
       "      <td>Serrano</td>\n",
       "      <td>NaN</td>\n",
       "      <td>NaN</td>\n",
       "      <td>NaN</td>\n",
       "      <td>...</td>\n",
       "      <td>NaN</td>\n",
       "      <td>NaN</td>\n",
       "      <td>NaN</td>\n",
       "      <td>NaN</td>\n",
       "      <td>NaN</td>\n",
       "      <td>NaN</td>\n",
       "      <td>NaN</td>\n",
       "      <td>NaN</td>\n",
       "      <td>NaN</td>\n",
       "      <td>NaN</td>\n",
       "    </tr>\n",
       "    <tr>\n",
       "      <th>3</th>\n",
       "      <td>node</td>\n",
       "      <td>479757412</td>\n",
       "      <td>bar</td>\n",
       "      <td>Tazz</td>\n",
       "      <td>POINT (-58.43065 -34.58885)</td>\n",
       "      <td>1556</td>\n",
       "      <td>Serrano</td>\n",
       "      <td>NaN</td>\n",
       "      <td>NaN</td>\n",
       "      <td>NaN</td>\n",
       "      <td>...</td>\n",
       "      <td>NaN</td>\n",
       "      <td>NaN</td>\n",
       "      <td>NaN</td>\n",
       "      <td>NaN</td>\n",
       "      <td>NaN</td>\n",
       "      <td>NaN</td>\n",
       "      <td>NaN</td>\n",
       "      <td>NaN</td>\n",
       "      <td>NaN</td>\n",
       "      <td>NaN</td>\n",
       "    </tr>\n",
       "    <tr>\n",
       "      <th>4</th>\n",
       "      <td>node</td>\n",
       "      <td>724259211</td>\n",
       "      <td>bar</td>\n",
       "      <td>Aroma Freddo</td>\n",
       "      <td>POINT (-58.37534 -34.60299)</td>\n",
       "      <td>NaN</td>\n",
       "      <td>NaN</td>\n",
       "      <td>NaN</td>\n",
       "      <td>NaN</td>\n",
       "      <td>NaN</td>\n",
       "      <td>...</td>\n",
       "      <td>NaN</td>\n",
       "      <td>NaN</td>\n",
       "      <td>NaN</td>\n",
       "      <td>NaN</td>\n",
       "      <td>NaN</td>\n",
       "      <td>NaN</td>\n",
       "      <td>NaN</td>\n",
       "      <td>NaN</td>\n",
       "      <td>NaN</td>\n",
       "      <td>NaN</td>\n",
       "    </tr>\n",
       "    <tr>\n",
       "      <th>...</th>\n",
       "      <td>...</td>\n",
       "      <td>...</td>\n",
       "      <td>...</td>\n",
       "      <td>...</td>\n",
       "      <td>...</td>\n",
       "      <td>...</td>\n",
       "      <td>...</td>\n",
       "      <td>...</td>\n",
       "      <td>...</td>\n",
       "      <td>...</td>\n",
       "      <td>...</td>\n",
       "      <td>...</td>\n",
       "      <td>...</td>\n",
       "      <td>...</td>\n",
       "      <td>...</td>\n",
       "      <td>...</td>\n",
       "      <td>...</td>\n",
       "      <td>...</td>\n",
       "      <td>...</td>\n",
       "      <td>...</td>\n",
       "      <td>...</td>\n",
       "    </tr>\n",
       "    <tr>\n",
       "      <th>372</th>\n",
       "      <td>node</td>\n",
       "      <td>11374867037</td>\n",
       "      <td>bar</td>\n",
       "      <td>Vinoteca</td>\n",
       "      <td>POINT (-58.42252 -34.58801)</td>\n",
       "      <td>NaN</td>\n",
       "      <td>NaN</td>\n",
       "      <td>NaN</td>\n",
       "      <td>NaN</td>\n",
       "      <td>NaN</td>\n",
       "      <td>...</td>\n",
       "      <td>NaN</td>\n",
       "      <td>NaN</td>\n",
       "      <td>NaN</td>\n",
       "      <td>NaN</td>\n",
       "      <td>NaN</td>\n",
       "      <td>NaN</td>\n",
       "      <td>NaN</td>\n",
       "      <td>NaN</td>\n",
       "      <td>NaN</td>\n",
       "      <td>NaN</td>\n",
       "    </tr>\n",
       "    <tr>\n",
       "      <th>373</th>\n",
       "      <td>node</td>\n",
       "      <td>11374906591</td>\n",
       "      <td>bar</td>\n",
       "      <td>Puerta Uno Bar</td>\n",
       "      <td>POINT (-58.44974 -34.55778)</td>\n",
       "      <td>NaN</td>\n",
       "      <td>NaN</td>\n",
       "      <td>NaN</td>\n",
       "      <td>NaN</td>\n",
       "      <td>NaN</td>\n",
       "      <td>...</td>\n",
       "      <td>NaN</td>\n",
       "      <td>NaN</td>\n",
       "      <td>NaN</td>\n",
       "      <td>NaN</td>\n",
       "      <td>NaN</td>\n",
       "      <td>NaN</td>\n",
       "      <td>NaN</td>\n",
       "      <td>NaN</td>\n",
       "      <td>NaN</td>\n",
       "      <td>NaN</td>\n",
       "    </tr>\n",
       "    <tr>\n",
       "      <th>374</th>\n",
       "      <td>node</td>\n",
       "      <td>11414670710</td>\n",
       "      <td>bar</td>\n",
       "      <td>New Fama</td>\n",
       "      <td>POINT (-58.39055 -34.60548)</td>\n",
       "      <td>1685</td>\n",
       "      <td>NaN</td>\n",
       "      <td>NaN</td>\n",
       "      <td>NaN</td>\n",
       "      <td>NaN</td>\n",
       "      <td>...</td>\n",
       "      <td>NaN</td>\n",
       "      <td>NaN</td>\n",
       "      <td>NaN</td>\n",
       "      <td>NaN</td>\n",
       "      <td>NaN</td>\n",
       "      <td>NaN</td>\n",
       "      <td>NaN</td>\n",
       "      <td>NaN</td>\n",
       "      <td>NaN</td>\n",
       "      <td>NaN</td>\n",
       "    </tr>\n",
       "    <tr>\n",
       "      <th>375</th>\n",
       "      <td>node</td>\n",
       "      <td>11414682192</td>\n",
       "      <td>bar</td>\n",
       "      <td>Kooperation BAs</td>\n",
       "      <td>POINT (-58.38930 -34.60377)</td>\n",
       "      <td>NaN</td>\n",
       "      <td>NaN</td>\n",
       "      <td>NaN</td>\n",
       "      <td>NaN</td>\n",
       "      <td>NaN</td>\n",
       "      <td>...</td>\n",
       "      <td>NaN</td>\n",
       "      <td>NaN</td>\n",
       "      <td>NaN</td>\n",
       "      <td>NaN</td>\n",
       "      <td>NaN</td>\n",
       "      <td>NaN</td>\n",
       "      <td>NaN</td>\n",
       "      <td>NaN</td>\n",
       "      <td>NaN</td>\n",
       "      <td>NaN</td>\n",
       "    </tr>\n",
       "    <tr>\n",
       "      <th>376</th>\n",
       "      <td>node</td>\n",
       "      <td>11417458270</td>\n",
       "      <td>bar</td>\n",
       "      <td>Antares</td>\n",
       "      <td>POINT (-58.44269 -34.62685)</td>\n",
       "      <td>NaN</td>\n",
       "      <td>NaN</td>\n",
       "      <td>NaN</td>\n",
       "      <td>NaN</td>\n",
       "      <td>NaN</td>\n",
       "      <td>...</td>\n",
       "      <td>NaN</td>\n",
       "      <td>NaN</td>\n",
       "      <td>NaN</td>\n",
       "      <td>NaN</td>\n",
       "      <td>NaN</td>\n",
       "      <td>NaN</td>\n",
       "      <td>NaN</td>\n",
       "      <td>NaN</td>\n",
       "      <td>NaN</td>\n",
       "      <td>NaN</td>\n",
       "    </tr>\n",
       "  </tbody>\n",
       "</table>\n",
       "<p>377 rows × 87 columns</p>\n",
       "</div>"
      ],
      "text/plain": [
       "    element_type        osmid amenity             name  \\\n",
       "0           node    479757409     bar      Macondo Bar   \n",
       "1           node    479757410     bar           Utopia   \n",
       "2           node    479757411     bar          Prólogo   \n",
       "3           node    479757412     bar             Tazz   \n",
       "4           node    724259211     bar     Aroma Freddo   \n",
       "..           ...          ...     ...              ...   \n",
       "372         node  11374867037     bar         Vinoteca   \n",
       "373         node  11374906591     bar   Puerta Uno Bar   \n",
       "374         node  11414670710     bar         New Fama   \n",
       "375         node  11414682192     bar  Kooperation BAs   \n",
       "376         node  11417458270     bar          Antares   \n",
       "\n",
       "                        geometry addr:housenumber addr:street cuisine  \\\n",
       "0    POINT (-58.43028 -34.58851)              NaN         NaN     NaN   \n",
       "1    POINT (-58.43060 -34.58867)             1590     Serrano     NaN   \n",
       "2    POINT (-58.43063 -34.58874)             1580     Serrano     NaN   \n",
       "3    POINT (-58.43065 -34.58885)             1556     Serrano     NaN   \n",
       "4    POINT (-58.37534 -34.60299)              NaN         NaN     NaN   \n",
       "..                           ...              ...         ...     ...   \n",
       "372  POINT (-58.42252 -34.58801)              NaN         NaN     NaN   \n",
       "373  POINT (-58.44974 -34.55778)              NaN         NaN     NaN   \n",
       "374  POINT (-58.39055 -34.60548)             1685         NaN     NaN   \n",
       "375  POINT (-58.38930 -34.60377)              NaN         NaN     NaN   \n",
       "376  POINT (-58.44269 -34.62685)              NaN         NaN     NaN   \n",
       "\n",
       "    internet_access old_name  ... clothes nodes building instagram  \\\n",
       "0               NaN      NaN  ...     NaN   NaN      NaN       NaN   \n",
       "1               NaN      NaN  ...     NaN   NaN      NaN       NaN   \n",
       "2               NaN      NaN  ...     NaN   NaN      NaN       NaN   \n",
       "3               NaN      NaN  ...     NaN   NaN      NaN       NaN   \n",
       "4               NaN      NaN  ...     NaN   NaN      NaN       NaN   \n",
       "..              ...      ...  ...     ...   ...      ...       ...   \n",
       "372             NaN      NaN  ...     NaN   NaN      NaN       NaN   \n",
       "373             NaN      NaN  ...     NaN   NaN      NaN       NaN   \n",
       "374             NaN      NaN  ...     NaN   NaN      NaN       NaN   \n",
       "375             NaN      NaN  ...     NaN   NaN      NaN       NaN   \n",
       "376             NaN      NaN  ...     NaN   NaN      NaN       NaN   \n",
       "\n",
       "    building:levels toilets:wheelchair website:menu contact:mobile height  \\\n",
       "0               NaN                NaN          NaN            NaN    NaN   \n",
       "1               NaN                NaN          NaN            NaN    NaN   \n",
       "2               NaN                NaN          NaN            NaN    NaN   \n",
       "3               NaN                NaN          NaN            NaN    NaN   \n",
       "4               NaN                NaN          NaN            NaN    NaN   \n",
       "..              ...                ...          ...            ...    ...   \n",
       "372             NaN                NaN          NaN            NaN    NaN   \n",
       "373             NaN                NaN          NaN            NaN    NaN   \n",
       "374             NaN                NaN          NaN            NaN    NaN   \n",
       "375             NaN                NaN          NaN            NaN    NaN   \n",
       "376             NaN                NaN          NaN            NaN    NaN   \n",
       "\n",
       "    opening_hours:kitchen  \n",
       "0                     NaN  \n",
       "1                     NaN  \n",
       "2                     NaN  \n",
       "3                     NaN  \n",
       "4                     NaN  \n",
       "..                    ...  \n",
       "372                   NaN  \n",
       "373                   NaN  \n",
       "374                   NaN  \n",
       "375                   NaN  \n",
       "376                   NaN  \n",
       "\n",
       "[377 rows x 87 columns]"
      ]
     },
     "execution_count": 8,
     "metadata": {},
     "output_type": "execute_result"
    }
   ],
   "source": [
    "gdf2.to_crs(epsg=4326)"
   ]
  },
  {
   "cell_type": "code",
   "execution_count": 9,
   "id": "2c4ba315",
   "metadata": {},
   "outputs": [],
   "source": [
    "# Rename the 'name' column to 'bar name'\n",
    "gdf2 = gdf2.rename(columns={'name': 'Bar name'})"
   ]
  },
  {
   "cell_type": "code",
   "execution_count": 10,
   "id": "c5ff89f8",
   "metadata": {},
   "outputs": [
    {
     "name": "stderr",
     "output_type": "stream",
     "text": [
      "c:\\Program Files\\Python310\\lib\\site-packages\\plotly\\io\\_renderers.py:395: DeprecationWarning:\n",
      "\n",
      "distutils Version classes are deprecated. Use packaging.version instead.\n",
      "\n"
     ]
    },
    {
     "data": {
      "application/vnd.plotly.v1+json": {
       "config": {
        "plotlyServerURL": "https://plot.ly"
       },
       "data": [
        {
         "hovertemplate": "Bar name=Macondo Bar<br>lat=%{lat}<br>lon=%{lon}<extra></extra>",
         "lat": [
          -34.5885084
         ],
         "legendgroup": "Macondo Bar",
         "lon": [
          -58.4302819
         ],
         "marker": {
          "color": "#636efa"
         },
         "mode": "markers",
         "name": "Macondo Bar",
         "showlegend": true,
         "subplot": "mapbox",
         "type": "scattermapbox"
        },
        {
         "hovertemplate": "Bar name=Utopia<br>lat=%{lat}<br>lon=%{lon}<extra></extra>",
         "lat": [
          -34.5886691
         ],
         "legendgroup": "Utopia",
         "lon": [
          -58.4306045
         ],
         "marker": {
          "color": "#EF553B"
         },
         "mode": "markers",
         "name": "Utopia",
         "showlegend": true,
         "subplot": "mapbox",
         "type": "scattermapbox"
        },
        {
         "hovertemplate": "Bar name=Prólogo<br>lat=%{lat}<br>lon=%{lon}<extra></extra>",
         "lat": [
          -34.5887357
         ],
         "legendgroup": "Prólogo",
         "lon": [
          -58.4306292
         ],
         "marker": {
          "color": "#00cc96"
         },
         "mode": "markers",
         "name": "Prólogo",
         "showlegend": true,
         "subplot": "mapbox",
         "type": "scattermapbox"
        },
        {
         "hovertemplate": "Bar name=Tazz<br>lat=%{lat}<br>lon=%{lon}<extra></extra>",
         "lat": [
          -34.5888504
         ],
         "legendgroup": "Tazz",
         "lon": [
          -58.4306506
         ],
         "marker": {
          "color": "#ab63fa"
         },
         "mode": "markers",
         "name": "Tazz",
         "showlegend": true,
         "subplot": "mapbox",
         "type": "scattermapbox"
        },
        {
         "hovertemplate": "Bar name=Aroma Freddo<br>lat=%{lat}<br>lon=%{lon}<extra></extra>",
         "lat": [
          -34.6029855
         ],
         "legendgroup": "Aroma Freddo",
         "lon": [
          -58.3753399
         ],
         "marker": {
          "color": "#FFA15A"
         },
         "mode": "markers",
         "name": "Aroma Freddo",
         "showlegend": true,
         "subplot": "mapbox",
         "type": "scattermapbox"
        },
        {
         "hovertemplate": "Bar name=Revire<br>lat=%{lat}<br>lon=%{lon}<extra></extra>",
         "lat": [
          -34.6039235
         ],
         "legendgroup": "Revire",
         "lon": [
          -58.3825501
         ],
         "marker": {
          "color": "#19d3f3"
         },
         "mode": "markers",
         "name": "Revire",
         "showlegend": true,
         "subplot": "mapbox",
         "type": "scattermapbox"
        },
        {
         "hovertemplate": "Bar name=Cervecería Doctor & Co.<br>lat=%{lat}<br>lon=%{lon}<extra></extra>",
         "lat": [
          -34.569828
         ],
         "legendgroup": "Cervecería Doctor & Co.",
         "lon": [
          -58.4832754
         ],
         "marker": {
          "color": "#FF6692"
         },
         "mode": "markers",
         "name": "Cervecería Doctor & Co.",
         "showlegend": true,
         "subplot": "mapbox",
         "type": "scattermapbox"
        },
        {
         "hovertemplate": "Bar name=Herman<br>lat=%{lat}<br>lon=%{lon}<extra></extra>",
         "lat": [
          -34.5758162
         ],
         "legendgroup": "Herman",
         "lon": [
          -58.4886899
         ],
         "marker": {
          "color": "#B6E880"
         },
         "mode": "markers",
         "name": "Herman",
         "showlegend": true,
         "subplot": "mapbox",
         "type": "scattermapbox"
        },
        {
         "hovertemplate": "Bar name=Los Galgos<br>lat=%{lat}<br>lon=%{lon}<extra></extra>",
         "lat": [
          -34.6030051
         ],
         "legendgroup": "Los Galgos",
         "lon": [
          -58.392251
         ],
         "marker": {
          "color": "#FF97FF"
         },
         "mode": "markers",
         "name": "Los Galgos",
         "showlegend": true,
         "subplot": "mapbox",
         "type": "scattermapbox"
        },
        {
         "hovertemplate": "Bar name=San Salvador<br>lat=%{lat}<br>lon=%{lon}<extra></extra>",
         "lat": [
          -34.6016992
         ],
         "legendgroup": "San Salvador",
         "lon": [
          -58.3924261
         ],
         "marker": {
          "color": "#FECB52"
         },
         "mode": "markers",
         "name": "San Salvador",
         "showlegend": true,
         "subplot": "mapbox",
         "type": "scattermapbox"
        },
        {
         "hovertemplate": "Bar name=Notorious<br>lat=%{lat}<br>lon=%{lon}<extra></extra>",
         "lat": [
          -34.5977928
         ],
         "legendgroup": "Notorious",
         "lon": [
          -58.393298
         ],
         "marker": {
          "color": "#636efa"
         },
         "mode": "markers",
         "name": "Notorious",
         "showlegend": true,
         "subplot": "mapbox",
         "type": "scattermapbox"
        },
        {
         "hovertemplate": "Bar name=Iruya<br>lat=%{lat}<br>lon=%{lon}<extra></extra>",
         "lat": [
          -34.5988121
         ],
         "legendgroup": "Iruya",
         "lon": [
          -58.3935303
         ],
         "marker": {
          "color": "#EF553B"
         },
         "mode": "markers",
         "name": "Iruya",
         "showlegend": true,
         "subplot": "mapbox",
         "type": "scattermapbox"
        },
        {
         "hovertemplate": "Bar name=Boston<br>lat=%{lat}<br>lon=%{lon}<extra></extra>",
         "lat": [
          -34.6040793
         ],
         "legendgroup": "Boston",
         "lon": [
          -58.3940413
         ],
         "marker": {
          "color": "#00cc96"
         },
         "mode": "markers",
         "name": "Boston",
         "showlegend": true,
         "subplot": "mapbox",
         "type": "scattermapbox"
        },
        {
         "hovertemplate": "Bar name=Cine Bar<br>lat=%{lat}<br>lon=%{lon}<extra></extra>",
         "lat": [
          -34.6034
         ],
         "legendgroup": "Cine Bar",
         "lon": [
          -58.3955902
         ],
         "marker": {
          "color": "#ab63fa"
         },
         "mode": "markers",
         "name": "Cine Bar",
         "showlegend": true,
         "subplot": "mapbox",
         "type": "scattermapbox"
        },
        {
         "hovertemplate": "Bar name=Santa Cebada<br>lat=%{lat}<br>lon=%{lon}<extra></extra>",
         "lat": [
          -34.599588
         ],
         "legendgroup": "Santa Cebada",
         "lon": [
          -58.3959867
         ],
         "marker": {
          "color": "#FFA15A"
         },
         "mode": "markers",
         "name": "Santa Cebada",
         "showlegend": true,
         "subplot": "mapbox",
         "type": "scattermapbox"
        },
        {
         "hovertemplate": "Bar name=Kandinsky<br>lat=%{lat}<br>lon=%{lon}<extra></extra>",
         "lat": [
          -34.5977694
         ],
         "legendgroup": "Kandinsky",
         "lon": [
          -58.3960798
         ],
         "marker": {
          "color": "#19d3f3"
         },
         "mode": "markers",
         "name": "Kandinsky",
         "showlegend": true,
         "subplot": "mapbox",
         "type": "scattermapbox"
        },
        {
         "hovertemplate": "Bar name=Lavalle<br>lat=%{lat}<br>lon=%{lon}<extra></extra>",
         "lat": [
          -34.6029674
         ],
         "legendgroup": "Lavalle",
         "lon": [
          -58.3910396
         ],
         "marker": {
          "color": "#B6E880"
         },
         "mode": "markers",
         "name": "Lavalle",
         "showlegend": true,
         "subplot": "mapbox",
         "type": "scattermapbox"
        },
        {
         "hovertemplate": "Bar name=Saudade<br>lat=%{lat}<br>lon=%{lon}<extra></extra>",
         "lat": [
          -34.6010184
         ],
         "legendgroup": "Saudade",
         "lon": [
          -58.3915116
         ],
         "marker": {
          "color": "#FF97FF"
         },
         "mode": "markers",
         "name": "Saudade",
         "showlegend": true,
         "subplot": "mapbox",
         "type": "scattermapbox"
        },
        {
         "hovertemplate": "Bar name=Metro<br>lat=%{lat}<br>lon=%{lon}<extra></extra>",
         "lat": [
          -34.5997932
         ],
         "legendgroup": "Metro",
         "lon": [
          -58.3916591
         ],
         "marker": {
          "color": "#FECB52"
         },
         "mode": "markers",
         "name": "Metro",
         "showlegend": true,
         "subplot": "mapbox",
         "type": "scattermapbox"
        },
        {
         "hovertemplate": "Bar name=Encuentro Sudeste<br>lat=%{lat}<br>lon=%{lon}<extra></extra>",
         "lat": [
          -34.6041618
         ],
         "legendgroup": "Encuentro Sudeste",
         "lon": [
          -58.3916967
         ],
         "marker": {
          "color": "#636efa"
         },
         "mode": "markers",
         "name": "Encuentro Sudeste",
         "showlegend": true,
         "subplot": "mapbox",
         "type": "scattermapbox"
        },
        {
         "hovertemplate": "Bar name=Am Bar Gris<br>lat=%{lat}<br>lon=%{lon}<extra></extra>",
         "lat": [
          -34.6034707
         ],
         "legendgroup": "Am Bar Gris",
         "lon": [
          -58.390993
         ],
         "marker": {
          "color": "#EF553B"
         },
         "mode": "markers",
         "name": "Am Bar Gris",
         "showlegend": true,
         "subplot": "mapbox",
         "type": "scattermapbox"
        },
        {
         "hovertemplate": "Bar name=Tataki<br>lat=%{lat}<br>lon=%{lon}<extra></extra>",
         "lat": [
          -34.6038306
         ],
         "legendgroup": "Tataki",
         "lon": [
          -58.3906775
         ],
         "marker": {
          "color": "#00cc96"
         },
         "mode": "markers",
         "name": "Tataki",
         "showlegend": true,
         "subplot": "mapbox",
         "type": "scattermapbox"
        },
        {
         "hovertemplate": "Bar name=El Galeno<br>lat=%{lat}<br>lon=%{lon}<extra></extra>",
         "lat": [
          -34.5970828
         ],
         "legendgroup": "El Galeno",
         "lon": [
          -58.3976695
         ],
         "marker": {
          "color": "#ab63fa"
         },
         "mode": "markers",
         "name": "El Galeno",
         "showlegend": true,
         "subplot": "mapbox",
         "type": "scattermapbox"
        },
        {
         "hovertemplate": "Bar name=Oasis<br>lat=%{lat}<br>lon=%{lon}<extra></extra>",
         "lat": [
          -34.5951101
         ],
         "legendgroup": "Oasis",
         "lon": [
          -58.3934689
         ],
         "marker": {
          "color": "#FFA15A"
         },
         "mode": "markers",
         "name": "Oasis",
         "showlegend": true,
         "subplot": "mapbox",
         "type": "scattermapbox"
        },
        {
         "hovertemplate": "Bar name=The Bangalore & Company<br>lat=%{lat}<br>lon=%{lon}<extra></extra>",
         "lat": [
          -34.5871611
         ],
         "legendgroup": "The Bangalore & Company",
         "lon": [
          -58.4381963
         ],
         "marker": {
          "color": "#19d3f3"
         },
         "mode": "markers",
         "name": "The Bangalore & Company",
         "showlegend": true,
         "subplot": "mapbox",
         "type": "scattermapbox"
        },
        {
         "hovertemplate": "Bar name=Facundo<br>lat=%{lat}<br>lon=%{lon}<extra></extra>",
         "lat": [
          -34.5972078
         ],
         "legendgroup": "Facundo",
         "lon": [
          -58.3883688
         ],
         "marker": {
          "color": "#FF6692"
         },
         "mode": "markers",
         "name": "Facundo",
         "showlegend": true,
         "subplot": "mapbox",
         "type": "scattermapbox"
        },
        {
         "hovertemplate": "Bar name=Bogotá<br>lat=%{lat}<br>lon=%{lon}<extra></extra>",
         "lat": [
          -34.5943629
         ],
         "legendgroup": "Bogotá",
         "lon": [
          -58.3901858
         ],
         "marker": {
          "color": "#B6E880"
         },
         "mode": "markers",
         "name": "Bogotá",
         "showlegend": true,
         "subplot": "mapbox",
         "type": "scattermapbox"
        },
        {
         "hovertemplate": "Bar name=Lasalle<br>lat=%{lat}<br>lon=%{lon}<extra></extra>",
         "lat": [
          -34.6072707
         ],
         "legendgroup": "Lasalle",
         "lon": [
          -58.3967557
         ],
         "marker": {
          "color": "#FF97FF"
         },
         "mode": "markers",
         "name": "Lasalle",
         "showlegend": true,
         "subplot": "mapbox",
         "type": "scattermapbox"
        },
        {
         "hovertemplate": "Bar name=Jack the Ripper<br>lat=%{lat}<br>lon=%{lon}<extra></extra>",
         "lat": [
          -34.5933349
         ],
         "legendgroup": "Jack the Ripper",
         "lon": [
          -58.3843211
         ],
         "marker": {
          "color": "#FECB52"
         },
         "mode": "markers",
         "name": "Jack the Ripper",
         "showlegend": true,
         "subplot": "mapbox",
         "type": "scattermapbox"
        },
        {
         "hovertemplate": "Bar name=La Esperanza De Los Ascurra<br>lat=%{lat}<br>lon=%{lon}<extra></extra>",
         "lat": [
          -34.5976329
         ],
         "legendgroup": "La Esperanza De Los Ascurra",
         "lon": [
          -58.4358507
         ],
         "marker": {
          "color": "#636efa"
         },
         "mode": "markers",
         "name": "La Esperanza De Los Ascurra",
         "showlegend": true,
         "subplot": "mapbox",
         "type": "scattermapbox"
        },
        {
         "hovertemplate": "Bar name=El Beso Club<br>lat=%{lat}<br>lon=%{lon}<extra></extra>",
         "lat": [
          -34.6041407
         ],
         "legendgroup": "El Beso Club",
         "lon": [
          -58.39399
         ],
         "marker": {
          "color": "#EF553B"
         },
         "mode": "markers",
         "name": "El Beso Club",
         "showlegend": true,
         "subplot": "mapbox",
         "type": "scattermapbox"
        },
        {
         "hovertemplate": "Bar name=Todo Mundo<br>lat=%{lat}<br>lon=%{lon}<extra></extra>",
         "lat": [
          -34.6206269
         ],
         "legendgroup": "Todo Mundo",
         "lon": [
          -58.372189
         ],
         "marker": {
          "color": "#00cc96"
         },
         "mode": "markers",
         "name": "Todo Mundo",
         "showlegend": true,
         "subplot": "mapbox",
         "type": "scattermapbox"
        },
        {
         "hovertemplate": "Bar name=Patagonia<br>lat=%{lat}<br>lon=%{lon}<extra></extra>",
         "lat": [
          -34.6204195
         ],
         "legendgroup": "Patagonia",
         "lon": [
          -58.3722558
         ],
         "marker": {
          "color": "#ab63fa"
         },
         "mode": "markers",
         "name": "Patagonia",
         "showlegend": true,
         "subplot": "mapbox",
         "type": "scattermapbox"
        },
        {
         "hovertemplate": "Bar name=Olazabar<br>lat=%{lat}<br>lon=%{lon}<extra></extra>",
         "lat": [
          -34.5554173
         ],
         "legendgroup": "Olazabar",
         "lon": [
          -58.4500368
         ],
         "marker": {
          "color": "#FFA15A"
         },
         "mode": "markers",
         "name": "Olazabar",
         "showlegend": true,
         "subplot": "mapbox",
         "type": "scattermapbox"
        },
        {
         "hovertemplate": "Bar name=Open Bar<br>lat=%{lat}<br>lon=%{lon}<extra></extra>",
         "lat": [
          -34.5411585,
          -34.5407604,
          -34.5409386
         ],
         "legendgroup": "Open Bar",
         "lon": [
          -58.4743184,
          -58.474096,
          -58.4745906
         ],
         "marker": {
          "color": "#19d3f3"
         },
         "mode": "markers",
         "name": "Open Bar",
         "showlegend": true,
         "subplot": "mapbox",
         "type": "scattermapbox"
        },
        {
         "hovertemplate": "Bar name=Bitter<br>lat=%{lat}<br>lon=%{lon}<extra></extra>",
         "lat": [
          -34.563582
         ],
         "legendgroup": "Bitter",
         "lon": [
          -58.454838
         ],
         "marker": {
          "color": "#FF6692"
         },
         "mode": "markers",
         "name": "Bitter",
         "showlegend": true,
         "subplot": "mapbox",
         "type": "scattermapbox"
        },
        {
         "hovertemplate": "Bar name=Diseño Bar<br>lat=%{lat}<br>lon=%{lon}<extra></extra>",
         "lat": [
          -34.5572788
         ],
         "legendgroup": "Diseño Bar",
         "lon": [
          -58.4469172
         ],
         "marker": {
          "color": "#B6E880"
         },
         "mode": "markers",
         "name": "Diseño Bar",
         "showlegend": true,
         "subplot": "mapbox",
         "type": "scattermapbox"
        },
        {
         "hovertemplate": "Bar name=Bar<br>lat=%{lat}<br>lon=%{lon}<extra></extra>",
         "lat": [
          -34.6004369,
          -34.5909632
         ],
         "legendgroup": "Bar",
         "lon": [
          -58.4204773,
          -58.3867987
         ],
         "marker": {
          "color": "#FF97FF"
         },
         "mode": "markers",
         "name": "Bar",
         "showlegend": true,
         "subplot": "mapbox",
         "type": "scattermapbox"
        },
        {
         "hovertemplate": "Bar name=El Marquee<br>lat=%{lat}<br>lon=%{lon}<extra></extra>",
         "lat": [
          -34.5973981
         ],
         "legendgroup": "El Marquee",
         "lon": [
          -58.4351688
         ],
         "marker": {
          "color": "#FECB52"
         },
         "mode": "markers",
         "name": "El Marquee",
         "showlegend": true,
         "subplot": "mapbox",
         "type": "scattermapbox"
        },
        {
         "hovertemplate": "Bar name=Dark Bar<br>lat=%{lat}<br>lon=%{lon}<extra></extra>",
         "lat": [
          -34.6090476
         ],
         "legendgroup": "Dark Bar",
         "lon": [
          -58.3793581
         ],
         "marker": {
          "color": "#636efa"
         },
         "mode": "markers",
         "name": "Dark Bar",
         "showlegend": true,
         "subplot": "mapbox",
         "type": "scattermapbox"
        },
        {
         "hovertemplate": "Bar name=Downtown Matias<br>lat=%{lat}<br>lon=%{lon}<extra></extra>",
         "lat": [
          -34.5672576
         ],
         "legendgroup": "Downtown Matias",
         "lon": [
          -58.463383
         ],
         "marker": {
          "color": "#EF553B"
         },
         "mode": "markers",
         "name": "Downtown Matias",
         "showlegend": true,
         "subplot": "mapbox",
         "type": "scattermapbox"
        },
        {
         "hovertemplate": "Bar name=The Oldest<br>lat=%{lat}<br>lon=%{lon}<extra></extra>",
         "lat": [
          -34.6172849
         ],
         "legendgroup": "The Oldest",
         "lon": [
          -58.435369
         ],
         "marker": {
          "color": "#00cc96"
         },
         "mode": "markers",
         "name": "The Oldest",
         "showlegend": true,
         "subplot": "mapbox",
         "type": "scattermapbox"
        },
        {
         "hovertemplate": "Bar name=A lo de Juana<br>lat=%{lat}<br>lon=%{lon}<extra></extra>",
         "lat": [
          -34.5643727
         ],
         "legendgroup": "A lo de Juana",
         "lon": [
          -58.4560423
         ],
         "marker": {
          "color": "#ab63fa"
         },
         "mode": "markers",
         "name": "A lo de Juana",
         "showlegend": true,
         "subplot": "mapbox",
         "type": "scattermapbox"
        },
        {
         "hovertemplate": "Bar name=Amaro<br>lat=%{lat}<br>lon=%{lon}<extra></extra>",
         "lat": [
          -34.5411263
         ],
         "legendgroup": "Amaro",
         "lon": [
          -58.4648745
         ],
         "marker": {
          "color": "#FFA15A"
         },
         "mode": "markers",
         "name": "Amaro",
         "showlegend": true,
         "subplot": "mapbox",
         "type": "scattermapbox"
        },
        {
         "hovertemplate": "Bar name=Piur Disco<br>lat=%{lat}<br>lon=%{lon}<extra></extra>",
         "lat": [
          -34.5499561
         ],
         "legendgroup": "Piur Disco",
         "lon": [
          -58.4296738
         ],
         "marker": {
          "color": "#19d3f3"
         },
         "mode": "markers",
         "name": "Piur Disco",
         "showlegend": true,
         "subplot": "mapbox",
         "type": "scattermapbox"
        },
        {
         "hovertemplate": "Bar name=Casona cultural Humahuaca<br>lat=%{lat}<br>lon=%{lon}<extra></extra>",
         "lat": [
          -34.6029403
         ],
         "legendgroup": "Casona cultural Humahuaca",
         "lon": [
          -58.41456
         ],
         "marker": {
          "color": "#FF6692"
         },
         "mode": "markers",
         "name": "Casona cultural Humahuaca",
         "showlegend": true,
         "subplot": "mapbox",
         "type": "scattermapbox"
        },
        {
         "hovertemplate": "Bar name=Bar Sur<br>lat=%{lat}<br>lon=%{lon}<extra></extra>",
         "lat": [
          -34.6183462
         ],
         "legendgroup": "Bar Sur",
         "lon": [
          -58.3700905
         ],
         "marker": {
          "color": "#B6E880"
         },
         "mode": "markers",
         "name": "Bar Sur",
         "showlegend": true,
         "subplot": "mapbox",
         "type": "scattermapbox"
        },
        {
         "hovertemplate": "Bar name=El Federal<br>lat=%{lat}<br>lon=%{lon}<extra></extra>",
         "lat": [
          -34.6195938
         ],
         "legendgroup": "El Federal",
         "lon": [
          -58.3741592
         ],
         "marker": {
          "color": "#FF97FF"
         },
         "mode": "markers",
         "name": "El Federal",
         "showlegend": true,
         "subplot": "mapbox",
         "type": "scattermapbox"
        },
        {
         "hovertemplate": "Bar name=Club Fulgor<br>lat=%{lat}<br>lon=%{lon}<extra></extra>",
         "lat": [
          -34.5933957
         ],
         "legendgroup": "Club Fulgor",
         "lon": [
          -58.4380657
         ],
         "marker": {
          "color": "#FECB52"
         },
         "mode": "markers",
         "name": "Club Fulgor",
         "showlegend": true,
         "subplot": "mapbox",
         "type": "scattermapbox"
        },
        {
         "hovertemplate": "Bar name=Achtung Bar<br>lat=%{lat}<br>lon=%{lon}<extra></extra>",
         "lat": [
          -34.6184473
         ],
         "legendgroup": "Achtung Bar",
         "lon": [
          -58.3733294
         ],
         "marker": {
          "color": "#636efa"
         },
         "mode": "markers",
         "name": "Achtung Bar",
         "showlegend": true,
         "subplot": "mapbox",
         "type": "scattermapbox"
        },
        {
         "hovertemplate": "Bar name=Maldita Milonga<br>lat=%{lat}<br>lon=%{lon}<extra></extra>",
         "lat": [
          -34.6147015
         ],
         "legendgroup": "Maldita Milonga",
         "lon": [
          -58.3746945
         ],
         "marker": {
          "color": "#EF553B"
         },
         "mode": "markers",
         "name": "Maldita Milonga",
         "showlegend": true,
         "subplot": "mapbox",
         "type": "scattermapbox"
        },
        {
         "hovertemplate": "Bar name=Club Independencia<br>lat=%{lat}<br>lon=%{lon}<extra></extra>",
         "lat": [
          -34.6174096
         ],
         "legendgroup": "Club Independencia",
         "lon": [
          -58.3740421
         ],
         "marker": {
          "color": "#00cc96"
         },
         "mode": "markers",
         "name": "Club Independencia",
         "showlegend": true,
         "subplot": "mapbox",
         "type": "scattermapbox"
        },
        {
         "hovertemplate": "Bar name=El Refuerzo<br>lat=%{lat}<br>lon=%{lon}<extra></extra>",
         "lat": [
          -34.6181531
         ],
         "legendgroup": "El Refuerzo",
         "lon": [
          -58.3758071
         ],
         "marker": {
          "color": "#ab63fa"
         },
         "mode": "markers",
         "name": "El Refuerzo",
         "showlegend": true,
         "subplot": "mapbox",
         "type": "scattermapbox"
        },
        {
         "hovertemplate": "Bar name=Valentino<br>lat=%{lat}<br>lon=%{lon}<extra></extra>",
         "lat": [
          -34.6184497
         ],
         "legendgroup": "Valentino",
         "lon": [
          -58.3744416
         ],
         "marker": {
          "color": "#FFA15A"
         },
         "mode": "markers",
         "name": "Valentino",
         "showlegend": true,
         "subplot": "mapbox",
         "type": "scattermapbox"
        },
        {
         "hovertemplate": "Bar name=Ayacucho Hotel Bar<br>lat=%{lat}<br>lon=%{lon}<extra></extra>",
         "lat": [
          -34.5926877
         ],
         "legendgroup": "Ayacucho Hotel Bar",
         "lon": [
          -58.3949299
         ],
         "marker": {
          "color": "#19d3f3"
         },
         "mode": "markers",
         "name": "Ayacucho Hotel Bar",
         "showlegend": true,
         "subplot": "mapbox",
         "type": "scattermapbox"
        },
        {
         "hovertemplate": "Bar name=La Estación<br>lat=%{lat}<br>lon=%{lon}<extra></extra>",
         "lat": [
          -34.6326184
         ],
         "legendgroup": "La Estación",
         "lon": [
          -58.4808649
         ],
         "marker": {
          "color": "#FF6692"
         },
         "mode": "markers",
         "name": "La Estación",
         "showlegend": true,
         "subplot": "mapbox",
         "type": "scattermapbox"
        },
        {
         "hovertemplate": "Bar name=Johnny B. Good<br>lat=%{lat}<br>lon=%{lon}<extra></extra>",
         "lat": [
          -34.6060489
         ],
         "legendgroup": "Johnny B. Good",
         "lon": [
          -58.3665685
         ],
         "marker": {
          "color": "#B6E880"
         },
         "mode": "markers",
         "name": "Johnny B. Good",
         "showlegend": true,
         "subplot": "mapbox",
         "type": "scattermapbox"
        },
        {
         "hovertemplate": "Bar name=La Esquinita<br>lat=%{lat}<br>lon=%{lon}<extra></extra>",
         "lat": [
          -34.6173996
         ],
         "legendgroup": "La Esquinita",
         "lon": [
          -58.3786787
         ],
         "marker": {
          "color": "#FF97FF"
         },
         "mode": "markers",
         "name": "La Esquinita",
         "showlegend": true,
         "subplot": "mapbox",
         "type": "scattermapbox"
        },
        {
         "hovertemplate": "Bar name=Sports n' Rock Bar<br>lat=%{lat}<br>lon=%{lon}<extra></extra>",
         "lat": [
          -34.5969277
         ],
         "legendgroup": "Sports n' Rock Bar",
         "lon": [
          -58.373184
         ],
         "marker": {
          "color": "#FECB52"
         },
         "mode": "markers",
         "name": "Sports n' Rock Bar",
         "showlegend": true,
         "subplot": "mapbox",
         "type": "scattermapbox"
        },
        {
         "hovertemplate": "Bar name=El Bondi<br>lat=%{lat}<br>lon=%{lon}<extra></extra>",
         "lat": [
          -34.6380917
         ],
         "legendgroup": "El Bondi",
         "lon": [
          -58.5253461
         ],
         "marker": {
          "color": "#636efa"
         },
         "mode": "markers",
         "name": "El Bondi",
         "showlegend": true,
         "subplot": "mapbox",
         "type": "scattermapbox"
        },
        {
         "hovertemplate": "Bar name=Taberna Calle Fresca<br>lat=%{lat}<br>lon=%{lon}<extra></extra>",
         "lat": [
          -34.5511032
         ],
         "legendgroup": "Taberna Calle Fresca",
         "lon": [
          -58.4507256
         ],
         "marker": {
          "color": "#EF553B"
         },
         "mode": "markers",
         "name": "Taberna Calle Fresca",
         "showlegend": true,
         "subplot": "mapbox",
         "type": "scattermapbox"
        },
        {
         "hovertemplate": "Bar name=El Salmon<br>lat=%{lat}<br>lon=%{lon}<extra></extra>",
         "lat": [
          -34.596013
         ],
         "legendgroup": "El Salmon",
         "lon": [
          -58.3732667
         ],
         "marker": {
          "color": "#00cc96"
         },
         "mode": "markers",
         "name": "El Salmon",
         "showlegend": true,
         "subplot": "mapbox",
         "type": "scattermapbox"
        },
        {
         "hovertemplate": "Bar name=La Tribu<br>lat=%{lat}<br>lon=%{lon}<extra></extra>",
         "lat": [
          -34.6045475
         ],
         "legendgroup": "La Tribu",
         "lon": [
          -58.4303318
         ],
         "marker": {
          "color": "#ab63fa"
         },
         "mode": "markers",
         "name": "La Tribu",
         "showlegend": true,
         "subplot": "mapbox",
         "type": "scattermapbox"
        },
        {
         "hovertemplate": "Bar name=El Emergente<br>lat=%{lat}<br>lon=%{lon}<extra></extra>",
         "lat": [
          -34.6045787
         ],
         "legendgroup": "El Emergente",
         "lon": [
          -58.4131881
         ],
         "marker": {
          "color": "#FFA15A"
         },
         "mode": "markers",
         "name": "El Emergente",
         "showlegend": true,
         "subplot": "mapbox",
         "type": "scattermapbox"
        },
        {
         "hovertemplate": "Bar name=San Martín<br>lat=%{lat}<br>lon=%{lon}<extra></extra>",
         "lat": [
          -34.597933
         ],
         "legendgroup": "San Martín",
         "lon": [
          -58.4007825
         ],
         "marker": {
          "color": "#19d3f3"
         },
         "mode": "markers",
         "name": "San Martín",
         "showlegend": true,
         "subplot": "mapbox",
         "type": "scattermapbox"
        },
        {
         "hovertemplate": "Bar name=Rabia<br>lat=%{lat}<br>lon=%{lon}<extra></extra>",
         "lat": [
          -34.5866101
         ],
         "legendgroup": "Rabia",
         "lon": [
          -58.4291097
         ],
         "marker": {
          "color": "#FF6692"
         },
         "mode": "markers",
         "name": "Rabia",
         "showlegend": true,
         "subplot": "mapbox",
         "type": "scattermapbox"
        },
        {
         "hovertemplate": "Bar name=Valentino Bar<br>lat=%{lat}<br>lon=%{lon}<extra></extra>",
         "lat": [
          -34.5966787
         ],
         "legendgroup": "Valentino Bar",
         "lon": [
          -58.3802088
         ],
         "marker": {
          "color": "#B6E880"
         },
         "mode": "markers",
         "name": "Valentino Bar",
         "showlegend": true,
         "subplot": "mapbox",
         "type": "scattermapbox"
        },
        {
         "hovertemplate": "Bar name=The Temple Bar<br>lat=%{lat}<br>lon=%{lon}<extra></extra>",
         "lat": [
          -34.5965196
         ],
         "legendgroup": "The Temple Bar",
         "lon": [
          -58.3805144
         ],
         "marker": {
          "color": "#FF97FF"
         },
         "mode": "markers",
         "name": "The Temple Bar",
         "showlegend": true,
         "subplot": "mapbox",
         "type": "scattermapbox"
        },
        {
         "hovertemplate": "Bar name=Londra<br>lat=%{lat}<br>lon=%{lon}<extra></extra>",
         "lat": [
          -34.6111018
         ],
         "legendgroup": "Londra",
         "lon": [
          -58.3792044
         ],
         "marker": {
          "color": "#FECB52"
         },
         "mode": "markers",
         "name": "Londra",
         "showlegend": true,
         "subplot": "mapbox",
         "type": "scattermapbox"
        },
        {
         "hovertemplate": "Bar name=Milion<br>lat=%{lat}<br>lon=%{lon}<extra></extra>",
         "lat": [
          -34.5966324
         ],
         "legendgroup": "Milion",
         "lon": [
          -58.3885407
         ],
         "marker": {
          "color": "#636efa"
         },
         "mode": "markers",
         "name": "Milion",
         "showlegend": true,
         "subplot": "mapbox",
         "type": "scattermapbox"
        },
        {
         "hovertemplate": "Bar name=Bar Setenta y Siete<br>lat=%{lat}<br>lon=%{lon}<extra></extra>",
         "lat": [
          -34.6184679
         ],
         "legendgroup": "Bar Setenta y Siete",
         "lon": [
          -58.3753849
         ],
         "marker": {
          "color": "#EF553B"
         },
         "mode": "markers",
         "name": "Bar Setenta y Siete",
         "showlegend": true,
         "subplot": "mapbox",
         "type": "scattermapbox"
        },
        {
         "hovertemplate": "Bar name=Sofa<br>lat=%{lat}<br>lon=%{lon}<extra></extra>",
         "lat": [
          -34.5866093
         ],
         "legendgroup": "Sofa",
         "lon": [
          -58.4452803
         ],
         "marker": {
          "color": "#00cc96"
         },
         "mode": "markers",
         "name": "Sofa",
         "showlegend": true,
         "subplot": "mapbox",
         "type": "scattermapbox"
        },
        {
         "hovertemplate": "Bar name=Dark pool<br>lat=%{lat}<br>lon=%{lon}<extra></extra>",
         "lat": [
          -34.6150673
         ],
         "legendgroup": "Dark pool",
         "lon": [
          -58.4375156
         ],
         "marker": {
          "color": "#ab63fa"
         },
         "mode": "markers",
         "name": "Dark pool",
         "showlegend": true,
         "subplot": "mapbox",
         "type": "scattermapbox"
        },
        {
         "hovertemplate": "Bar name=Crónico<br>lat=%{lat}<br>lon=%{lon}<extra></extra>",
         "lat": [
          -34.5883446
         ],
         "legendgroup": "Crónico",
         "lon": [
          -58.4298317
         ],
         "marker": {
          "color": "#FFA15A"
         },
         "mode": "markers",
         "name": "Crónico",
         "showlegend": true,
         "subplot": "mapbox",
         "type": "scattermapbox"
        },
        {
         "hovertemplate": "Bar name=En Borges Bar<br>lat=%{lat}<br>lon=%{lon}<extra></extra>",
         "lat": [
          -34.5887523
         ],
         "legendgroup": "En Borges Bar",
         "lon": [
          -58.4297384
         ],
         "marker": {
          "color": "#19d3f3"
         },
         "mode": "markers",
         "name": "En Borges Bar",
         "showlegend": true,
         "subplot": "mapbox",
         "type": "scattermapbox"
        },
        {
         "hovertemplate": "Bar name=Gonzalez<br>lat=%{lat}<br>lon=%{lon}<extra></extra>",
         "lat": [
          -34.5888541
         ],
         "legendgroup": "Gonzalez",
         "lon": [
          -58.4297507
         ],
         "marker": {
          "color": "#FF6692"
         },
         "mode": "markers",
         "name": "Gonzalez",
         "showlegend": true,
         "subplot": "mapbox",
         "type": "scattermapbox"
        },
        {
         "hovertemplate": "Bar name=Sans<br>lat=%{lat}<br>lon=%{lon}<extra></extra>",
         "lat": [
          -34.5890151
         ],
         "legendgroup": "Sans",
         "lon": [
          -58.4300007
         ],
         "marker": {
          "color": "#B6E880"
         },
         "mode": "markers",
         "name": "Sans",
         "showlegend": true,
         "subplot": "mapbox",
         "type": "scattermapbox"
        },
        {
         "hovertemplate": "Bar name=Club Gricel<br>lat=%{lat}<br>lon=%{lon}<extra></extra>",
         "lat": [
          -34.6238507
         ],
         "legendgroup": "Club Gricel",
         "lon": [
          -58.4070502
         ],
         "marker": {
          "color": "#FF97FF"
         },
         "mode": "markers",
         "name": "Club Gricel",
         "showlegend": true,
         "subplot": "mapbox",
         "type": "scattermapbox"
        },
        {
         "hovertemplate": "Bar name=La Viruta<br>lat=%{lat}<br>lon=%{lon}<extra></extra>",
         "lat": [
          -34.5909888
         ],
         "legendgroup": "La Viruta",
         "lon": [
          -58.4297793
         ],
         "marker": {
          "color": "#FECB52"
         },
         "mode": "markers",
         "name": "La Viruta",
         "showlegend": true,
         "subplot": "mapbox",
         "type": "scattermapbox"
        },
        {
         "hovertemplate": "Bar name=El Coleccionista<br>lat=%{lat}<br>lon=%{lon}<extra></extra>",
         "lat": [
          -34.6173678
         ],
         "legendgroup": "El Coleccionista",
         "lon": [
          -58.4347381
         ],
         "marker": {
          "color": "#636efa"
         },
         "mode": "markers",
         "name": "El Coleccionista",
         "showlegend": true,
         "subplot": "mapbox",
         "type": "scattermapbox"
        },
        {
         "hovertemplate": "Bar name=El Alhambra<br>lat=%{lat}<br>lon=%{lon}<extra></extra>",
         "lat": [
          -34.6059281
         ],
         "legendgroup": "El Alhambra",
         "lon": [
          -58.395245
         ],
         "marker": {
          "color": "#EF553B"
         },
         "mode": "markers",
         "name": "El Alhambra",
         "showlegend": true,
         "subplot": "mapbox",
         "type": "scattermapbox"
        },
        {
         "hovertemplate": "Bar name=Bar El Faro<br>lat=%{lat}<br>lon=%{lon}<extra></extra>",
         "lat": [
          -34.5848308
         ],
         "legendgroup": "Bar El Faro",
         "lon": [
          -58.4885138
         ],
         "marker": {
          "color": "#00cc96"
         },
         "mode": "markers",
         "name": "Bar El Faro",
         "showlegend": true,
         "subplot": "mapbox",
         "type": "scattermapbox"
        },
        {
         "hovertemplate": "Bar name=Bartola<br>lat=%{lat}<br>lon=%{lon}<extra></extra>",
         "lat": [
          -34.5878587,
          -34.5888041
         ],
         "legendgroup": "Bartola",
         "lon": [
          -58.4271796,
          -58.3923138
         ],
         "marker": {
          "color": "#ab63fa"
         },
         "mode": "markers",
         "name": "Bartola",
         "showlegend": true,
         "subplot": "mapbox",
         "type": "scattermapbox"
        },
        {
         "hovertemplate": "Bar name=Budabar<br>lat=%{lat}<br>lon=%{lon}<extra></extra>",
         "lat": [
          -34.5881872
         ],
         "legendgroup": "Budabar",
         "lon": [
          -58.4266808
         ],
         "marker": {
          "color": "#FFA15A"
         },
         "mode": "markers",
         "name": "Budabar",
         "showlegend": true,
         "subplot": "mapbox",
         "type": "scattermapbox"
        },
        {
         "hovertemplate": "Bar name=Bar Sheldon<br>lat=%{lat}<br>lon=%{lon}<extra></extra>",
         "lat": [
          -34.5889622
         ],
         "legendgroup": "Bar Sheldon",
         "lon": [
          -58.4295532
         ],
         "marker": {
          "color": "#19d3f3"
         },
         "mode": "markers",
         "name": "Bar Sheldon",
         "showlegend": true,
         "subplot": "mapbox",
         "type": "scattermapbox"
        },
        {
         "hovertemplate": "Bar name=Breoghan<br>lat=%{lat}<br>lon=%{lon}<extra></extra>",
         "lat": [
          -34.6178406
         ],
         "legendgroup": "Breoghan",
         "lon": [
          -58.3729945
         ],
         "marker": {
          "color": "#FF6692"
         },
         "mode": "markers",
         "name": "Breoghan",
         "showlegend": true,
         "subplot": "mapbox",
         "type": "scattermapbox"
        },
        {
         "hovertemplate": "Bar name=La Esquina<br>lat=%{lat}<br>lon=%{lon}<extra></extra>",
         "lat": [
          -34.6392035
         ],
         "legendgroup": "La Esquina",
         "lon": [
          -58.5249242
         ],
         "marker": {
          "color": "#B6E880"
         },
         "mode": "markers",
         "name": "La Esquina",
         "showlegend": true,
         "subplot": "mapbox",
         "type": "scattermapbox"
        },
        {
         "hovertemplate": "Bar name=Birmania<br>lat=%{lat}<br>lon=%{lon}<extra></extra>",
         "lat": [
          -34.5895249
         ],
         "legendgroup": "Birmania",
         "lon": [
          -58.4329874
         ],
         "marker": {
          "color": "#FF97FF"
         },
         "mode": "markers",
         "name": "Birmania",
         "showlegend": true,
         "subplot": "mapbox",
         "type": "scattermapbox"
        },
        {
         "hovertemplate": "Bar name=Taberna Odín<br>lat=%{lat}<br>lon=%{lon}<extra></extra>",
         "lat": [
          -34.5882146
         ],
         "legendgroup": "Taberna Odín",
         "lon": [
          -58.431089
         ],
         "marker": {
          "color": "#FECB52"
         },
         "mode": "markers",
         "name": "Taberna Odín",
         "showlegend": true,
         "subplot": "mapbox",
         "type": "scattermapbox"
        },
        {
         "hovertemplate": "Bar name=Santísima Cervecería<br>lat=%{lat}<br>lon=%{lon}<extra></extra>",
         "lat": [
          -34.5810314
         ],
         "legendgroup": "Santísima Cervecería",
         "lon": [
          -58.4328846
         ],
         "marker": {
          "color": "#636efa"
         },
         "mode": "markers",
         "name": "Santísima Cervecería",
         "showlegend": true,
         "subplot": "mapbox",
         "type": "scattermapbox"
        },
        {
         "hovertemplate": "Bar name=Otra Vuelta<br>lat=%{lat}<br>lon=%{lon}<extra></extra>",
         "lat": [
          -34.5912266
         ],
         "legendgroup": "Otra Vuelta",
         "lon": [
          -58.4322758
         ],
         "marker": {
          "color": "#EF553B"
         },
         "mode": "markers",
         "name": "Otra Vuelta",
         "showlegend": true,
         "subplot": "mapbox",
         "type": "scattermapbox"
        },
        {
         "hovertemplate": "Bar name=Esquina Libertad<br>lat=%{lat}<br>lon=%{lon}<extra></extra>",
         "lat": [
          -34.5881187
         ],
         "legendgroup": "Esquina Libertad",
         "lon": [
          -58.4328278
         ],
         "marker": {
          "color": "#00cc96"
         },
         "mode": "markers",
         "name": "Esquina Libertad",
         "showlegend": true,
         "subplot": "mapbox",
         "type": "scattermapbox"
        },
        {
         "hovertemplate": "Bar name=San Bernardo<br>lat=%{lat}<br>lon=%{lon}<extra></extra>",
         "lat": [
          -34.5977853
         ],
         "legendgroup": "San Bernardo",
         "lon": [
          -58.4412741
         ],
         "marker": {
          "color": "#ab63fa"
         },
         "mode": "markers",
         "name": "San Bernardo",
         "showlegend": true,
         "subplot": "mapbox",
         "type": "scattermapbox"
        },
        {
         "hovertemplate": "Bar name=Cafe Relax<br>lat=%{lat}<br>lon=%{lon}<extra></extra>",
         "lat": [
          -34.611313
         ],
         "legendgroup": "Cafe Relax",
         "lon": [
          -58.3733237
         ],
         "marker": {
          "color": "#FFA15A"
         },
         "mode": "markers",
         "name": "Cafe Relax",
         "showlegend": true,
         "subplot": "mapbox",
         "type": "scattermapbox"
        },
        {
         "hovertemplate": "Bar name=70 30 Bar<br>lat=%{lat}<br>lon=%{lon}<extra></extra>",
         "lat": [
          -34.5886318
         ],
         "legendgroup": "70 30 Bar",
         "lon": [
          -58.4320794
         ],
         "marker": {
          "color": "#19d3f3"
         },
         "mode": "markers",
         "name": "70 30 Bar",
         "showlegend": true,
         "subplot": "mapbox",
         "type": "scattermapbox"
        },
        {
         "hovertemplate": "Bar name=Bellagamba Bodegón<br>lat=%{lat}<br>lon=%{lon}<extra></extra>",
         "lat": [
          -34.5924649
         ],
         "legendgroup": "Bellagamba Bodegón",
         "lon": [
          -58.4320881
         ],
         "marker": {
          "color": "#FF6692"
         },
         "mode": "markers",
         "name": "Bellagamba Bodegón",
         "showlegend": true,
         "subplot": "mapbox",
         "type": "scattermapbox"
        },
        {
         "hovertemplate": "Bar name=Camping<br>lat=%{lat}<br>lon=%{lon}<extra></extra>",
         "lat": [
          -34.5869079
         ],
         "legendgroup": "Camping",
         "lon": [
          -58.3843203
         ],
         "marker": {
          "color": "#B6E880"
         },
         "mode": "markers",
         "name": "Camping",
         "showlegend": true,
         "subplot": "mapbox",
         "type": "scattermapbox"
        },
        {
         "hovertemplate": "Bar name=BierLife<br>lat=%{lat}<br>lon=%{lon}<extra></extra>",
         "lat": [
          -34.6208994
         ],
         "legendgroup": "BierLife",
         "lon": [
          -58.375332
         ],
         "marker": {
          "color": "#FF97FF"
         },
         "mode": "markers",
         "name": "BierLife",
         "showlegend": true,
         "subplot": "mapbox",
         "type": "scattermapbox"
        },
        {
         "hovertemplate": "Bar name=Sera de Dios<br>lat=%{lat}<br>lon=%{lon}<extra></extra>",
         "lat": [
          -34.6148022
         ],
         "legendgroup": "Sera de Dios",
         "lon": [
          -58.3711998
         ],
         "marker": {
          "color": "#FECB52"
         },
         "mode": "markers",
         "name": "Sera de Dios",
         "showlegend": true,
         "subplot": "mapbox",
         "type": "scattermapbox"
        },
        {
         "hovertemplate": "Bar name=Florería Atlántico<br>lat=%{lat}<br>lon=%{lon}<extra></extra>",
         "lat": [
          -34.5918219
         ],
         "legendgroup": "Florería Atlántico",
         "lon": [
          -58.3793429
         ],
         "marker": {
          "color": "#636efa"
         },
         "mode": "markers",
         "name": "Florería Atlántico",
         "showlegend": true,
         "subplot": "mapbox",
         "type": "scattermapbox"
        },
        {
         "hovertemplate": "Bar name=BASA<br>lat=%{lat}<br>lon=%{lon}<extra></extra>",
         "lat": [
          -34.5925677
         ],
         "legendgroup": "BASA",
         "lon": [
          -58.3770226
         ],
         "marker": {
          "color": "#EF553B"
         },
         "mode": "markers",
         "name": "BASA",
         "showlegend": true,
         "subplot": "mapbox",
         "type": "scattermapbox"
        },
        {
         "hovertemplate": "Bar name=Carnal<br>lat=%{lat}<br>lon=%{lon}<extra></extra>",
         "lat": [
          -34.5871725
         ],
         "legendgroup": "Carnal",
         "lon": [
          -58.4383923
         ],
         "marker": {
          "color": "#00cc96"
         },
         "mode": "markers",
         "name": "Carnal",
         "showlegend": true,
         "subplot": "mapbox",
         "type": "scattermapbox"
        },
        {
         "hovertemplate": "Bar name=LTA<br>lat=%{lat}<br>lon=%{lon}<extra></extra>",
         "lat": [
          -34.5873882
         ],
         "legendgroup": "LTA",
         "lon": [
          -58.4380748
         ],
         "marker": {
          "color": "#ab63fa"
         },
         "mode": "markers",
         "name": "LTA",
         "showlegend": true,
         "subplot": "mapbox",
         "type": "scattermapbox"
        },
        {
         "hovertemplate": "Bar name=Mellow<br>lat=%{lat}<br>lon=%{lon}<extra></extra>",
         "lat": [
          -34.5846801
         ],
         "legendgroup": "Mellow",
         "lon": [
          -58.4349359
         ],
         "marker": {
          "color": "#FFA15A"
         },
         "mode": "markers",
         "name": "Mellow",
         "showlegend": true,
         "subplot": "mapbox",
         "type": "scattermapbox"
        },
        {
         "hovertemplate": "Bar name=Nativo<br>lat=%{lat}<br>lon=%{lon}<extra></extra>",
         "lat": [
          -34.585752
         ],
         "legendgroup": "Nativo",
         "lon": [
          -58.4383537
         ],
         "marker": {
          "color": "#19d3f3"
         },
         "mode": "markers",
         "name": "Nativo",
         "showlegend": true,
         "subplot": "mapbox",
         "type": "scattermapbox"
        },
        {
         "hovertemplate": "Bar name=The Brother's Club<br>lat=%{lat}<br>lon=%{lon}<extra></extra>",
         "lat": [
          -34.5870261
         ],
         "legendgroup": "The Brother's Club",
         "lon": [
          -58.4391249
         ],
         "marker": {
          "color": "#FF6692"
         },
         "mode": "markers",
         "name": "The Brother's Club",
         "showlegend": true,
         "subplot": "mapbox",
         "type": "scattermapbox"
        },
        {
         "hovertemplate": "Bar name=Bedford Station<br>lat=%{lat}<br>lon=%{lon}<extra></extra>",
         "lat": [
          -34.5682317
         ],
         "legendgroup": "Bedford Station",
         "lon": [
          -58.4357792
         ],
         "marker": {
          "color": "#B6E880"
         },
         "mode": "markers",
         "name": "Bedford Station",
         "showlegend": true,
         "subplot": "mapbox",
         "type": "scattermapbox"
        },
        {
         "hovertemplate": "Bar name=Il Tempo<br>lat=%{lat}<br>lon=%{lon}<extra></extra>",
         "lat": [
          -34.6492972
         ],
         "legendgroup": "Il Tempo",
         "lon": [
          -58.4894473
         ],
         "marker": {
          "color": "#FF97FF"
         },
         "mode": "markers",
         "name": "Il Tempo",
         "showlegend": true,
         "subplot": "mapbox",
         "type": "scattermapbox"
        },
        {
         "hovertemplate": "Bar name=Amores Porteños<br>lat=%{lat}<br>lon=%{lon}<extra></extra>",
         "lat": [
          -34.5745092
         ],
         "legendgroup": "Amores Porteños",
         "lon": [
          -58.4395593
         ],
         "marker": {
          "color": "#FECB52"
         },
         "mode": "markers",
         "name": "Amores Porteños",
         "showlegend": true,
         "subplot": "mapbox",
         "type": "scattermapbox"
        },
        {
         "hovertemplate": "Bar name=Dylan Cafe y Helados<br>lat=%{lat}<br>lon=%{lon}<extra></extra>",
         "lat": [
          -34.6470165
         ],
         "legendgroup": "Dylan Cafe y Helados",
         "lon": [
          -58.3706939
         ],
         "marker": {
          "color": "#636efa"
         },
         "mode": "markers",
         "name": "Dylan Cafe y Helados",
         "showlegend": true,
         "subplot": "mapbox",
         "type": "scattermapbox"
        },
        {
         "hovertemplate": "Bar name=Winna<br>lat=%{lat}<br>lon=%{lon}<extra></extra>",
         "lat": [
          -34.5698672
         ],
         "legendgroup": "Winna",
         "lon": [
          -58.4899649
         ],
         "marker": {
          "color": "#EF553B"
         },
         "mode": "markers",
         "name": "Winna",
         "showlegend": true,
         "subplot": "mapbox",
         "type": "scattermapbox"
        },
        {
         "hovertemplate": "Bar name=878<br>lat=%{lat}<br>lon=%{lon}<extra></extra>",
         "lat": [
          -34.5928351
         ],
         "legendgroup": "878",
         "lon": [
          -58.439029
         ],
         "marker": {
          "color": "#00cc96"
         },
         "mode": "markers",
         "name": "878",
         "showlegend": true,
         "subplot": "mapbox",
         "type": "scattermapbox"
        },
        {
         "hovertemplate": "Bar name=The Harrison Speakeasy<br>lat=%{lat}<br>lon=%{lon}<extra></extra>",
         "lat": [
          -34.589857
         ],
         "legendgroup": "The Harrison Speakeasy",
         "lon": [
          -58.4255006
         ],
         "marker": {
          "color": "#ab63fa"
         },
         "mode": "markers",
         "name": "The Harrison Speakeasy",
         "showlegend": true,
         "subplot": "mapbox",
         "type": "scattermapbox"
        },
        {
         "hovertemplate": "Bar name=Verne club<br>lat=%{lat}<br>lon=%{lon}<extra></extra>",
         "lat": [
          -34.59191
         ],
         "legendgroup": "Verne club",
         "lon": [
          -58.419086
         ],
         "marker": {
          "color": "#FFA15A"
         },
         "mode": "markers",
         "name": "Verne club",
         "showlegend": true,
         "subplot": "mapbox",
         "type": "scattermapbox"
        },
        {
         "hovertemplate": "Bar name=Versalles<br>lat=%{lat}<br>lon=%{lon}<extra></extra>",
         "lat": [
          -34.5811562
         ],
         "legendgroup": "Versalles",
         "lon": [
          -58.4043096
         ],
         "marker": {
          "color": "#19d3f3"
         },
         "mode": "markers",
         "name": "Versalles",
         "showlegend": true,
         "subplot": "mapbox",
         "type": "scattermapbox"
        },
        {
         "hovertemplate": "Bar name=QTZ<br>lat=%{lat}<br>lon=%{lon}<extra></extra>",
         "lat": [
          -34.5877723
         ],
         "legendgroup": "QTZ",
         "lon": [
          -58.4227288
         ],
         "marker": {
          "color": "#FF6692"
         },
         "mode": "markers",
         "name": "QTZ",
         "showlegend": true,
         "subplot": "mapbox",
         "type": "scattermapbox"
        },
        {
         "hovertemplate": "Bar name=Plaza serrano<br>lat=%{lat}<br>lon=%{lon}<extra></extra>",
         "lat": [
          -34.5979179
         ],
         "legendgroup": "Plaza serrano",
         "lon": [
          -58.4479182
         ],
         "marker": {
          "color": "#B6E880"
         },
         "mode": "markers",
         "name": "Plaza serrano",
         "showlegend": true,
         "subplot": "mapbox",
         "type": "scattermapbox"
        },
        {
         "hovertemplate": "Bar name=Stayhome<br>lat=%{lat}<br>lon=%{lon}<extra></extra>",
         "lat": [
          -34.5834684
         ],
         "legendgroup": "Stayhome",
         "lon": [
          -58.433684
         ],
         "marker": {
          "color": "#FF97FF"
         },
         "mode": "markers",
         "name": "Stayhome",
         "showlegend": true,
         "subplot": "mapbox",
         "type": "scattermapbox"
        },
        {
         "hovertemplate": "Bar name=Cervecería Nacional<br>lat=%{lat}<br>lon=%{lon}<extra></extra>",
         "lat": [
          -34.5778446,
          -34.581892
         ],
         "legendgroup": "Cervecería Nacional",
         "lon": [
          -58.4385552,
          -58.4416564
         ],
         "marker": {
          "color": "#FECB52"
         },
         "mode": "markers",
         "name": "Cervecería Nacional",
         "showlegend": true,
         "subplot": "mapbox",
         "type": "scattermapbox"
        },
        {
         "hovertemplate": "Bar name=Holm Bar<br>lat=%{lat}<br>lon=%{lon}<extra></extra>",
         "lat": [
          -34.567773
         ],
         "legendgroup": "Holm Bar",
         "lon": [
          -58.4781433
         ],
         "marker": {
          "color": "#636efa"
         },
         "mode": "markers",
         "name": "Holm Bar",
         "showlegend": true,
         "subplot": "mapbox",
         "type": "scattermapbox"
        },
        {
         "hovertemplate": "Bar name=Crafter<br>lat=%{lat}<br>lon=%{lon}<extra></extra>",
         "lat": [
          -34.5876759
         ],
         "legendgroup": "Crafter",
         "lon": [
          -58.3954057
         ],
         "marker": {
          "color": "#EF553B"
         },
         "mode": "markers",
         "name": "Crafter",
         "showlegend": true,
         "subplot": "mapbox",
         "type": "scattermapbox"
        },
        {
         "hovertemplate": "Bar name=Trionfale<br>lat=%{lat}<br>lon=%{lon}<extra></extra>",
         "lat": [
          -34.5833774
         ],
         "legendgroup": "Trionfale",
         "lon": [
          -58.4292236
         ],
         "marker": {
          "color": "#00cc96"
         },
         "mode": "markers",
         "name": "Trionfale",
         "showlegend": true,
         "subplot": "mapbox",
         "type": "scattermapbox"
        },
        {
         "hovertemplate": "Bar name=El fermentador<br>lat=%{lat}<br>lon=%{lon}<extra></extra>",
         "lat": [
          -34.6175188
         ],
         "legendgroup": "El fermentador",
         "lon": [
          -58.4537582
         ],
         "marker": {
          "color": "#ab63fa"
         },
         "mode": "markers",
         "name": "El fermentador",
         "showlegend": true,
         "subplot": "mapbox",
         "type": "scattermapbox"
        },
        {
         "hovertemplate": "Bar name=La Armonia<br>lat=%{lat}<br>lon=%{lon}<extra></extra>",
         "lat": [
          -34.6314512
         ],
         "legendgroup": "La Armonia",
         "lon": [
          -58.3904959
         ],
         "marker": {
          "color": "#FFA15A"
         },
         "mode": "markers",
         "name": "La Armonia",
         "showlegend": true,
         "subplot": "mapbox",
         "type": "scattermapbox"
        },
        {
         "hovertemplate": "Bar name=Bulgaria<br>lat=%{lat}<br>lon=%{lon}<extra></extra>",
         "lat": [
          -34.610089
         ],
         "legendgroup": "Bulgaria",
         "lon": [
          -58.4511814
         ],
         "marker": {
          "color": "#19d3f3"
         },
         "mode": "markers",
         "name": "Bulgaria",
         "showlegend": true,
         "subplot": "mapbox",
         "type": "scattermapbox"
        },
        {
         "hovertemplate": "Bar name=Erik Bar<br>lat=%{lat}<br>lon=%{lon}<extra></extra>",
         "lat": [
          -34.5881863
         ],
         "legendgroup": "Erik Bar",
         "lon": [
          -58.4311334
         ],
         "marker": {
          "color": "#FF6692"
         },
         "mode": "markers",
         "name": "Erik Bar",
         "showlegend": true,
         "subplot": "mapbox",
         "type": "scattermapbox"
        },
        {
         "hovertemplate": "Bar name=Sigue al conejo blanco<br>lat=%{lat}<br>lon=%{lon}<extra></extra>",
         "lat": [
          -34.588363
         ],
         "legendgroup": "Sigue al conejo blanco",
         "lon": [
          -58.4351751
         ],
         "marker": {
          "color": "#B6E880"
         },
         "mode": "markers",
         "name": "Sigue al conejo blanco",
         "showlegend": true,
         "subplot": "mapbox",
         "type": "scattermapbox"
        },
        {
         "hovertemplate": "Bar name=Bier Welt<br>lat=%{lat}<br>lon=%{lon}<extra></extra>",
         "lat": [
          -34.6325826
         ],
         "legendgroup": "Bier Welt",
         "lon": [
          -58.4158359
         ],
         "marker": {
          "color": "#FF97FF"
         },
         "mode": "markers",
         "name": "Bier Welt",
         "showlegend": true,
         "subplot": "mapbox",
         "type": "scattermapbox"
        },
        {
         "hovertemplate": "Bar name=D'Alta<br>lat=%{lat}<br>lon=%{lon}<extra></extra>",
         "lat": [
          -34.6344811
         ],
         "legendgroup": "D'Alta",
         "lon": [
          -58.388365
         ],
         "marker": {
          "color": "#FECB52"
         },
         "mode": "markers",
         "name": "D'Alta",
         "showlegend": true,
         "subplot": "mapbox",
         "type": "scattermapbox"
        },
        {
         "hovertemplate": "Bar name=Poe<br>lat=%{lat}<br>lon=%{lon}<extra></extra>",
         "lat": [
          -34.553202
         ],
         "legendgroup": "Poe",
         "lon": [
          -58.4575005
         ],
         "marker": {
          "color": "#636efa"
         },
         "mode": "markers",
         "name": "Poe",
         "showlegend": true,
         "subplot": "mapbox",
         "type": "scattermapbox"
        },
        {
         "hovertemplate": "Bar name=Nerón<br>lat=%{lat}<br>lon=%{lon}<extra></extra>",
         "lat": [
          -34.5532129
         ],
         "legendgroup": "Nerón",
         "lon": [
          -58.4572366
         ],
         "marker": {
          "color": "#EF553B"
         },
         "mode": "markers",
         "name": "Nerón",
         "showlegend": true,
         "subplot": "mapbox",
         "type": "scattermapbox"
        },
        {
         "hovertemplate": "Bar name=Bulebar<br>lat=%{lat}<br>lon=%{lon}<extra></extra>",
         "lat": [
          -34.5494136
         ],
         "legendgroup": "Bulebar",
         "lon": [
          -58.4750005
         ],
         "marker": {
          "color": "#00cc96"
         },
         "mode": "markers",
         "name": "Bulebar",
         "showlegend": true,
         "subplot": "mapbox",
         "type": "scattermapbox"
        },
        {
         "hovertemplate": "Bar name=The Monkey´s Bar<br>lat=%{lat}<br>lon=%{lon}<extra></extra>",
         "lat": [
          -34.5881715
         ],
         "legendgroup": "The Monkey´s Bar",
         "lon": [
          -58.4223307
         ],
         "marker": {
          "color": "#ab63fa"
         },
         "mode": "markers",
         "name": "The Monkey´s Bar",
         "showlegend": true,
         "subplot": "mapbox",
         "type": "scattermapbox"
        },
        {
         "hovertemplate": "Bar name=Bar Soria<br>lat=%{lat}<br>lon=%{lon}<extra></extra>",
         "lat": [
          -34.5882895
         ],
         "legendgroup": "Bar Soria",
         "lon": [
          -58.4326977
         ],
         "marker": {
          "color": "#FFA15A"
         },
         "mode": "markers",
         "name": "Bar Soria",
         "showlegend": true,
         "subplot": "mapbox",
         "type": "scattermapbox"
        },
        {
         "hovertemplate": "Bar name=Boris Club de Jazz<br>lat=%{lat}<br>lon=%{lon}<extra></extra>",
         "lat": [
          -34.584453
         ],
         "legendgroup": "Boris Club de Jazz",
         "lon": [
          -58.4379669
         ],
         "marker": {
          "color": "#19d3f3"
         },
         "mode": "markers",
         "name": "Boris Club de Jazz",
         "showlegend": true,
         "subplot": "mapbox",
         "type": "scattermapbox"
        },
        {
         "hovertemplate": "Bar name=Comunidad del cisne<br>lat=%{lat}<br>lon=%{lon}<extra></extra>",
         "lat": [
          -34.6206475
         ],
         "legendgroup": "Comunidad del cisne",
         "lon": [
          -58.3727495
         ],
         "marker": {
          "color": "#FF6692"
         },
         "mode": "markers",
         "name": "Comunidad del cisne",
         "showlegend": true,
         "subplot": "mapbox",
         "type": "scattermapbox"
        },
        {
         "hovertemplate": "Bar name=Piba<br>lat=%{lat}<br>lon=%{lon}<extra></extra>",
         "lat": [
          -34.5788149,
          -34.5898161
         ],
         "legendgroup": "Piba",
         "lon": [
          -58.4127081,
          -58.382107
         ],
         "marker": {
          "color": "#B6E880"
         },
         "mode": "markers",
         "name": "Piba",
         "showlegend": true,
         "subplot": "mapbox",
         "type": "scattermapbox"
        },
        {
         "hovertemplate": "Bar name=El Meson<br>lat=%{lat}<br>lon=%{lon}<extra></extra>",
         "lat": [
          -34.5721662
         ],
         "legendgroup": "El Meson",
         "lon": [
          -58.5049356
         ],
         "marker": {
          "color": "#FF97FF"
         },
         "mode": "markers",
         "name": "El Meson",
         "showlegend": true,
         "subplot": "mapbox",
         "type": "scattermapbox"
        },
        {
         "hovertemplate": "Bar name=Club La Octava<br>lat=%{lat}<br>lon=%{lon}<extra></extra>",
         "lat": [
          -34.5860045
         ],
         "legendgroup": "Club La Octava",
         "lon": [
          -58.4405804
         ],
         "marker": {
          "color": "#FECB52"
         },
         "mode": "markers",
         "name": "Club La Octava",
         "showlegend": true,
         "subplot": "mapbox",
         "type": "scattermapbox"
        },
        {
         "hovertemplate": "Bar name=Go Bar<br>lat=%{lat}<br>lon=%{lon}<extra></extra>",
         "lat": [
          -34.5823745
         ],
         "legendgroup": "Go Bar",
         "lon": [
          -58.442799
         ],
         "marker": {
          "color": "#636efa"
         },
         "mode": "markers",
         "name": "Go Bar",
         "showlegend": true,
         "subplot": "mapbox",
         "type": "scattermapbox"
        },
        {
         "hovertemplate": "Bar name=El Sol<br>lat=%{lat}<br>lon=%{lon}<extra></extra>",
         "lat": [
          -34.6184427
         ],
         "legendgroup": "El Sol",
         "lon": [
          -58.4755846
         ],
         "marker": {
          "color": "#EF553B"
         },
         "mode": "markers",
         "name": "El Sol",
         "showlegend": true,
         "subplot": "mapbox",
         "type": "scattermapbox"
        },
        {
         "hovertemplate": "Bar name=Ciro Bar<br>lat=%{lat}<br>lon=%{lon}<extra></extra>",
         "lat": [
          -34.613253
         ],
         "legendgroup": "Ciro Bar",
         "lon": [
          -58.4797488
         ],
         "marker": {
          "color": "#00cc96"
         },
         "mode": "markers",
         "name": "Ciro Bar",
         "showlegend": true,
         "subplot": "mapbox",
         "type": "scattermapbox"
        },
        {
         "hovertemplate": "Bar name=Ritornare<br>lat=%{lat}<br>lon=%{lon}<extra></extra>",
         "lat": [
          -34.6050789
         ],
         "legendgroup": "Ritornare",
         "lon": [
          -58.4953665
         ],
         "marker": {
          "color": "#ab63fa"
         },
         "mode": "markers",
         "name": "Ritornare",
         "showlegend": true,
         "subplot": "mapbox",
         "type": "scattermapbox"
        },
        {
         "hovertemplate": "Bar name=El Taller<br>lat=%{lat}<br>lon=%{lon}<extra></extra>",
         "lat": [
          -34.5556855
         ],
         "legendgroup": "El Taller",
         "lon": [
          -58.4693516
         ],
         "marker": {
          "color": "#FFA15A"
         },
         "mode": "markers",
         "name": "El Taller",
         "showlegend": true,
         "subplot": "mapbox",
         "type": "scattermapbox"
        },
        {
         "hovertemplate": "Bar name=Hasta la Masa<br>lat=%{lat}<br>lon=%{lon}<extra></extra>",
         "lat": [
          -34.5948594
         ],
         "legendgroup": "Hasta la Masa",
         "lon": [
          -58.4367183
         ],
         "marker": {
          "color": "#19d3f3"
         },
         "mode": "markers",
         "name": "Hasta la Masa",
         "showlegend": true,
         "subplot": "mapbox",
         "type": "scattermapbox"
        },
        {
         "hovertemplate": "Bar name=Pub<br>lat=%{lat}<br>lon=%{lon}<extra></extra>",
         "lat": [
          -34.6174743
         ],
         "legendgroup": "Pub",
         "lon": [
          -58.3701566
         ],
         "marker": {
          "color": "#FF6692"
         },
         "mode": "markers",
         "name": "Pub",
         "showlegend": true,
         "subplot": "mapbox",
         "type": "scattermapbox"
        },
        {
         "hovertemplate": "Bar name=Frescó<br>lat=%{lat}<br>lon=%{lon}<extra></extra>",
         "lat": [
          -34.6016927
         ],
         "legendgroup": "Frescó",
         "lon": [
          -58.4049218
         ],
         "marker": {
          "color": "#B6E880"
         },
         "mode": "markers",
         "name": "Frescó",
         "showlegend": true,
         "subplot": "mapbox",
         "type": "scattermapbox"
        },
        {
         "hovertemplate": "Bar name=Rotiseria Bar<br>lat=%{lat}<br>lon=%{lon}<extra></extra>",
         "lat": [
          -34.6009914
         ],
         "legendgroup": "Rotiseria Bar",
         "lon": [
          -58.4141217
         ],
         "marker": {
          "color": "#FF97FF"
         },
         "mode": "markers",
         "name": "Rotiseria Bar",
         "showlegend": true,
         "subplot": "mapbox",
         "type": "scattermapbox"
        },
        {
         "hovertemplate": "Bar name=M.O.D<br>lat=%{lat}<br>lon=%{lon}<extra></extra>",
         "lat": [
          -34.6144942
         ],
         "legendgroup": "M.O.D",
         "lon": [
          -58.3707837
         ],
         "marker": {
          "color": "#FECB52"
         },
         "mode": "markers",
         "name": "M.O.D",
         "showlegend": true,
         "subplot": "mapbox",
         "type": "scattermapbox"
        },
        {
         "hovertemplate": "Bar name=Urbe Bar<br>lat=%{lat}<br>lon=%{lon}<extra></extra>",
         "lat": [
          -34.6166206
         ],
         "legendgroup": "Urbe Bar",
         "lon": [
          -58.3715416
         ],
         "marker": {
          "color": "#636efa"
         },
         "mode": "markers",
         "name": "Urbe Bar",
         "showlegend": true,
         "subplot": "mapbox",
         "type": "scattermapbox"
        },
        {
         "hovertemplate": "Bar name=Barba Roja<br>lat=%{lat}<br>lon=%{lon}<extra></extra>",
         "lat": [
          -34.614148
         ],
         "legendgroup": "Barba Roja",
         "lon": [
          -58.3717814
         ],
         "marker": {
          "color": "#EF553B"
         },
         "mode": "markers",
         "name": "Barba Roja",
         "showlegend": true,
         "subplot": "mapbox",
         "type": "scattermapbox"
        },
        {
         "hovertemplate": "Bar name=DeBar Warsteiner<br>lat=%{lat}<br>lon=%{lon}<extra></extra>",
         "lat": [
          -34.6137014
         ],
         "legendgroup": "DeBar Warsteiner",
         "lon": [
          -58.3717968
         ],
         "marker": {
          "color": "#00cc96"
         },
         "mode": "markers",
         "name": "DeBar Warsteiner",
         "showlegend": true,
         "subplot": "mapbox",
         "type": "scattermapbox"
        },
        {
         "hovertemplate": "Bar name=Chupitos<br>lat=%{lat}<br>lon=%{lon}<extra></extra>",
         "lat": [
          -34.6160143
         ],
         "legendgroup": "Chupitos",
         "lon": [
          -58.3732393
         ],
         "marker": {
          "color": "#ab63fa"
         },
         "mode": "markers",
         "name": "Chupitos",
         "showlegend": true,
         "subplot": "mapbox",
         "type": "scattermapbox"
        },
        {
         "hovertemplate": "Bar name=Borne Bar de Copas<br>lat=%{lat}<br>lon=%{lon}<extra></extra>",
         "lat": [
          -34.6160143
         ],
         "legendgroup": "Borne Bar de Copas",
         "lon": [
          -58.3720751
         ],
         "marker": {
          "color": "#FFA15A"
         },
         "mode": "markers",
         "name": "Borne Bar de Copas",
         "showlegend": true,
         "subplot": "mapbox",
         "type": "scattermapbox"
        },
        {
         "hovertemplate": "Bar name=Aura<br>lat=%{lat}<br>lon=%{lon}<extra></extra>",
         "lat": [
          -34.6454703,
          -34.5864553
         ],
         "legendgroup": "Aura",
         "lon": [
          -58.5202664,
          -58.4359136
         ],
         "marker": {
          "color": "#19d3f3"
         },
         "mode": "markers",
         "name": "Aura",
         "showlegend": true,
         "subplot": "mapbox",
         "type": "scattermapbox"
        },
        {
         "hovertemplate": "Bar name=Río Bar<br>lat=%{lat}<br>lon=%{lon}<extra></extra>",
         "lat": [
          -34.6046274
         ],
         "legendgroup": "Río Bar",
         "lon": [
          -58.3943462
         ],
         "marker": {
          "color": "#FF6692"
         },
         "mode": "markers",
         "name": "Río Bar",
         "showlegend": true,
         "subplot": "mapbox",
         "type": "scattermapbox"
        },
        {
         "hovertemplate": "Bar name=Friends<br>lat=%{lat}<br>lon=%{lon}<extra></extra>",
         "lat": [
          -34.6258166
         ],
         "legendgroup": "Friends",
         "lon": [
          -58.4549126
         ],
         "marker": {
          "color": "#B6E880"
         },
         "mode": "markers",
         "name": "Friends",
         "showlegend": true,
         "subplot": "mapbox",
         "type": "scattermapbox"
        },
        {
         "hovertemplate": "Bar name=La Parrilla de Once<br>lat=%{lat}<br>lon=%{lon}<extra></extra>",
         "lat": [
          -34.6102263
         ],
         "legendgroup": "La Parrilla de Once",
         "lon": [
          -58.4047617
         ],
         "marker": {
          "color": "#FF97FF"
         },
         "mode": "markers",
         "name": "La Parrilla de Once",
         "showlegend": true,
         "subplot": "mapbox",
         "type": "scattermapbox"
        },
        {
         "hovertemplate": "Bar name=Bar ABC Pool<br>lat=%{lat}<br>lon=%{lon}<extra></extra>",
         "lat": [
          -34.598879
         ],
         "legendgroup": "Bar ABC Pool",
         "lon": [
          -58.4032998
         ],
         "marker": {
          "color": "#FECB52"
         },
         "mode": "markers",
         "name": "Bar ABC Pool",
         "showlegend": true,
         "subplot": "mapbox",
         "type": "scattermapbox"
        },
        {
         "hovertemplate": "Bar name=Bar Ecuador<br>lat=%{lat}<br>lon=%{lon}<extra></extra>",
         "lat": [
          -34.6065116
         ],
         "legendgroup": "Bar Ecuador",
         "lon": [
          -58.3766272
         ],
         "marker": {
          "color": "#636efa"
         },
         "mode": "markers",
         "name": "Bar Ecuador",
         "showlegend": true,
         "subplot": "mapbox",
         "type": "scattermapbox"
        },
        {
         "hovertemplate": "Bar name=La Morena<br>lat=%{lat}<br>lon=%{lon}<extra></extra>",
         "lat": [
          -34.6017337
         ],
         "legendgroup": "La Morena",
         "lon": [
          -58.4316488
         ],
         "marker": {
          "color": "#EF553B"
         },
         "mode": "markers",
         "name": "La Morena",
         "showlegend": true,
         "subplot": "mapbox",
         "type": "scattermapbox"
        },
        {
         "hovertemplate": "Bar name=Tancat<br>lat=%{lat}<br>lon=%{lon}<extra></extra>",
         "lat": [
          -34.5974627
         ],
         "legendgroup": "Tancat",
         "lon": [
          -58.3760581
         ],
         "marker": {
          "color": "#00cc96"
         },
         "mode": "markers",
         "name": "Tancat",
         "showlegend": true,
         "subplot": "mapbox",
         "type": "scattermapbox"
        },
        {
         "hovertemplate": "Bar name=Sole<br>lat=%{lat}<br>lon=%{lon}<extra></extra>",
         "lat": [
          -34.6308082
         ],
         "legendgroup": "Sole",
         "lon": [
          -58.470743
         ],
         "marker": {
          "color": "#ab63fa"
         },
         "mode": "markers",
         "name": "Sole",
         "showlegend": true,
         "subplot": "mapbox",
         "type": "scattermapbox"
        },
        {
         "hovertemplate": "Bar name=Alaire<br>lat=%{lat}<br>lon=%{lon}<extra></extra>",
         "lat": [
          -34.58999
         ],
         "legendgroup": "Alaire",
         "lon": [
          -58.4300835
         ],
         "marker": {
          "color": "#FFA15A"
         },
         "mode": "markers",
         "name": "Alaire",
         "showlegend": true,
         "subplot": "mapbox",
         "type": "scattermapbox"
        },
        {
         "hovertemplate": "Bar name=Santa Fe 1234<br>lat=%{lat}<br>lon=%{lon}<extra></extra>",
         "lat": [
          -34.5957765
         ],
         "legendgroup": "Santa Fe 1234",
         "lon": [
          -58.3846552
         ],
         "marker": {
          "color": "#19d3f3"
         },
         "mode": "markers",
         "name": "Santa Fe 1234",
         "showlegend": true,
         "subplot": "mapbox",
         "type": "scattermapbox"
        },
        {
         "hovertemplate": "Bar name=El Aval<br>lat=%{lat}<br>lon=%{lon}<extra></extra>",
         "lat": [
          -34.5791179
         ],
         "legendgroup": "El Aval",
         "lon": [
          -58.4365387
         ],
         "marker": {
          "color": "#FF6692"
         },
         "mode": "markers",
         "name": "El Aval",
         "showlegend": true,
         "subplot": "mapbox",
         "type": "scattermapbox"
        },
        {
         "hovertemplate": "Bar name=Tipsy<br>lat=%{lat}<br>lon=%{lon}<extra></extra>",
         "lat": [
          -34.5773452
         ],
         "legendgroup": "Tipsy",
         "lon": [
          -58.4386687
         ],
         "marker": {
          "color": "#B6E880"
         },
         "mode": "markers",
         "name": "Tipsy",
         "showlegend": true,
         "subplot": "mapbox",
         "type": "scattermapbox"
        },
        {
         "hovertemplate": "Bar name=Vinoteca Bari<br>lat=%{lat}<br>lon=%{lon}<extra></extra>",
         "lat": [
          -34.6002907
         ],
         "legendgroup": "Vinoteca Bari",
         "lon": [
          -58.3808389
         ],
         "marker": {
          "color": "#FF97FF"
         },
         "mode": "markers",
         "name": "Vinoteca Bari",
         "showlegend": true,
         "subplot": "mapbox",
         "type": "scattermapbox"
        },
        {
         "hovertemplate": "Bar name=Beer Conect<br>lat=%{lat}<br>lon=%{lon}<extra></extra>",
         "lat": [
          -34.5998922
         ],
         "legendgroup": "Beer Conect",
         "lon": [
          -58.3739989
         ],
         "marker": {
          "color": "#FECB52"
         },
         "mode": "markers",
         "name": "Beer Conect",
         "showlegend": true,
         "subplot": "mapbox",
         "type": "scattermapbox"
        },
        {
         "hovertemplate": "Bar name=Porto - Night Stadium<br>lat=%{lat}<br>lon=%{lon}<extra></extra>",
         "lat": [
          -34.5920698
         ],
         "legendgroup": "Porto - Night Stadium",
         "lon": [
          -58.4264239
         ],
         "marker": {
          "color": "#636efa"
         },
         "mode": "markers",
         "name": "Porto - Night Stadium",
         "showlegend": true,
         "subplot": "mapbox",
         "type": "scattermapbox"
        },
        {
         "hovertemplate": "Bar name=Varela Varilita<br>lat=%{lat}<br>lon=%{lon}<extra></extra>",
         "lat": [
          -34.5876103
         ],
         "legendgroup": "Varela Varilita",
         "lon": [
          -58.4201527
         ],
         "marker": {
          "color": "#EF553B"
         },
         "mode": "markers",
         "name": "Varela Varilita",
         "showlegend": true,
         "subplot": "mapbox",
         "type": "scattermapbox"
        },
        {
         "hovertemplate": "Bar name=Gibraltar<br>lat=%{lat}<br>lon=%{lon}<extra></extra>",
         "lat": [
          -34.6184038
         ],
         "legendgroup": "Gibraltar",
         "lon": [
          -58.3744431
         ],
         "marker": {
          "color": "#00cc96"
         },
         "mode": "markers",
         "name": "Gibraltar",
         "showlegend": true,
         "subplot": "mapbox",
         "type": "scattermapbox"
        },
        {
         "hovertemplate": "Bar name=Solera<br>lat=%{lat}<br>lon=%{lon}<extra></extra>",
         "lat": [
          -34.6045741
         ],
         "legendgroup": "Solera",
         "lon": [
          -58.3766452
         ],
         "marker": {
          "color": "#ab63fa"
         },
         "mode": "markers",
         "name": "Solera",
         "showlegend": true,
         "subplot": "mapbox",
         "type": "scattermapbox"
        },
        {
         "hovertemplate": "Bar name=La Calle<br>lat=%{lat}<br>lon=%{lon}<extra></extra>",
         "lat": [
          -34.5912128
         ],
         "legendgroup": "La Calle",
         "lon": [
          -58.4328974
         ],
         "marker": {
          "color": "#FFA15A"
         },
         "mode": "markers",
         "name": "La Calle",
         "showlegend": true,
         "subplot": "mapbox",
         "type": "scattermapbox"
        },
        {
         "hovertemplate": "Bar name=Unplug Bar<br>lat=%{lat}<br>lon=%{lon}<extra></extra>",
         "lat": [
          -34.6085433
         ],
         "legendgroup": "Unplug Bar",
         "lon": [
          -58.382577
         ],
         "marker": {
          "color": "#19d3f3"
         },
         "mode": "markers",
         "name": "Unplug Bar",
         "showlegend": true,
         "subplot": "mapbox",
         "type": "scattermapbox"
        },
        {
         "hovertemplate": "Bar name=Hache<br>lat=%{lat}<br>lon=%{lon}<extra></extra>",
         "lat": [
          -34.5828205
         ],
         "legendgroup": "Hache",
         "lon": [
          -58.4387147
         ],
         "marker": {
          "color": "#FF6692"
         },
         "mode": "markers",
         "name": "Hache",
         "showlegend": true,
         "subplot": "mapbox",
         "type": "scattermapbox"
        },
        {
         "hovertemplate": "Bar name=Uptown & The Bronx<br>lat=%{lat}<br>lon=%{lon}<extra></extra>",
         "lat": [
          -34.5780233
         ],
         "legendgroup": "Uptown & The Bronx",
         "lon": [
          -58.437279
         ],
         "marker": {
          "color": "#B6E880"
         },
         "mode": "markers",
         "name": "Uptown & The Bronx",
         "showlegend": true,
         "subplot": "mapbox",
         "type": "scattermapbox"
        },
        {
         "hovertemplate": "Bar name=Belgica<br>lat=%{lat}<br>lon=%{lon}<extra></extra>",
         "lat": [
          -34.6263128
         ],
         "legendgroup": "Belgica",
         "lon": [
          -58.4406288
         ],
         "marker": {
          "color": "#FF97FF"
         },
         "mode": "markers",
         "name": "Belgica",
         "showlegend": true,
         "subplot": "mapbox",
         "type": "scattermapbox"
        },
        {
         "hovertemplate": "Bar name=J.W. Bradley<br>lat=%{lat}<br>lon=%{lon}<extra></extra>",
         "lat": [
          -34.5863269
         ],
         "legendgroup": "J.W. Bradley",
         "lon": [
          -58.4320594
         ],
         "marker": {
          "color": "#FECB52"
         },
         "mode": "markers",
         "name": "J.W. Bradley",
         "showlegend": true,
         "subplot": "mapbox",
         "type": "scattermapbox"
        },
        {
         "hovertemplate": "Bar name=Chin Chin<br>lat=%{lat}<br>lon=%{lon}<extra></extra>",
         "lat": [
          -34.6185604
         ],
         "legendgroup": "Chin Chin",
         "lon": [
          -58.3729457
         ],
         "marker": {
          "color": "#636efa"
         },
         "mode": "markers",
         "name": "Chin Chin",
         "showlegend": true,
         "subplot": "mapbox",
         "type": "scattermapbox"
        },
        {
         "hovertemplate": "Bar name=M Street Bar<br>lat=%{lat}<br>lon=%{lon}<extra></extra>",
         "lat": [
          -34.5788386
         ],
         "legendgroup": "M Street Bar",
         "lon": [
          -58.4369109
         ],
         "marker": {
          "color": "#EF553B"
         },
         "mode": "markers",
         "name": "M Street Bar",
         "showlegend": true,
         "subplot": "mapbox",
         "type": "scattermapbox"
        },
        {
         "hovertemplate": "Bar name=whoopies<br>lat=%{lat}<br>lon=%{lon}<extra></extra>",
         "lat": [
          -34.5949283
         ],
         "legendgroup": "whoopies",
         "lon": [
          -58.4397343
         ],
         "marker": {
          "color": "#00cc96"
         },
         "mode": "markers",
         "name": "whoopies",
         "showlegend": true,
         "subplot": "mapbox",
         "type": "scattermapbox"
        },
        {
         "hovertemplate": "Bar name=Bar La Cigale<br>lat=%{lat}<br>lon=%{lon}<extra></extra>",
         "lat": [
          -34.6009838
         ],
         "legendgroup": "Bar La Cigale",
         "lon": [
          -58.3711812
         ],
         "marker": {
          "color": "#ab63fa"
         },
         "mode": "markers",
         "name": "Bar La Cigale",
         "showlegend": true,
         "subplot": "mapbox",
         "type": "scattermapbox"
        },
        {
         "hovertemplate": "Bar name=Cocoliche<br>lat=%{lat}<br>lon=%{lon}<extra></extra>",
         "lat": [
          -34.608212
         ],
         "legendgroup": "Cocoliche",
         "lon": [
          -58.3787265
         ],
         "marker": {
          "color": "#FFA15A"
         },
         "mode": "markers",
         "name": "Cocoliche",
         "showlegend": true,
         "subplot": "mapbox",
         "type": "scattermapbox"
        },
        {
         "hovertemplate": "Bar name=Gamarra Cervecería<br>lat=%{lat}<br>lon=%{lon}<extra></extra>",
         "lat": [
          -34.5828275
         ],
         "legendgroup": "Gamarra Cervecería",
         "lon": [
          -58.4766781
         ],
         "marker": {
          "color": "#19d3f3"
         },
         "mode": "markers",
         "name": "Gamarra Cervecería",
         "showlegend": true,
         "subplot": "mapbox",
         "type": "scattermapbox"
        },
        {
         "hovertemplate": "Bar name=La Barra<br>lat=%{lat}<br>lon=%{lon}<extra></extra>",
         "lat": [
          -34.598803
         ],
         "legendgroup": "La Barra",
         "lon": [
          -58.3740889
         ],
         "marker": {
          "color": "#FF6692"
         },
         "mode": "markers",
         "name": "La Barra",
         "showlegend": true,
         "subplot": "mapbox",
         "type": "scattermapbox"
        },
        {
         "hovertemplate": "Bar name=Sabayon<br>lat=%{lat}<br>lon=%{lon}<extra></extra>",
         "lat": [
          -34.6327976
         ],
         "legendgroup": "Sabayon",
         "lon": [
          -58.5002672
         ],
         "marker": {
          "color": "#B6E880"
         },
         "mode": "markers",
         "name": "Sabayon",
         "showlegend": true,
         "subplot": "mapbox",
         "type": "scattermapbox"
        },
        {
         "hovertemplate": "Bar name=Big Pons<br>lat=%{lat}<br>lon=%{lon}<extra></extra>",
         "lat": [
          -34.6260575
         ],
         "legendgroup": "Big Pons",
         "lon": [
          -58.4256611
         ],
         "marker": {
          "color": "#FF97FF"
         },
         "mode": "markers",
         "name": "Big Pons",
         "showlegend": true,
         "subplot": "mapbox",
         "type": "scattermapbox"
        },
        {
         "hovertemplate": "Bar name=La Cava Jufre<br>lat=%{lat}<br>lon=%{lon}<extra></extra>",
         "lat": [
          -34.5970519
         ],
         "legendgroup": "La Cava Jufre",
         "lon": [
          -58.4308086
         ],
         "marker": {
          "color": "#FECB52"
         },
         "mode": "markers",
         "name": "La Cava Jufre",
         "showlegend": true,
         "subplot": "mapbox",
         "type": "scattermapbox"
        },
        {
         "hovertemplate": "Bar name=Viejo Alsina<br>lat=%{lat}<br>lon=%{lon}<extra></extra>",
         "lat": [
          -34.6103908
         ],
         "legendgroup": "Viejo Alsina",
         "lon": [
          -58.3776477
         ],
         "marker": {
          "color": "#636efa"
         },
         "mode": "markers",
         "name": "Viejo Alsina",
         "showlegend": true,
         "subplot": "mapbox",
         "type": "scattermapbox"
        },
        {
         "hovertemplate": "Bar name=Antares<br>lat=%{lat}<br>lon=%{lon}<extra></extra>",
         "lat": [
          -34.5917711,
          -34.5895126,
          -34.626849
         ],
         "legendgroup": "Antares",
         "lon": [
          -58.3897646,
          -58.4292123,
          -58.4426906
         ],
         "marker": {
          "color": "#EF553B"
         },
         "mode": "markers",
         "name": "Antares",
         "showlegend": true,
         "subplot": "mapbox",
         "type": "scattermapbox"
        },
        {
         "hovertemplate": "Bar name=Peña Cervecería<br>lat=%{lat}<br>lon=%{lon}<extra></extra>",
         "lat": [
          -34.5967947
         ],
         "legendgroup": "Peña Cervecería",
         "lon": [
          -58.3917486
         ],
         "marker": {
          "color": "#00cc96"
         },
         "mode": "markers",
         "name": "Peña Cervecería",
         "showlegend": true,
         "subplot": "mapbox",
         "type": "scattermapbox"
        },
        {
         "hovertemplate": "Bar name=El Boliche de Roberto<br>lat=%{lat}<br>lon=%{lon}<extra></extra>",
         "lat": [
          -34.5585796,
          -34.6070477
         ],
         "legendgroup": "El Boliche de Roberto",
         "lon": [
          -58.4578954,
          -58.4186119
         ],
         "marker": {
          "color": "#ab63fa"
         },
         "mode": "markers",
         "name": "El Boliche de Roberto",
         "showlegend": true,
         "subplot": "mapbox",
         "type": "scattermapbox"
        },
        {
         "hovertemplate": "Bar name=Rosebar<br>lat=%{lat}<br>lon=%{lon}<extra></extra>",
         "lat": [
          -34.5855113
         ],
         "legendgroup": "Rosebar",
         "lon": [
          -58.4342957
         ],
         "marker": {
          "color": "#FFA15A"
         },
         "mode": "markers",
         "name": "Rosebar",
         "showlegend": true,
         "subplot": "mapbox",
         "type": "scattermapbox"
        },
        {
         "hovertemplate": "Bar name=VOER<br>lat=%{lat}<br>lon=%{lon}<extra></extra>",
         "lat": [
          -34.5870743
         ],
         "legendgroup": "VOER",
         "lon": [
          -58.4295899
         ],
         "marker": {
          "color": "#19d3f3"
         },
         "mode": "markers",
         "name": "VOER",
         "showlegend": true,
         "subplot": "mapbox",
         "type": "scattermapbox"
        },
        {
         "hovertemplate": "Bar name=Bierhof<br>lat=%{lat}<br>lon=%{lon}<extra></extra>",
         "lat": [
          -34.5894499
         ],
         "legendgroup": "Bierhof",
         "lon": [
          -58.4234314
         ],
         "marker": {
          "color": "#FF6692"
         },
         "mode": "markers",
         "name": "Bierhof",
         "showlegend": true,
         "subplot": "mapbox",
         "type": "scattermapbox"
        },
        {
         "hovertemplate": "Bar name=Hoboken<br>lat=%{lat}<br>lon=%{lon}<extra></extra>",
         "lat": [
          -34.6192982
         ],
         "legendgroup": "Hoboken",
         "lon": [
          -58.3727723
         ],
         "marker": {
          "color": "#B6E880"
         },
         "mode": "markers",
         "name": "Hoboken",
         "showlegend": true,
         "subplot": "mapbox",
         "type": "scattermapbox"
        },
        {
         "hovertemplate": "Bar name=Dársena Bar<br>lat=%{lat}<br>lon=%{lon}<extra></extra>",
         "lat": [
          -34.5946288
         ],
         "legendgroup": "Dársena Bar",
         "lon": [
          -58.4258806
         ],
         "marker": {
          "color": "#FF97FF"
         },
         "mode": "markers",
         "name": "Dársena Bar",
         "showlegend": true,
         "subplot": "mapbox",
         "type": "scattermapbox"
        },
        {
         "hovertemplate": "Bar name=Galpon Plaza<br>lat=%{lat}<br>lon=%{lon}<extra></extra>",
         "lat": [
          -34.5854384
         ],
         "legendgroup": "Galpon Plaza",
         "lon": [
          -58.4688681
         ],
         "marker": {
          "color": "#FECB52"
         },
         "mode": "markers",
         "name": "Galpon Plaza",
         "showlegend": true,
         "subplot": "mapbox",
         "type": "scattermapbox"
        },
        {
         "hovertemplate": "Bar name=Trova Bar<br>lat=%{lat}<br>lon=%{lon}<extra></extra>",
         "lat": [
          -34.5816062
         ],
         "legendgroup": "Trova Bar",
         "lon": [
          -58.4393733
         ],
         "marker": {
          "color": "#636efa"
         },
         "mode": "markers",
         "name": "Trova Bar",
         "showlegend": true,
         "subplot": "mapbox",
         "type": "scattermapbox"
        },
        {
         "hovertemplate": "Bar name=Parque Bar Botanico<br>lat=%{lat}<br>lon=%{lon}<extra></extra>",
         "lat": [
          -34.5888895
         ],
         "legendgroup": "Parque Bar Botanico",
         "lon": [
          -58.4325208
         ],
         "marker": {
          "color": "#EF553B"
         },
         "mode": "markers",
         "name": "Parque Bar Botanico",
         "showlegend": true,
         "subplot": "mapbox",
         "type": "scattermapbox"
        },
        {
         "hovertemplate": "Bar name=Bonnie & Clyde<br>lat=%{lat}<br>lon=%{lon}<extra></extra>",
         "lat": [
          -34.617601
         ],
         "legendgroup": "Bonnie & Clyde",
         "lon": [
          -58.3831913
         ],
         "marker": {
          "color": "#00cc96"
         },
         "mode": "markers",
         "name": "Bonnie & Clyde",
         "showlegend": true,
         "subplot": "mapbox",
         "type": "scattermapbox"
        },
        {
         "hovertemplate": "Bar name=On Tap Craft Beer<br>lat=%{lat}<br>lon=%{lon}<extra></extra>",
         "lat": [
          -34.5964919
         ],
         "legendgroup": "On Tap Craft Beer",
         "lon": [
          -58.3789438
         ],
         "marker": {
          "color": "#ab63fa"
         },
         "mode": "markers",
         "name": "On Tap Craft Beer",
         "showlegend": true,
         "subplot": "mapbox",
         "type": "scattermapbox"
        },
        {
         "hovertemplate": "Bar name=Clot<br>lat=%{lat}<br>lon=%{lon}<extra></extra>",
         "lat": [
          -34.5934793
         ],
         "legendgroup": "Clot",
         "lon": [
          -58.4236427
         ],
         "marker": {
          "color": "#FFA15A"
         },
         "mode": "markers",
         "name": "Clot",
         "showlegend": true,
         "subplot": "mapbox",
         "type": "scattermapbox"
        },
        {
         "hovertemplate": "Bar name=Cervecería 11 25<br>lat=%{lat}<br>lon=%{lon}<extra></extra>",
         "lat": [
          -34.608253
         ],
         "legendgroup": "Cervecería 11 25",
         "lon": [
          -58.4376033
         ],
         "marker": {
          "color": "#19d3f3"
         },
         "mode": "markers",
         "name": "Cervecería 11 25",
         "showlegend": true,
         "subplot": "mapbox",
         "type": "scattermapbox"
        },
        {
         "hovertemplate": "Bar name=On Tap<br>lat=%{lat}<br>lon=%{lon}<extra></extra>",
         "lat": [
          -34.5830981,
          -34.626795
         ],
         "legendgroup": "On Tap",
         "lon": [
          -58.4338948,
          -58.3721677
         ],
         "marker": {
          "color": "#FF6692"
         },
         "mode": "markers",
         "name": "On Tap",
         "showlegend": true,
         "subplot": "mapbox",
         "type": "scattermapbox"
        },
        {
         "hovertemplate": "Bar name=1516 Cervecería<br>lat=%{lat}<br>lon=%{lon}<extra></extra>",
         "lat": [
          -34.588441
         ],
         "legendgroup": "1516 Cervecería",
         "lon": [
          -58.4341848
         ],
         "marker": {
          "color": "#B6E880"
         },
         "mode": "markers",
         "name": "1516 Cervecería",
         "showlegend": true,
         "subplot": "mapbox",
         "type": "scattermapbox"
        },
        {
         "hovertemplate": "Bar name=Seta Bar<br>lat=%{lat}<br>lon=%{lon}<extra></extra>",
         "lat": [
          -34.5954918
         ],
         "legendgroup": "Seta Bar",
         "lon": [
          -58.4209702
         ],
         "marker": {
          "color": "#FF97FF"
         },
         "mode": "markers",
         "name": "Seta Bar",
         "showlegend": true,
         "subplot": "mapbox",
         "type": "scattermapbox"
        },
        {
         "hovertemplate": "Bar name=Malasangre<br>lat=%{lat}<br>lon=%{lon}<extra></extra>",
         "lat": [
          -34.5594401
         ],
         "legendgroup": "Malasangre",
         "lon": [
          -58.4660746
         ],
         "marker": {
          "color": "#FECB52"
         },
         "mode": "markers",
         "name": "Malasangre",
         "showlegend": true,
         "subplot": "mapbox",
         "type": "scattermapbox"
        },
        {
         "hovertemplate": "Bar name=Wunderbar<br>lat=%{lat}<br>lon=%{lon}<extra></extra>",
         "lat": [
          -34.5585085
         ],
         "legendgroup": "Wunderbar",
         "lon": [
          -58.466827
         ],
         "marker": {
          "color": "#636efa"
         },
         "mode": "markers",
         "name": "Wunderbar",
         "showlegend": true,
         "subplot": "mapbox",
         "type": "scattermapbox"
        },
        {
         "hovertemplate": "Bar name=Chaco bar<br>lat=%{lat}<br>lon=%{lon}<extra></extra>",
         "lat": [
          -34.6171574
         ],
         "legendgroup": "Chaco bar",
         "lon": [
          -58.429175
         ],
         "marker": {
          "color": "#EF553B"
         },
         "mode": "markers",
         "name": "Chaco bar",
         "showlegend": true,
         "subplot": "mapbox",
         "type": "scattermapbox"
        },
        {
         "hovertemplate": "Bar name=Genk<br>lat=%{lat}<br>lon=%{lon}<extra></extra>",
         "lat": [
          -34.5871757
         ],
         "legendgroup": "Genk",
         "lon": [
          -58.4326722
         ],
         "marker": {
          "color": "#00cc96"
         },
         "mode": "markers",
         "name": "Genk",
         "showlegend": true,
         "subplot": "mapbox",
         "type": "scattermapbox"
        },
        {
         "hovertemplate": "Bar name=El Bar de Kowalski<br>lat=%{lat}<br>lon=%{lon}<extra></extra>",
         "lat": [
          -34.60034
         ],
         "legendgroup": "El Bar de Kowalski",
         "lon": [
          -58.4149298
         ],
         "marker": {
          "color": "#ab63fa"
         },
         "mode": "markers",
         "name": "El Bar de Kowalski",
         "showlegend": true,
         "subplot": "mapbox",
         "type": "scattermapbox"
        },
        {
         "hovertemplate": "Bar name=Casa Colombo<br>lat=%{lat}<br>lon=%{lon}<extra></extra>",
         "lat": [
          -34.602838
         ],
         "legendgroup": "Casa Colombo",
         "lon": [
          -58.4128118
         ],
         "marker": {
          "color": "#FFA15A"
         },
         "mode": "markers",
         "name": "Casa Colombo",
         "showlegend": true,
         "subplot": "mapbox",
         "type": "scattermapbox"
        },
        {
         "hovertemplate": "Bar name=Santos Vega Draught Bar<br>lat=%{lat}<br>lon=%{lon}<extra></extra>",
         "lat": [
          -34.5843673
         ],
         "legendgroup": "Santos Vega Draught Bar",
         "lon": [
          -58.442959
         ],
         "marker": {
          "color": "#19d3f3"
         },
         "mode": "markers",
         "name": "Santos Vega Draught Bar",
         "showlegend": true,
         "subplot": "mapbox",
         "type": "scattermapbox"
        },
        {
         "hovertemplate": "Bar name=malin head<br>lat=%{lat}<br>lon=%{lon}<extra></extra>",
         "lat": [
          -34.6147699
         ],
         "legendgroup": "malin head",
         "lon": [
          -58.3732397
         ],
         "marker": {
          "color": "#FF6692"
         },
         "mode": "markers",
         "name": "malin head",
         "showlegend": true,
         "subplot": "mapbox",
         "type": "scattermapbox"
        },
        {
         "hovertemplate": "Bar name=Strange Brewing<br>lat=%{lat}<br>lon=%{lon}<extra></extra>",
         "lat": [
          -34.5794801
         ],
         "legendgroup": "Strange Brewing",
         "lon": [
          -58.4513699
         ],
         "marker": {
          "color": "#B6E880"
         },
         "mode": "markers",
         "name": "Strange Brewing",
         "showlegend": true,
         "subplot": "mapbox",
         "type": "scattermapbox"
        },
        {
         "hovertemplate": "Bar name=atom<br>lat=%{lat}<br>lon=%{lon}<extra></extra>",
         "lat": [
          -34.61925
         ],
         "legendgroup": "atom",
         "lon": [
          -58.3729755
         ],
         "marker": {
          "color": "#FF97FF"
         },
         "mode": "markers",
         "name": "atom",
         "showlegend": true,
         "subplot": "mapbox",
         "type": "scattermapbox"
        },
        {
         "hovertemplate": "Bar name=Humboldt 2266, 1A<br>lat=%{lat}<br>lon=%{lon}<extra></extra>",
         "lat": [
          -34.580626
         ],
         "legendgroup": "Humboldt 2266, 1A",
         "lon": [
          -58.4305
         ],
         "marker": {
          "color": "#FECB52"
         },
         "mode": "markers",
         "name": "Humboldt 2266, 1A",
         "showlegend": true,
         "subplot": "mapbox",
         "type": "scattermapbox"
        },
        {
         "hovertemplate": "Bar name=Funes Birrería<br>lat=%{lat}<br>lon=%{lon}<extra></extra>",
         "lat": [
          -34.6201915
         ],
         "legendgroup": "Funes Birrería",
         "lon": [
          -58.3717936
         ],
         "marker": {
          "color": "#636efa"
         },
         "mode": "markers",
         "name": "Funes Birrería",
         "showlegend": true,
         "subplot": "mapbox",
         "type": "scattermapbox"
        },
        {
         "hovertemplate": "Bar name=Growlers craft beer<br>lat=%{lat}<br>lon=%{lon}<extra></extra>",
         "lat": [
          -34.5902653
         ],
         "legendgroup": "Growlers craft beer",
         "lon": [
          -58.4307542
         ],
         "marker": {
          "color": "#EF553B"
         },
         "mode": "markers",
         "name": "Growlers craft beer",
         "showlegend": true,
         "subplot": "mapbox",
         "type": "scattermapbox"
        },
        {
         "hovertemplate": "Bar name=El Patio del Liceo<br>lat=%{lat}<br>lon=%{lon}<extra></extra>",
         "lat": [
          -34.5930043
         ],
         "legendgroup": "El Patio del Liceo",
         "lon": [
          -58.4052307
         ],
         "marker": {
          "color": "#00cc96"
         },
         "mode": "markers",
         "name": "El Patio del Liceo",
         "showlegend": true,
         "subplot": "mapbox",
         "type": "scattermapbox"
        },
        {
         "hovertemplate": "Bar name=La Licoreria Del Mercado<br>lat=%{lat}<br>lon=%{lon}<extra></extra>",
         "lat": [
          -34.619431
         ],
         "legendgroup": "La Licoreria Del Mercado",
         "lon": [
          -58.372765
         ],
         "marker": {
          "color": "#ab63fa"
         },
         "mode": "markers",
         "name": "La Licoreria Del Mercado",
         "showlegend": true,
         "subplot": "mapbox",
         "type": "scattermapbox"
        },
        {
         "hovertemplate": "Bar name=Baris Cerveca artesanal<br>lat=%{lat}<br>lon=%{lon}<extra></extra>",
         "lat": [
          -34.5963014
         ],
         "legendgroup": "Baris Cerveca artesanal",
         "lon": [
          -58.3782779
         ],
         "marker": {
          "color": "#FFA15A"
         },
         "mode": "markers",
         "name": "Baris Cerveca artesanal",
         "showlegend": true,
         "subplot": "mapbox",
         "type": "scattermapbox"
        },
        {
         "hovertemplate": "Bar name=Anasagasti Bar<br>lat=%{lat}<br>lon=%{lon}<extra></extra>",
         "lat": [
          -34.5889708
         ],
         "legendgroup": "Anasagasti Bar",
         "lon": [
          -58.4116982
         ],
         "marker": {
          "color": "#19d3f3"
         },
         "mode": "markers",
         "name": "Anasagasti Bar",
         "showlegend": true,
         "subplot": "mapbox",
         "type": "scattermapbox"
        },
        {
         "hovertemplate": "Bar name=Black Sam Bellamy<br>lat=%{lat}<br>lon=%{lon}<extra></extra>",
         "lat": [
          -34.5737994
         ],
         "legendgroup": "Black Sam Bellamy",
         "lon": [
          -58.4740981
         ],
         "marker": {
          "color": "#FF6692"
         },
         "mode": "markers",
         "name": "Black Sam Bellamy",
         "showlegend": true,
         "subplot": "mapbox",
         "type": "scattermapbox"
        },
        {
         "hovertemplate": "Bar name=La Birreria<br>lat=%{lat}<br>lon=%{lon}<extra></extra>",
         "lat": [
          -34.590181
         ],
         "legendgroup": "La Birreria",
         "lon": [
          -58.4203554
         ],
         "marker": {
          "color": "#B6E880"
         },
         "mode": "markers",
         "name": "La Birreria",
         "showlegend": true,
         "subplot": "mapbox",
         "type": "scattermapbox"
        },
        {
         "hovertemplate": "Bar name=Club Dorado<br>lat=%{lat}<br>lon=%{lon}<extra></extra>",
         "lat": [
          -34.6095837
         ],
         "legendgroup": "Club Dorado",
         "lon": [
          -58.3802871
         ],
         "marker": {
          "color": "#FF97FF"
         },
         "mode": "markers",
         "name": "Club Dorado",
         "showlegend": true,
         "subplot": "mapbox",
         "type": "scattermapbox"
        },
        {
         "hovertemplate": "Bar name=Cilento<br>lat=%{lat}<br>lon=%{lon}<extra></extra>",
         "lat": [
          -34.5885394
         ],
         "legendgroup": "Cilento",
         "lon": [
          -58.3957397
         ],
         "marker": {
          "color": "#FECB52"
         },
         "mode": "markers",
         "name": "Cilento",
         "showlegend": true,
         "subplot": "mapbox",
         "type": "scattermapbox"
        },
        {
         "hovertemplate": "Bar name=The Hole bar<br>lat=%{lat}<br>lon=%{lon}<extra></extra>",
         "lat": [
          -34.589079
         ],
         "legendgroup": "The Hole bar",
         "lon": [
          -58.4266579
         ],
         "marker": {
          "color": "#636efa"
         },
         "mode": "markers",
         "name": "The Hole bar",
         "showlegend": true,
         "subplot": "mapbox",
         "type": "scattermapbox"
        },
        {
         "hovertemplate": "Bar name=Bellagamba<br>lat=%{lat}<br>lon=%{lon}<extra></extra>",
         "lat": [
          -34.6131814
         ],
         "legendgroup": "Bellagamba",
         "lon": [
          -58.436035
         ],
         "marker": {
          "color": "#EF553B"
         },
         "mode": "markers",
         "name": "Bellagamba",
         "showlegend": true,
         "subplot": "mapbox",
         "type": "scattermapbox"
        },
        {
         "hovertemplate": "Bar name=La Embajada<br>lat=%{lat}<br>lon=%{lon}<extra></extra>",
         "lat": [
          -34.6095506
         ],
         "legendgroup": "La Embajada",
         "lon": [
          -58.3847765
         ],
         "marker": {
          "color": "#00cc96"
         },
         "mode": "markers",
         "name": "La Embajada",
         "showlegend": true,
         "subplot": "mapbox",
         "type": "scattermapbox"
        },
        {
         "hovertemplate": "Bar name=Zoom<br>lat=%{lat}<br>lon=%{lon}<extra></extra>",
         "lat": [
          -34.5967863
         ],
         "legendgroup": "Zoom",
         "lon": [
          -58.3989051
         ],
         "marker": {
          "color": "#ab63fa"
         },
         "mode": "markers",
         "name": "Zoom",
         "showlegend": true,
         "subplot": "mapbox",
         "type": "scattermapbox"
        },
        {
         "hovertemplate": "Bar name=Bar Patagonia<br>lat=%{lat}<br>lon=%{lon}<extra></extra>",
         "lat": [
          -34.6010404
         ],
         "legendgroup": "Bar Patagonia",
         "lon": [
          -58.3999012
         ],
         "marker": {
          "color": "#FFA15A"
         },
         "mode": "markers",
         "name": "Bar Patagonia",
         "showlegend": true,
         "subplot": "mapbox",
         "type": "scattermapbox"
        },
        {
         "hovertemplate": "Bar name=Marlon<br>lat=%{lat}<br>lon=%{lon}<extra></extra>",
         "lat": [
          -34.5897727
         ],
         "legendgroup": "Marlon",
         "lon": [
          -58.4316917
         ],
         "marker": {
          "color": "#19d3f3"
         },
         "mode": "markers",
         "name": "Marlon",
         "showlegend": true,
         "subplot": "mapbox",
         "type": "scattermapbox"
        },
        {
         "hovertemplate": "Bar name=Levitar<br>lat=%{lat}<br>lon=%{lon}<extra></extra>",
         "lat": [
          -34.5873865
         ],
         "legendgroup": "Levitar",
         "lon": [
          -58.4336595
         ],
         "marker": {
          "color": "#FF6692"
         },
         "mode": "markers",
         "name": "Levitar",
         "showlegend": true,
         "subplot": "mapbox",
         "type": "scattermapbox"
        },
        {
         "hovertemplate": "Bar name=El Club<br>lat=%{lat}<br>lon=%{lon}<extra></extra>",
         "lat": [
          -34.5885308
         ],
         "legendgroup": "El Club",
         "lon": [
          -58.4306544
         ],
         "marker": {
          "color": "#B6E880"
         },
         "mode": "markers",
         "name": "El Club",
         "showlegend": true,
         "subplot": "mapbox",
         "type": "scattermapbox"
        },
        {
         "hovertemplate": "Bar name=Avant Garten<br>lat=%{lat}<br>lon=%{lon}<extra></extra>",
         "lat": [
          -34.5702294
         ],
         "legendgroup": "Avant Garten",
         "lon": [
          -58.4214601
         ],
         "marker": {
          "color": "#FF97FF"
         },
         "mode": "markers",
         "name": "Avant Garten",
         "showlegend": true,
         "subplot": "mapbox",
         "type": "scattermapbox"
        },
        {
         "hovertemplate": "Bar name=La Choppería de Palermo<br>lat=%{lat}<br>lon=%{lon}<extra></extra>",
         "lat": [
          -34.5886554
         ],
         "legendgroup": "La Choppería de Palermo",
         "lon": [
          -58.4280761
         ],
         "marker": {
          "color": "#FECB52"
         },
         "mode": "markers",
         "name": "La Choppería de Palermo",
         "showlegend": true,
         "subplot": "mapbox",
         "type": "scattermapbox"
        },
        {
         "hovertemplate": "Bar name=Berlina Bunker<br>lat=%{lat}<br>lon=%{lon}<extra></extra>",
         "lat": [
          -34.6186791
         ],
         "legendgroup": "Berlina Bunker",
         "lon": [
          -58.3708556
         ],
         "marker": {
          "color": "#636efa"
         },
         "mode": "markers",
         "name": "Berlina Bunker",
         "showlegend": true,
         "subplot": "mapbox",
         "type": "scattermapbox"
        },
        {
         "hovertemplate": "Bar name=Temple<br>lat=%{lat}<br>lon=%{lon}<extra></extra>",
         "lat": [
          -34.6074785,
          -34.6050592
         ],
         "legendgroup": "Temple",
         "lon": [
          -58.3663042,
          -58.3896712
         ],
         "marker": {
          "color": "#EF553B"
         },
         "mode": "markers",
         "name": "Temple",
         "showlegend": true,
         "subplot": "mapbox",
         "type": "scattermapbox"
        },
        {
         "hovertemplate": "Bar name=The little bar Recoleta<br>lat=%{lat}<br>lon=%{lon}<extra></extra>",
         "lat": [
          -34.5880924
         ],
         "legendgroup": "The little bar Recoleta",
         "lon": [
          -58.4015285
         ],
         "marker": {
          "color": "#00cc96"
         },
         "mode": "markers",
         "name": "The little bar Recoleta",
         "showlegend": true,
         "subplot": "mapbox",
         "type": "scattermapbox"
        },
        {
         "hovertemplate": "Bar name=Obligado<br>lat=%{lat}<br>lon=%{lon}<extra></extra>",
         "lat": [
          -34.5676879
         ],
         "legendgroup": "Obligado",
         "lon": [
          -58.4473472
         ],
         "marker": {
          "color": "#ab63fa"
         },
         "mode": "markers",
         "name": "Obligado",
         "showlegend": true,
         "subplot": "mapbox",
         "type": "scattermapbox"
        },
        {
         "hovertemplate": "Bar name=VALHALLA Bar Vikingo<br>lat=%{lat}<br>lon=%{lon}<extra></extra>",
         "lat": [
          -34.6174969
         ],
         "legendgroup": "VALHALLA Bar Vikingo",
         "lon": [
          -58.373159
         ],
         "marker": {
          "color": "#FFA15A"
         },
         "mode": "markers",
         "name": "VALHALLA Bar Vikingo",
         "showlegend": true,
         "subplot": "mapbox",
         "type": "scattermapbox"
        },
        {
         "hovertemplate": "Bar name=Niji<br>lat=%{lat}<br>lon=%{lon}<extra></extra>",
         "lat": [
          -34.5537448
         ],
         "legendgroup": "Niji",
         "lon": [
          -58.4647712
         ],
         "marker": {
          "color": "#19d3f3"
         },
         "mode": "markers",
         "name": "Niji",
         "showlegend": true,
         "subplot": "mapbox",
         "type": "scattermapbox"
        },
        {
         "hovertemplate": "Bar name=Clara<br>lat=%{lat}<br>lon=%{lon}<extra></extra>",
         "lat": [
          -34.588933
         ],
         "legendgroup": "Clara",
         "lon": [
          -58.4299282
         ],
         "marker": {
          "color": "#FF6692"
         },
         "mode": "markers",
         "name": "Clara",
         "showlegend": true,
         "subplot": "mapbox",
         "type": "scattermapbox"
        },
        {
         "hovertemplate": "Bar name=Thelonious Club<br>lat=%{lat}<br>lon=%{lon}<extra></extra>",
         "lat": [
          -34.5883358
         ],
         "legendgroup": "Thelonious Club",
         "lon": [
          -58.4149934
         ],
         "marker": {
          "color": "#B6E880"
         },
         "mode": "markers",
         "name": "Thelonious Club",
         "showlegend": true,
         "subplot": "mapbox",
         "type": "scattermapbox"
        },
        {
         "hovertemplate": "Bar name=Pain et Vin<br>lat=%{lat}<br>lon=%{lon}<extra></extra>",
         "lat": [
          -34.5885246
         ],
         "legendgroup": "Pain et Vin",
         "lon": [
          -58.4326369
         ],
         "marker": {
          "color": "#FF97FF"
         },
         "mode": "markers",
         "name": "Pain et Vin",
         "showlegend": true,
         "subplot": "mapbox",
         "type": "scattermapbox"
        },
        {
         "hovertemplate": "Bar name=Desarmadero Bar<br>lat=%{lat}<br>lon=%{lon}<extra></extra>",
         "lat": [
          -34.5941489
         ],
         "legendgroup": "Desarmadero Bar",
         "lon": [
          -58.42417
         ],
         "marker": {
          "color": "#FECB52"
         },
         "mode": "markers",
         "name": "Desarmadero Bar",
         "showlegend": true,
         "subplot": "mapbox",
         "type": "scattermapbox"
        },
        {
         "hovertemplate": "Bar name=Wine makers<br>lat=%{lat}<br>lon=%{lon}<extra></extra>",
         "lat": [
          -34.5929012
         ],
         "legendgroup": "Wine makers",
         "lon": [
          -58.3896162
         ],
         "marker": {
          "color": "#636efa"
         },
         "mode": "markers",
         "name": "Wine makers",
         "showlegend": true,
         "subplot": "mapbox",
         "type": "scattermapbox"
        },
        {
         "hovertemplate": "Bar name=Doc bar de vino<br>lat=%{lat}<br>lon=%{lon}<extra></extra>",
         "lat": [
          -34.590078
         ],
         "legendgroup": "Doc bar de vino",
         "lon": [
          -58.4320042
         ],
         "marker": {
          "color": "#EF553B"
         },
         "mode": "markers",
         "name": "Doc bar de vino",
         "showlegend": true,
         "subplot": "mapbox",
         "type": "scattermapbox"
        },
        {
         "hovertemplate": "Bar name=Vico wine bar<br>lat=%{lat}<br>lon=%{lon}<extra></extra>",
         "lat": [
          -34.5925953
         ],
         "legendgroup": "Vico wine bar",
         "lon": [
          -58.4341519
         ],
         "marker": {
          "color": "#00cc96"
         },
         "mode": "markers",
         "name": "Vico wine bar",
         "showlegend": true,
         "subplot": "mapbox",
         "type": "scattermapbox"
        },
        {
         "hovertemplate": "Bar name=Boticario<br>lat=%{lat}<br>lon=%{lon}<extra></extra>",
         "lat": [
          -34.5872446
         ],
         "legendgroup": "Boticario",
         "lon": [
          -58.4322036
         ],
         "marker": {
          "color": "#ab63fa"
         },
         "mode": "markers",
         "name": "Boticario",
         "showlegend": true,
         "subplot": "mapbox",
         "type": "scattermapbox"
        },
        {
         "hovertemplate": "Bar name=Vermú la fuerza<br>lat=%{lat}<br>lon=%{lon}<extra></extra>",
         "lat": [
          -34.5853846
         ],
         "legendgroup": "Vermú la fuerza",
         "lon": [
          -58.4450012
         ],
         "marker": {
          "color": "#FFA15A"
         },
         "mode": "markers",
         "name": "Vermú la fuerza",
         "showlegend": true,
         "subplot": "mapbox",
         "type": "scattermapbox"
        },
        {
         "hovertemplate": "Bar name=Cuervo café<br>lat=%{lat}<br>lon=%{lon}<extra></extra>",
         "lat": [
          -34.5904337
         ],
         "legendgroup": "Cuervo café",
         "lon": [
          -58.4257309
         ],
         "marker": {
          "color": "#19d3f3"
         },
         "mode": "markers",
         "name": "Cuervo café",
         "showlegend": true,
         "subplot": "mapbox",
         "type": "scattermapbox"
        },
        {
         "hovertemplate": "Bar name=La esquina del Vino y la Birra<br>lat=%{lat}<br>lon=%{lon}<extra></extra>",
         "lat": [
          -34.6172523
         ],
         "legendgroup": "La esquina del Vino y la Birra",
         "lon": [
          -58.4303653
         ],
         "marker": {
          "color": "#FF6692"
         },
         "mode": "markers",
         "name": "La esquina del Vino y la Birra",
         "showlegend": true,
         "subplot": "mapbox",
         "type": "scattermapbox"
        },
        {
         "hovertemplate": "Bar name=D'Oro Italian Bar<br>lat=%{lat}<br>lon=%{lon}<extra></extra>",
         "lat": [
          -34.6098431
         ],
         "legendgroup": "D'Oro Italian Bar",
         "lon": [
          -58.3749938
         ],
         "marker": {
          "color": "#B6E880"
         },
         "mode": "markers",
         "name": "D'Oro Italian Bar",
         "showlegend": true,
         "subplot": "mapbox",
         "type": "scattermapbox"
        },
        {
         "hovertemplate": "Bar name=Mauer<br>lat=%{lat}<br>lon=%{lon}<extra></extra>",
         "lat": [
          -34.5472256
         ],
         "legendgroup": "Mauer",
         "lon": [
          -58.4642294
         ],
         "marker": {
          "color": "#FF97FF"
         },
         "mode": "markers",
         "name": "Mauer",
         "showlegend": true,
         "subplot": "mapbox",
         "type": "scattermapbox"
        },
        {
         "hovertemplate": "Bar name=Bar Roma<br>lat=%{lat}<br>lon=%{lon}<extra></extra>",
         "lat": [
          -34.5992922
         ],
         "legendgroup": "Bar Roma",
         "lon": [
          -58.4087401
         ],
         "marker": {
          "color": "#FECB52"
         },
         "mode": "markers",
         "name": "Bar Roma",
         "showlegend": true,
         "subplot": "mapbox",
         "type": "scattermapbox"
        },
        {
         "hovertemplate": "Bar name=imaginario Cultural<br>lat=%{lat}<br>lon=%{lon}<extra></extra>",
         "lat": [
          -34.6008945
         ],
         "legendgroup": "imaginario Cultural",
         "lon": [
          -58.4176685
         ],
         "marker": {
          "color": "#636efa"
         },
         "mode": "markers",
         "name": "imaginario Cultural",
         "showlegend": true,
         "subplot": "mapbox",
         "type": "scattermapbox"
        },
        {
         "hovertemplate": "Bar name=Le Troquet de Henry<br>lat=%{lat}<br>lon=%{lon}<extra></extra>",
         "lat": [
          -34.6023846
         ],
         "legendgroup": "Le Troquet de Henry",
         "lon": [
          -58.413615
         ],
         "marker": {
          "color": "#EF553B"
         },
         "mode": "markers",
         "name": "Le Troquet de Henry",
         "showlegend": true,
         "subplot": "mapbox",
         "type": "scattermapbox"
        },
        {
         "hovertemplate": "Bar name=Chaval<br>lat=%{lat}<br>lon=%{lon}<extra></extra>",
         "lat": [
          -34.5929789
         ],
         "legendgroup": "Chaval",
         "lon": [
          -58.4301611
         ],
         "marker": {
          "color": "#00cc96"
         },
         "mode": "markers",
         "name": "Chaval",
         "showlegend": true,
         "subplot": "mapbox",
         "type": "scattermapbox"
        },
        {
         "hovertemplate": "Bar name=Central de Whisky<br>lat=%{lat}<br>lon=%{lon}<extra></extra>",
         "lat": [
          -34.5869083
         ],
         "legendgroup": "Central de Whisky",
         "lon": [
          -58.4504513
         ],
         "marker": {
          "color": "#ab63fa"
         },
         "mode": "markers",
         "name": "Central de Whisky",
         "showlegend": true,
         "subplot": "mapbox",
         "type": "scattermapbox"
        },
        {
         "hovertemplate": "Bar name=Lutero Bar<br>lat=%{lat}<br>lon=%{lon}<extra></extra>",
         "lat": [
          -34.5859426
         ],
         "legendgroup": "Lutero Bar",
         "lon": [
          -58.4499184
         ],
         "marker": {
          "color": "#FFA15A"
         },
         "mode": "markers",
         "name": "Lutero Bar",
         "showlegend": true,
         "subplot": "mapbox",
         "type": "scattermapbox"
        },
        {
         "hovertemplate": "Bar name=Sifón<br>lat=%{lat}<br>lon=%{lon}<extra></extra>",
         "lat": [
          -34.5866691
         ],
         "legendgroup": "Sifón",
         "lon": [
          -58.4502428
         ],
         "marker": {
          "color": "#19d3f3"
         },
         "mode": "markers",
         "name": "Sifón",
         "showlegend": true,
         "subplot": "mapbox",
         "type": "scattermapbox"
        },
        {
         "hovertemplate": "Bar name=MOLA<br>lat=%{lat}<br>lon=%{lon}<extra></extra>",
         "lat": [
          -34.6195409
         ],
         "legendgroup": "MOLA",
         "lon": [
          -58.3727163
         ],
         "marker": {
          "color": "#FF6692"
         },
         "mode": "markers",
         "name": "MOLA",
         "showlegend": true,
         "subplot": "mapbox",
         "type": "scattermapbox"
        },
        {
         "hovertemplate": "Bar name=Tango<br>lat=%{lat}<br>lon=%{lon}<extra></extra>",
         "lat": [
          -34.6046799
         ],
         "legendgroup": "Tango",
         "lon": [
          -58.4220715
         ],
         "marker": {
          "color": "#B6E880"
         },
         "mode": "markers",
         "name": "Tango",
         "showlegend": true,
         "subplot": "mapbox",
         "type": "scattermapbox"
        },
        {
         "hovertemplate": "Bar name=Trade Sky Bar<br>lat=%{lat}<br>lon=%{lon}<extra></extra>",
         "lat": [
          -34.6032827
         ],
         "legendgroup": "Trade Sky Bar",
         "lon": [
          -58.3705371
         ],
         "marker": {
          "color": "#FF97FF"
         },
         "mode": "markers",
         "name": "Trade Sky Bar",
         "showlegend": true,
         "subplot": "mapbox",
         "type": "scattermapbox"
        },
        {
         "hovertemplate": "Bar name=Tres Monos<br>lat=%{lat}<br>lon=%{lon}<extra></extra>",
         "lat": [
          -34.5848739
         ],
         "legendgroup": "Tres Monos",
         "lon": [
          -58.4262029
         ],
         "marker": {
          "color": "#FECB52"
         },
         "mode": "markers",
         "name": "Tres Monos",
         "showlegend": true,
         "subplot": "mapbox",
         "type": "scattermapbox"
        },
        {
         "hovertemplate": "Bar name=Imperio<br>lat=%{lat}<br>lon=%{lon}<extra></extra>",
         "lat": [
          -34.6145758
         ],
         "legendgroup": "Imperio",
         "lon": [
          -58.4014656
         ],
         "marker": {
          "color": "#636efa"
         },
         "mode": "markers",
         "name": "Imperio",
         "showlegend": true,
         "subplot": "mapbox",
         "type": "scattermapbox"
        },
        {
         "hovertemplate": "Bar name=Novo<br>lat=%{lat}<br>lon=%{lon}<extra></extra>",
         "lat": [
          -34.6011226
         ],
         "legendgroup": "Novo",
         "lon": [
          -58.397187
         ],
         "marker": {
          "color": "#EF553B"
         },
         "mode": "markers",
         "name": "Novo",
         "showlegend": true,
         "subplot": "mapbox",
         "type": "scattermapbox"
        },
        {
         "hovertemplate": "Bar name=Bar Helado<br>lat=%{lat}<br>lon=%{lon}<extra></extra>",
         "lat": [
          -34.558668
         ],
         "legendgroup": "Bar Helado",
         "lon": [
          -58.4489098
         ],
         "marker": {
          "color": "#00cc96"
         },
         "mode": "markers",
         "name": "Bar Helado",
         "showlegend": true,
         "subplot": "mapbox",
         "type": "scattermapbox"
        },
        {
         "hovertemplate": "Bar name=Guarda la vieja<br>lat=%{lat}<br>lon=%{lon}<extra></extra>",
         "lat": [
          -34.6019501
         ],
         "legendgroup": "Guarda la vieja",
         "lon": [
          -58.4152084
         ],
         "marker": {
          "color": "#ab63fa"
         },
         "mode": "markers",
         "name": "Guarda la vieja",
         "showlegend": true,
         "subplot": "mapbox",
         "type": "scattermapbox"
        },
        {
         "hovertemplate": "Bar name=Garden Bar<br>lat=%{lat}<br>lon=%{lon}<extra></extra>",
         "lat": [
          -34.6091179
         ],
         "legendgroup": "Garden Bar",
         "lon": [
          -58.5168346
         ],
         "marker": {
          "color": "#FFA15A"
         },
         "mode": "markers",
         "name": "Garden Bar",
         "showlegend": true,
         "subplot": "mapbox",
         "type": "scattermapbox"
        },
        {
         "hovertemplate": "Bar name=La Birra Bar<br>lat=%{lat}<br>lon=%{lon}<extra></extra>",
         "lat": [
          -34.6115351
         ],
         "legendgroup": "La Birra Bar",
         "lon": [
          -58.520673
         ],
         "marker": {
          "color": "#19d3f3"
         },
         "mode": "markers",
         "name": "La Birra Bar",
         "showlegend": true,
         "subplot": "mapbox",
         "type": "scattermapbox"
        },
        {
         "hovertemplate": "Bar name=Bar Colage<br>lat=%{lat}<br>lon=%{lon}<extra></extra>",
         "lat": [
          -34.6091975
         ],
         "legendgroup": "Bar Colage",
         "lon": [
          -58.5175056
         ],
         "marker": {
          "color": "#FF6692"
         },
         "mode": "markers",
         "name": "Bar Colage",
         "showlegend": true,
         "subplot": "mapbox",
         "type": "scattermapbox"
        },
        {
         "hovertemplate": "Bar name=Trapabar<br>lat=%{lat}<br>lon=%{lon}<extra></extra>",
         "lat": [
          -34.5965429
         ],
         "legendgroup": "Trapabar",
         "lon": [
          -58.4974147
         ],
         "marker": {
          "color": "#B6E880"
         },
         "mode": "markers",
         "name": "Trapabar",
         "showlegend": true,
         "subplot": "mapbox",
         "type": "scattermapbox"
        },
        {
         "hovertemplate": "Bar name=Boulangerie<br>lat=%{lat}<br>lon=%{lon}<extra></extra>",
         "lat": [
          -34.5911876
         ],
         "legendgroup": "Boulangerie",
         "lon": [
          -58.4279484
         ],
         "marker": {
          "color": "#FF97FF"
         },
         "mode": "markers",
         "name": "Boulangerie",
         "showlegend": true,
         "subplot": "mapbox",
         "type": "scattermapbox"
        },
        {
         "hovertemplate": "Bar name=Viavenito<br>lat=%{lat}<br>lon=%{lon}<extra></extra>",
         "lat": [
          -34.5914357
         ],
         "legendgroup": "Viavenito",
         "lon": [
          -58.428221
         ],
         "marker": {
          "color": "#FECB52"
         },
         "mode": "markers",
         "name": "Viavenito",
         "showlegend": true,
         "subplot": "mapbox",
         "type": "scattermapbox"
        },
        {
         "hovertemplate": "Bar name=Ruda Bar<br>lat=%{lat}<br>lon=%{lon}<extra></extra>",
         "lat": [
          -34.573075
         ],
         "legendgroup": "Ruda Bar",
         "lon": [
          -58.4486488
         ],
         "marker": {
          "color": "#636efa"
         },
         "mode": "markers",
         "name": "Ruda Bar",
         "showlegend": true,
         "subplot": "mapbox",
         "type": "scattermapbox"
        },
        {
         "hovertemplate": "Bar name=Morbx<br>lat=%{lat}<br>lon=%{lon}<extra></extra>",
         "lat": [
          -34.5872073
         ],
         "legendgroup": "Morbx",
         "lon": [
          -58.4465742
         ],
         "marker": {
          "color": "#EF553B"
         },
         "mode": "markers",
         "name": "Morbx",
         "showlegend": true,
         "subplot": "mapbox",
         "type": "scattermapbox"
        },
        {
         "hovertemplate": "Bar name=Al Azar<br>lat=%{lat}<br>lon=%{lon}<extra></extra>",
         "lat": [
          -34.6215684
         ],
         "legendgroup": "Al Azar",
         "lon": [
          -58.4014718
         ],
         "marker": {
          "color": "#00cc96"
         },
         "mode": "markers",
         "name": "Al Azar",
         "showlegend": true,
         "subplot": "mapbox",
         "type": "scattermapbox"
        },
        {
         "hovertemplate": "Bar name=Noris<br>lat=%{lat}<br>lon=%{lon}<extra></extra>",
         "lat": [
          -34.6164283
         ],
         "legendgroup": "Noris",
         "lon": [
          -58.4010788
         ],
         "marker": {
          "color": "#ab63fa"
         },
         "mode": "markers",
         "name": "Noris",
         "showlegend": true,
         "subplot": "mapbox",
         "type": "scattermapbox"
        },
        {
         "hovertemplate": "Bar name=Mala Santa<br>lat=%{lat}<br>lon=%{lon}<extra></extra>",
         "lat": [
          -34.5595961
         ],
         "legendgroup": "Mala Santa",
         "lon": [
          -58.4434961
         ],
         "marker": {
          "color": "#FFA15A"
         },
         "mode": "markers",
         "name": "Mala Santa",
         "showlegend": true,
         "subplot": "mapbox",
         "type": "scattermapbox"
        },
        {
         "hovertemplate": "Bar name=Copetín<br>lat=%{lat}<br>lon=%{lon}<extra></extra>",
         "lat": [
          -34.5586431
         ],
         "legendgroup": "Copetín",
         "lon": [
          -58.4489565
         ],
         "marker": {
          "color": "#19d3f3"
         },
         "mode": "markers",
         "name": "Copetín",
         "showlegend": true,
         "subplot": "mapbox",
         "type": "scattermapbox"
        },
        {
         "hovertemplate": "Bar name=Bar Ping Pong<br>lat=%{lat}<br>lon=%{lon}<extra></extra>",
         "lat": [
          -34.5679992
         ],
         "legendgroup": "Bar Ping Pong",
         "lon": [
          -58.4926711
         ],
         "marker": {
          "color": "#FF6692"
         },
         "mode": "markers",
         "name": "Bar Ping Pong",
         "showlegend": true,
         "subplot": "mapbox",
         "type": "scattermapbox"
        },
        {
         "hovertemplate": "Bar name=El Colectivo<br>lat=%{lat}<br>lon=%{lon}<extra></extra>",
         "lat": [
          -34.5659522
         ],
         "legendgroup": "El Colectivo",
         "lon": [
          -58.488113
         ],
         "marker": {
          "color": "#B6E880"
         },
         "mode": "markers",
         "name": "El Colectivo",
         "showlegend": true,
         "subplot": "mapbox",
         "type": "scattermapbox"
        },
        {
         "hovertemplate": "Bar name=Varsovia<br>lat=%{lat}<br>lon=%{lon}<extra></extra>",
         "lat": [
          -34.6044232
         ],
         "legendgroup": "Varsovia",
         "lon": [
          -58.4836536
         ],
         "marker": {
          "color": "#FF97FF"
         },
         "mode": "markers",
         "name": "Varsovia",
         "showlegend": true,
         "subplot": "mapbox",
         "type": "scattermapbox"
        },
        {
         "hovertemplate": "Bar name=Chintoneria<br>lat=%{lat}<br>lon=%{lon}<extra></extra>",
         "lat": [
          -34.5585654
         ],
         "legendgroup": "Chintoneria",
         "lon": [
          -58.4491055
         ],
         "marker": {
          "color": "#FECB52"
         },
         "mode": "markers",
         "name": "Chintoneria",
         "showlegend": true,
         "subplot": "mapbox",
         "type": "scattermapbox"
        },
        {
         "hovertemplate": "Bar name=Lucky<br>lat=%{lat}<br>lon=%{lon}<extra></extra>",
         "lat": [
          -34.601227
         ],
         "legendgroup": "Lucky",
         "lon": [
          -58.4079832
         ],
         "marker": {
          "color": "#636efa"
         },
         "mode": "markers",
         "name": "Lucky",
         "showlegend": true,
         "subplot": "mapbox",
         "type": "scattermapbox"
        },
        {
         "hovertemplate": "Bar name=Tano Cabron<br>lat=%{lat}<br>lon=%{lon}<extra></extra>",
         "lat": [
          -34.6019266
         ],
         "legendgroup": "Tano Cabron",
         "lon": [
          -58.4079508
         ],
         "marker": {
          "color": "#EF553B"
         },
         "mode": "markers",
         "name": "Tano Cabron",
         "showlegend": true,
         "subplot": "mapbox",
         "type": "scattermapbox"
        },
        {
         "hovertemplate": "Bar name=Peñón del aguila<br>lat=%{lat}<br>lon=%{lon}<extra></extra>",
         "lat": [
          -34.5833206
         ],
         "legendgroup": "Peñón del aguila",
         "lon": [
          -58.4374582
         ],
         "marker": {
          "color": "#00cc96"
         },
         "mode": "markers",
         "name": "Peñón del aguila",
         "showlegend": true,
         "subplot": "mapbox",
         "type": "scattermapbox"
        },
        {
         "hovertemplate": "Bar name=Drafter's<br>lat=%{lat}<br>lon=%{lon}<extra></extra>",
         "lat": [
          -34.5875206
         ],
         "legendgroup": "Drafter's",
         "lon": [
          -58.395329
         ],
         "marker": {
          "color": "#ab63fa"
         },
         "mode": "markers",
         "name": "Drafter's",
         "showlegend": true,
         "subplot": "mapbox",
         "type": "scattermapbox"
        },
        {
         "hovertemplate": "Bar name=PLTZ<br>lat=%{lat}<br>lon=%{lon}<extra></extra>",
         "lat": [
          -34.5707472
         ],
         "legendgroup": "PLTZ",
         "lon": [
          -58.4219257
         ],
         "marker": {
          "color": "#FFA15A"
         },
         "mode": "markers",
         "name": "PLTZ",
         "showlegend": true,
         "subplot": "mapbox",
         "type": "scattermapbox"
        },
        {
         "hovertemplate": "Bar name=Maldini<br>lat=%{lat}<br>lon=%{lon}<extra></extra>",
         "lat": [
          -34.5811304
         ],
         "legendgroup": "Maldini",
         "lon": [
          -58.4280608
         ],
         "marker": {
          "color": "#19d3f3"
         },
         "mode": "markers",
         "name": "Maldini",
         "showlegend": true,
         "subplot": "mapbox",
         "type": "scattermapbox"
        },
        {
         "hovertemplate": "Bar name=Backroom Bar<br>lat=%{lat}<br>lon=%{lon}<extra></extra>",
         "lat": [
          -34.5862132
         ],
         "legendgroup": "Backroom Bar",
         "lon": [
          -58.426254
         ],
         "marker": {
          "color": "#FF6692"
         },
         "mode": "markers",
         "name": "Backroom Bar",
         "showlegend": true,
         "subplot": "mapbox",
         "type": "scattermapbox"
        },
        {
         "hovertemplate": "Bar name=Benavente<br>lat=%{lat}<br>lon=%{lon}<extra></extra>",
         "lat": [
          -34.5948058
         ],
         "legendgroup": "Benavente",
         "lon": [
          -58.4235252
         ],
         "marker": {
          "color": "#B6E880"
         },
         "mode": "markers",
         "name": "Benavente",
         "showlegend": true,
         "subplot": "mapbox",
         "type": "scattermapbox"
        },
        {
         "hovertemplate": "Bar name=Gavilan<br>lat=%{lat}<br>lon=%{lon}<extra></extra>",
         "lat": [
          -34.6079871
         ],
         "legendgroup": "Gavilan",
         "lon": [
          -58.4720724
         ],
         "marker": {
          "color": "#FF97FF"
         },
         "mode": "markers",
         "name": "Gavilan",
         "showlegend": true,
         "subplot": "mapbox",
         "type": "scattermapbox"
        },
        {
         "hovertemplate": "Bar name=El Bar de Julio<br>lat=%{lat}<br>lon=%{lon}<extra></extra>",
         "lat": [
          -34.6030192
         ],
         "legendgroup": "El Bar de Julio",
         "lon": [
          -58.3826511
         ],
         "marker": {
          "color": "#FECB52"
         },
         "mode": "markers",
         "name": "El Bar de Julio",
         "showlegend": true,
         "subplot": "mapbox",
         "type": "scattermapbox"
        },
        {
         "hovertemplate": "Bar name=Bar Amigos<br>lat=%{lat}<br>lon=%{lon}<extra></extra>",
         "lat": [
          -34.6063755
         ],
         "legendgroup": "Bar Amigos",
         "lon": [
          -58.3866228
         ],
         "marker": {
          "color": "#636efa"
         },
         "mode": "markers",
         "name": "Bar Amigos",
         "showlegend": true,
         "subplot": "mapbox",
         "type": "scattermapbox"
        },
        {
         "hovertemplate": "Bar name=Berlin<br>lat=%{lat}<br>lon=%{lon}<extra></extra>",
         "lat": [
          -34.6062525
         ],
         "legendgroup": "Berlin",
         "lon": [
          -58.3893893
         ],
         "marker": {
          "color": "#EF553B"
         },
         "mode": "markers",
         "name": "Berlin",
         "showlegend": true,
         "subplot": "mapbox",
         "type": "scattermapbox"
        },
        {
         "hovertemplate": "Bar name=Bs. As. City<br>lat=%{lat}<br>lon=%{lon}<extra></extra>",
         "lat": [
          -34.6055068
         ],
         "legendgroup": "Bs. As. City",
         "lon": [
          -58.3885832
         ],
         "marker": {
          "color": "#00cc96"
         },
         "mode": "markers",
         "name": "Bs. As. City",
         "showlegend": true,
         "subplot": "mapbox",
         "type": "scattermapbox"
        },
        {
         "hovertemplate": "Bar name=Hormiga Negra<br>lat=%{lat}<br>lon=%{lon}<extra></extra>",
         "lat": [
          -34.560516
         ],
         "legendgroup": "Hormiga Negra",
         "lon": [
          -58.4606924
         ],
         "marker": {
          "color": "#ab63fa"
         },
         "mode": "markers",
         "name": "Hormiga Negra",
         "showlegend": true,
         "subplot": "mapbox",
         "type": "scattermapbox"
        },
        {
         "hovertemplate": "Bar name=Niceto Bar<br>lat=%{lat}<br>lon=%{lon}<extra></extra>",
         "lat": [
          -34.5872616
         ],
         "legendgroup": "Niceto Bar",
         "lon": [
          -58.4383209
         ],
         "marker": {
          "color": "#FFA15A"
         },
         "mode": "markers",
         "name": "Niceto Bar",
         "showlegend": true,
         "subplot": "mapbox",
         "type": "scattermapbox"
        },
        {
         "hovertemplate": "Bar name=Braus<br>lat=%{lat}<br>lon=%{lon}<extra></extra>",
         "lat": [
          -34.5833358
         ],
         "legendgroup": "Braus",
         "lon": [
          -58.4136773
         ],
         "marker": {
          "color": "#19d3f3"
         },
         "mode": "markers",
         "name": "Braus",
         "showlegend": true,
         "subplot": "mapbox",
         "type": "scattermapbox"
        },
        {
         "hovertemplate": "Bar name=Malparido<br>lat=%{lat}<br>lon=%{lon}<extra></extra>",
         "lat": [
          -34.555318
         ],
         "legendgroup": "Malparido",
         "lon": [
          -58.4697228
         ],
         "marker": {
          "color": "#FF6692"
         },
         "mode": "markers",
         "name": "Malparido",
         "showlegend": true,
         "subplot": "mapbox",
         "type": "scattermapbox"
        },
        {
         "hovertemplate": "Bar name=IPA Cervecería<br>lat=%{lat}<br>lon=%{lon}<extra></extra>",
         "lat": [
          -34.6144813
         ],
         "legendgroup": "IPA Cervecería",
         "lon": [
          -58.4379307
         ],
         "marker": {
          "color": "#B6E880"
         },
         "mode": "markers",
         "name": "IPA Cervecería",
         "showlegend": true,
         "subplot": "mapbox",
         "type": "scattermapbox"
        },
        {
         "hovertemplate": "Bar name=Una Fresca Tienda de Bebidas<br>lat=%{lat}<br>lon=%{lon}<extra></extra>",
         "lat": [
          -34.5880906
         ],
         "legendgroup": "Una Fresca Tienda de Bebidas",
         "lon": [
          -58.4224233
         ],
         "marker": {
          "color": "#FF97FF"
         },
         "mode": "markers",
         "name": "Una Fresca Tienda de Bebidas",
         "showlegend": true,
         "subplot": "mapbox",
         "type": "scattermapbox"
        },
        {
         "hovertemplate": "Bar name=Cochinchina<br>lat=%{lat}<br>lon=%{lon}<extra></extra>",
         "lat": [
          -34.590336
         ],
         "legendgroup": "Cochinchina",
         "lon": [
          -58.4288565
         ],
         "marker": {
          "color": "#FECB52"
         },
         "mode": "markers",
         "name": "Cochinchina",
         "showlegend": true,
         "subplot": "mapbox",
         "type": "scattermapbox"
        },
        {
         "hovertemplate": "Bar name=Kitchen Bar<br>lat=%{lat}<br>lon=%{lon}<extra></extra>",
         "lat": [
          -34.6017422
         ],
         "legendgroup": "Kitchen Bar",
         "lon": [
          -58.4049502
         ],
         "marker": {
          "color": "#636efa"
         },
         "mode": "markers",
         "name": "Kitchen Bar",
         "showlegend": true,
         "subplot": "mapbox",
         "type": "scattermapbox"
        },
        {
         "hovertemplate": "Bar name=Oslo<br>lat=%{lat}<br>lon=%{lon}<extra></extra>",
         "lat": [
          -34.5794193
         ],
         "legendgroup": "Oslo",
         "lon": [
          -58.4153488
         ],
         "marker": {
          "color": "#EF553B"
         },
         "mode": "markers",
         "name": "Oslo",
         "showlegend": true,
         "subplot": "mapbox",
         "type": "scattermapbox"
        },
        {
         "hovertemplate": "Bar name=Salas LPM<br>lat=%{lat}<br>lon=%{lon}<extra></extra>",
         "lat": [
          -34.6080669
         ],
         "legendgroup": "Salas LPM",
         "lon": [
          -58.4894968
         ],
         "marker": {
          "color": "#00cc96"
         },
         "mode": "markers",
         "name": "Salas LPM",
         "showlegend": true,
         "subplot": "mapbox",
         "type": "scattermapbox"
        },
        {
         "hovertemplate": "Bar name=El Destino<br>lat=%{lat}<br>lon=%{lon}<extra></extra>",
         "lat": [
          -34.6031782
         ],
         "legendgroup": "El Destino",
         "lon": [
          -58.4130045
         ],
         "marker": {
          "color": "#ab63fa"
         },
         "mode": "markers",
         "name": "El Destino",
         "showlegend": true,
         "subplot": "mapbox",
         "type": "scattermapbox"
        },
        {
         "hovertemplate": "Bar name=Rey de Copas<br>lat=%{lat}<br>lon=%{lon}<extra></extra>",
         "lat": [
          -34.5883774
         ],
         "legendgroup": "Rey de Copas",
         "lon": [
          -58.4328148
         ],
         "marker": {
          "color": "#FFA15A"
         },
         "mode": "markers",
         "name": "Rey de Copas",
         "showlegend": true,
         "subplot": "mapbox",
         "type": "scattermapbox"
        },
        {
         "hovertemplate": "Bar name=Peñon del Aguila<br>lat=%{lat}<br>lon=%{lon}<extra></extra>",
         "lat": [
          -34.6056978
         ],
         "legendgroup": "Peñon del Aguila",
         "lon": [
          -58.364849
         ],
         "marker": {
          "color": "#19d3f3"
         },
         "mode": "markers",
         "name": "Peñon del Aguila",
         "showlegend": true,
         "subplot": "mapbox",
         "type": "scattermapbox"
        },
        {
         "hovertemplate": "Bar name=Federal Bar<br>lat=%{lat}<br>lon=%{lon}<extra></extra>",
         "lat": [
          -34.6121916
         ],
         "legendgroup": "Federal Bar",
         "lon": [
          -58.3860645
         ],
         "marker": {
          "color": "#FF6692"
         },
         "mode": "markers",
         "name": "Federal Bar",
         "showlegend": true,
         "subplot": "mapbox",
         "type": "scattermapbox"
        },
        {
         "hovertemplate": "Bar name=Cocktail 80<br>lat=%{lat}<br>lon=%{lon}<extra></extra>",
         "lat": [
          -34.5423124
         ],
         "legendgroup": "Cocktail 80",
         "lon": [
          -58.4737204
         ],
         "marker": {
          "color": "#B6E880"
         },
         "mode": "markers",
         "name": "Cocktail 80",
         "showlegend": true,
         "subplot": "mapbox",
         "type": "scattermapbox"
        },
        {
         "hovertemplate": "Bar name=Barrio del Loco<br>lat=%{lat}<br>lon=%{lon}<extra></extra>",
         "lat": [
          -34.5572897
         ],
         "legendgroup": "Barrio del Loco",
         "lon": [
          -58.4440577
         ],
         "marker": {
          "color": "#FF97FF"
         },
         "mode": "markers",
         "name": "Barrio del Loco",
         "showlegend": true,
         "subplot": "mapbox",
         "type": "scattermapbox"
        },
        {
         "hovertemplate": "Bar name=Pibä<br>lat=%{lat}<br>lon=%{lon}<extra></extra>",
         "lat": [
          -34.5574874
         ],
         "legendgroup": "Pibä",
         "lon": [
          -58.4510672
         ],
         "marker": {
          "color": "#FECB52"
         },
         "mode": "markers",
         "name": "Pibä",
         "showlegend": true,
         "subplot": "mapbox",
         "type": "scattermapbox"
        },
        {
         "hovertemplate": "Bar name=Keller Bier<br>lat=%{lat}<br>lon=%{lon}<extra></extra>",
         "lat": [
          -34.6029103
         ],
         "legendgroup": "Keller Bier",
         "lon": [
          -58.3807892
         ],
         "marker": {
          "color": "#636efa"
         },
         "mode": "markers",
         "name": "Keller Bier",
         "showlegend": true,
         "subplot": "mapbox",
         "type": "scattermapbox"
        },
        {
         "hovertemplate": "Bar name=Rodizinho<br>lat=%{lat}<br>lon=%{lon}<extra></extra>",
         "lat": [
          -34.6073798
         ],
         "legendgroup": "Rodizinho",
         "lon": [
          -58.3663089
         ],
         "marker": {
          "color": "#EF553B"
         },
         "mode": "markers",
         "name": "Rodizinho",
         "showlegend": true,
         "subplot": "mapbox",
         "type": "scattermapbox"
        },
        {
         "hovertemplate": "Bar name=Bucarest<br>lat=%{lat}<br>lon=%{lon}<extra></extra>",
         "lat": [
          -34.5975311
         ],
         "legendgroup": "Bucarest",
         "lon": [
          -58.4348733
         ],
         "marker": {
          "color": "#00cc96"
         },
         "mode": "markers",
         "name": "Bucarest",
         "showlegend": true,
         "subplot": "mapbox",
         "type": "scattermapbox"
        },
        {
         "hovertemplate": "Bar name=Cruz Vinos<br>lat=%{lat}<br>lon=%{lon}<extra></extra>",
         "lat": [
          -34.5572128
         ],
         "legendgroup": "Cruz Vinos",
         "lon": [
          -58.451757
         ],
         "marker": {
          "color": "#ab63fa"
         },
         "mode": "markers",
         "name": "Cruz Vinos",
         "showlegend": true,
         "subplot": "mapbox",
         "type": "scattermapbox"
        },
        {
         "hovertemplate": "Bar name=El Españolito<br>lat=%{lat}<br>lon=%{lon}<extra></extra>",
         "lat": [
          -34.6101679
         ],
         "legendgroup": "El Españolito",
         "lon": [
          -58.3804275
         ],
         "marker": {
          "color": "#FFA15A"
         },
         "mode": "markers",
         "name": "El Españolito",
         "showlegend": true,
         "subplot": "mapbox",
         "type": "scattermapbox"
        },
        {
         "hovertemplate": "Bar name=Crespo Bar<br>lat=%{lat}<br>lon=%{lon}<extra></extra>",
         "lat": [
          -34.5986727
         ],
         "legendgroup": "Crespo Bar",
         "lon": [
          -58.4366115
         ],
         "marker": {
          "color": "#19d3f3"
         },
         "mode": "markers",
         "name": "Crespo Bar",
         "showlegend": true,
         "subplot": "mapbox",
         "type": "scattermapbox"
        },
        {
         "hovertemplate": "Bar name=Krill<br>lat=%{lat}<br>lon=%{lon}<extra></extra>",
         "lat": [
          -34.5587073
         ],
         "legendgroup": "Krill",
         "lon": [
          -58.4491061
         ],
         "marker": {
          "color": "#FF6692"
         },
         "mode": "markers",
         "name": "Krill",
         "showlegend": true,
         "subplot": "mapbox",
         "type": "scattermapbox"
        },
        {
         "hovertemplate": "Bar name=PublicBar<br>lat=%{lat}<br>lon=%{lon}<extra></extra>",
         "lat": [
          -34.6107338
         ],
         "legendgroup": "PublicBar",
         "lon": [
          -58.3636798
         ],
         "marker": {
          "color": "#B6E880"
         },
         "mode": "markers",
         "name": "PublicBar",
         "showlegend": true,
         "subplot": "mapbox",
         "type": "scattermapbox"
        },
        {
         "hovertemplate": "Bar name=Aribau<br>lat=%{lat}<br>lon=%{lon}<extra></extra>",
         "lat": [
          -34.5811936
         ],
         "legendgroup": "Aribau",
         "lon": [
          -58.4280938
         ],
         "marker": {
          "color": "#FF97FF"
         },
         "mode": "markers",
         "name": "Aribau",
         "showlegend": true,
         "subplot": "mapbox",
         "type": "scattermapbox"
        },
        {
         "hovertemplate": "Bar name=Moretti<br>lat=%{lat}<br>lon=%{lon}<extra></extra>",
         "lat": [
          -34.5567561
         ],
         "legendgroup": "Moretti",
         "lon": [
          -58.4523737
         ],
         "marker": {
          "color": "#FECB52"
         },
         "mode": "markers",
         "name": "Moretti",
         "showlegend": true,
         "subplot": "mapbox",
         "type": "scattermapbox"
        },
        {
         "hovertemplate": "Bar name=Negroni Bistro & Sushi Bar<br>lat=%{lat}<br>lon=%{lon}<extra></extra>",
         "lat": [
          -34.6063411
         ],
         "legendgroup": "Negroni Bistro & Sushi Bar",
         "lon": [
          -58.3641368
         ],
         "marker": {
          "color": "#636efa"
         },
         "mode": "markers",
         "name": "Negroni Bistro & Sushi Bar",
         "showlegend": true,
         "subplot": "mapbox",
         "type": "scattermapbox"
        },
        {
         "hovertemplate": "Bar name=Basta Callejón<br>lat=%{lat}<br>lon=%{lon}<extra></extra>",
         "lat": [
          -34.5938268
         ],
         "legendgroup": "Basta Callejón",
         "lon": [
          -58.4432108
         ],
         "marker": {
          "color": "#EF553B"
         },
         "mode": "markers",
         "name": "Basta Callejón",
         "showlegend": true,
         "subplot": "mapbox",
         "type": "scattermapbox"
        },
        {
         "hovertemplate": "Bar name=Famous<br>lat=%{lat}<br>lon=%{lon}<extra></extra>",
         "lat": [
          -34.5845599
         ],
         "legendgroup": "Famous",
         "lon": [
          -58.4366418
         ],
         "marker": {
          "color": "#00cc96"
         },
         "mode": "markers",
         "name": "Famous",
         "showlegend": true,
         "subplot": "mapbox",
         "type": "scattermapbox"
        },
        {
         "hovertemplate": "Bar name=Vinoteca<br>lat=%{lat}<br>lon=%{lon}<extra></extra>",
         "lat": [
          -34.5880116
         ],
         "legendgroup": "Vinoteca",
         "lon": [
          -58.4225217
         ],
         "marker": {
          "color": "#ab63fa"
         },
         "mode": "markers",
         "name": "Vinoteca",
         "showlegend": true,
         "subplot": "mapbox",
         "type": "scattermapbox"
        },
        {
         "hovertemplate": "Bar name=Puerta Uno Bar<br>lat=%{lat}<br>lon=%{lon}<extra></extra>",
         "lat": [
          -34.5577775
         ],
         "legendgroup": "Puerta Uno Bar",
         "lon": [
          -58.4497434
         ],
         "marker": {
          "color": "#FFA15A"
         },
         "mode": "markers",
         "name": "Puerta Uno Bar",
         "showlegend": true,
         "subplot": "mapbox",
         "type": "scattermapbox"
        },
        {
         "hovertemplate": "Bar name=New Fama<br>lat=%{lat}<br>lon=%{lon}<extra></extra>",
         "lat": [
          -34.6054786
         ],
         "legendgroup": "New Fama",
         "lon": [
          -58.3905451
         ],
         "marker": {
          "color": "#19d3f3"
         },
         "mode": "markers",
         "name": "New Fama",
         "showlegend": true,
         "subplot": "mapbox",
         "type": "scattermapbox"
        },
        {
         "hovertemplate": "Bar name=Kooperation BAs<br>lat=%{lat}<br>lon=%{lon}<extra></extra>",
         "lat": [
          -34.6037719
         ],
         "legendgroup": "Kooperation BAs",
         "lon": [
          -58.3892976
         ],
         "marker": {
          "color": "#FF6692"
         },
         "mode": "markers",
         "name": "Kooperation BAs",
         "showlegend": true,
         "subplot": "mapbox",
         "type": "scattermapbox"
        }
       ],
       "layout": {
        "legend": {
         "title": {
          "text": "Bar name"
         },
         "tracegroupgap": 0
        },
        "mapbox": {
         "center": {
          "lat": -34.59567153421751,
          "lon": -58.42133488620689
         },
         "domain": {
          "x": [
           0,
           1
          ],
          "y": [
           0,
           1
          ]
         },
         "style": "open-street-map",
         "zoom": 12
        },
        "margin": {
         "b": 0,
         "l": 0,
         "r": 0,
         "t": 0
        },
        "template": {
         "data": {
          "bar": [
           {
            "error_x": {
             "color": "#2a3f5f"
            },
            "error_y": {
             "color": "#2a3f5f"
            },
            "marker": {
             "line": {
              "color": "#E5ECF6",
              "width": 0.5
             },
             "pattern": {
              "fillmode": "overlay",
              "size": 10,
              "solidity": 0.2
             }
            },
            "type": "bar"
           }
          ],
          "barpolar": [
           {
            "marker": {
             "line": {
              "color": "#E5ECF6",
              "width": 0.5
             },
             "pattern": {
              "fillmode": "overlay",
              "size": 10,
              "solidity": 0.2
             }
            },
            "type": "barpolar"
           }
          ],
          "carpet": [
           {
            "aaxis": {
             "endlinecolor": "#2a3f5f",
             "gridcolor": "white",
             "linecolor": "white",
             "minorgridcolor": "white",
             "startlinecolor": "#2a3f5f"
            },
            "baxis": {
             "endlinecolor": "#2a3f5f",
             "gridcolor": "white",
             "linecolor": "white",
             "minorgridcolor": "white",
             "startlinecolor": "#2a3f5f"
            },
            "type": "carpet"
           }
          ],
          "choropleth": [
           {
            "colorbar": {
             "outlinewidth": 0,
             "ticks": ""
            },
            "type": "choropleth"
           }
          ],
          "contour": [
           {
            "colorbar": {
             "outlinewidth": 0,
             "ticks": ""
            },
            "colorscale": [
             [
              0,
              "#0d0887"
             ],
             [
              0.1111111111111111,
              "#46039f"
             ],
             [
              0.2222222222222222,
              "#7201a8"
             ],
             [
              0.3333333333333333,
              "#9c179e"
             ],
             [
              0.4444444444444444,
              "#bd3786"
             ],
             [
              0.5555555555555556,
              "#d8576b"
             ],
             [
              0.6666666666666666,
              "#ed7953"
             ],
             [
              0.7777777777777778,
              "#fb9f3a"
             ],
             [
              0.8888888888888888,
              "#fdca26"
             ],
             [
              1,
              "#f0f921"
             ]
            ],
            "type": "contour"
           }
          ],
          "contourcarpet": [
           {
            "colorbar": {
             "outlinewidth": 0,
             "ticks": ""
            },
            "type": "contourcarpet"
           }
          ],
          "heatmap": [
           {
            "colorbar": {
             "outlinewidth": 0,
             "ticks": ""
            },
            "colorscale": [
             [
              0,
              "#0d0887"
             ],
             [
              0.1111111111111111,
              "#46039f"
             ],
             [
              0.2222222222222222,
              "#7201a8"
             ],
             [
              0.3333333333333333,
              "#9c179e"
             ],
             [
              0.4444444444444444,
              "#bd3786"
             ],
             [
              0.5555555555555556,
              "#d8576b"
             ],
             [
              0.6666666666666666,
              "#ed7953"
             ],
             [
              0.7777777777777778,
              "#fb9f3a"
             ],
             [
              0.8888888888888888,
              "#fdca26"
             ],
             [
              1,
              "#f0f921"
             ]
            ],
            "type": "heatmap"
           }
          ],
          "heatmapgl": [
           {
            "colorbar": {
             "outlinewidth": 0,
             "ticks": ""
            },
            "colorscale": [
             [
              0,
              "#0d0887"
             ],
             [
              0.1111111111111111,
              "#46039f"
             ],
             [
              0.2222222222222222,
              "#7201a8"
             ],
             [
              0.3333333333333333,
              "#9c179e"
             ],
             [
              0.4444444444444444,
              "#bd3786"
             ],
             [
              0.5555555555555556,
              "#d8576b"
             ],
             [
              0.6666666666666666,
              "#ed7953"
             ],
             [
              0.7777777777777778,
              "#fb9f3a"
             ],
             [
              0.8888888888888888,
              "#fdca26"
             ],
             [
              1,
              "#f0f921"
             ]
            ],
            "type": "heatmapgl"
           }
          ],
          "histogram": [
           {
            "marker": {
             "pattern": {
              "fillmode": "overlay",
              "size": 10,
              "solidity": 0.2
             }
            },
            "type": "histogram"
           }
          ],
          "histogram2d": [
           {
            "colorbar": {
             "outlinewidth": 0,
             "ticks": ""
            },
            "colorscale": [
             [
              0,
              "#0d0887"
             ],
             [
              0.1111111111111111,
              "#46039f"
             ],
             [
              0.2222222222222222,
              "#7201a8"
             ],
             [
              0.3333333333333333,
              "#9c179e"
             ],
             [
              0.4444444444444444,
              "#bd3786"
             ],
             [
              0.5555555555555556,
              "#d8576b"
             ],
             [
              0.6666666666666666,
              "#ed7953"
             ],
             [
              0.7777777777777778,
              "#fb9f3a"
             ],
             [
              0.8888888888888888,
              "#fdca26"
             ],
             [
              1,
              "#f0f921"
             ]
            ],
            "type": "histogram2d"
           }
          ],
          "histogram2dcontour": [
           {
            "colorbar": {
             "outlinewidth": 0,
             "ticks": ""
            },
            "colorscale": [
             [
              0,
              "#0d0887"
             ],
             [
              0.1111111111111111,
              "#46039f"
             ],
             [
              0.2222222222222222,
              "#7201a8"
             ],
             [
              0.3333333333333333,
              "#9c179e"
             ],
             [
              0.4444444444444444,
              "#bd3786"
             ],
             [
              0.5555555555555556,
              "#d8576b"
             ],
             [
              0.6666666666666666,
              "#ed7953"
             ],
             [
              0.7777777777777778,
              "#fb9f3a"
             ],
             [
              0.8888888888888888,
              "#fdca26"
             ],
             [
              1,
              "#f0f921"
             ]
            ],
            "type": "histogram2dcontour"
           }
          ],
          "mesh3d": [
           {
            "colorbar": {
             "outlinewidth": 0,
             "ticks": ""
            },
            "type": "mesh3d"
           }
          ],
          "parcoords": [
           {
            "line": {
             "colorbar": {
              "outlinewidth": 0,
              "ticks": ""
             }
            },
            "type": "parcoords"
           }
          ],
          "pie": [
           {
            "automargin": true,
            "type": "pie"
           }
          ],
          "scatter": [
           {
            "fillpattern": {
             "fillmode": "overlay",
             "size": 10,
             "solidity": 0.2
            },
            "type": "scatter"
           }
          ],
          "scatter3d": [
           {
            "line": {
             "colorbar": {
              "outlinewidth": 0,
              "ticks": ""
             }
            },
            "marker": {
             "colorbar": {
              "outlinewidth": 0,
              "ticks": ""
             }
            },
            "type": "scatter3d"
           }
          ],
          "scattercarpet": [
           {
            "marker": {
             "colorbar": {
              "outlinewidth": 0,
              "ticks": ""
             }
            },
            "type": "scattercarpet"
           }
          ],
          "scattergeo": [
           {
            "marker": {
             "colorbar": {
              "outlinewidth": 0,
              "ticks": ""
             }
            },
            "type": "scattergeo"
           }
          ],
          "scattergl": [
           {
            "marker": {
             "colorbar": {
              "outlinewidth": 0,
              "ticks": ""
             }
            },
            "type": "scattergl"
           }
          ],
          "scattermapbox": [
           {
            "marker": {
             "colorbar": {
              "outlinewidth": 0,
              "ticks": ""
             }
            },
            "type": "scattermapbox"
           }
          ],
          "scatterpolar": [
           {
            "marker": {
             "colorbar": {
              "outlinewidth": 0,
              "ticks": ""
             }
            },
            "type": "scatterpolar"
           }
          ],
          "scatterpolargl": [
           {
            "marker": {
             "colorbar": {
              "outlinewidth": 0,
              "ticks": ""
             }
            },
            "type": "scatterpolargl"
           }
          ],
          "scatterternary": [
           {
            "marker": {
             "colorbar": {
              "outlinewidth": 0,
              "ticks": ""
             }
            },
            "type": "scatterternary"
           }
          ],
          "surface": [
           {
            "colorbar": {
             "outlinewidth": 0,
             "ticks": ""
            },
            "colorscale": [
             [
              0,
              "#0d0887"
             ],
             [
              0.1111111111111111,
              "#46039f"
             ],
             [
              0.2222222222222222,
              "#7201a8"
             ],
             [
              0.3333333333333333,
              "#9c179e"
             ],
             [
              0.4444444444444444,
              "#bd3786"
             ],
             [
              0.5555555555555556,
              "#d8576b"
             ],
             [
              0.6666666666666666,
              "#ed7953"
             ],
             [
              0.7777777777777778,
              "#fb9f3a"
             ],
             [
              0.8888888888888888,
              "#fdca26"
             ],
             [
              1,
              "#f0f921"
             ]
            ],
            "type": "surface"
           }
          ],
          "table": [
           {
            "cells": {
             "fill": {
              "color": "#EBF0F8"
             },
             "line": {
              "color": "white"
             }
            },
            "header": {
             "fill": {
              "color": "#C8D4E3"
             },
             "line": {
              "color": "white"
             }
            },
            "type": "table"
           }
          ]
         },
         "layout": {
          "annotationdefaults": {
           "arrowcolor": "#2a3f5f",
           "arrowhead": 0,
           "arrowwidth": 1
          },
          "autotypenumbers": "strict",
          "coloraxis": {
           "colorbar": {
            "outlinewidth": 0,
            "ticks": ""
           }
          },
          "colorscale": {
           "diverging": [
            [
             0,
             "#8e0152"
            ],
            [
             0.1,
             "#c51b7d"
            ],
            [
             0.2,
             "#de77ae"
            ],
            [
             0.3,
             "#f1b6da"
            ],
            [
             0.4,
             "#fde0ef"
            ],
            [
             0.5,
             "#f7f7f7"
            ],
            [
             0.6,
             "#e6f5d0"
            ],
            [
             0.7,
             "#b8e186"
            ],
            [
             0.8,
             "#7fbc41"
            ],
            [
             0.9,
             "#4d9221"
            ],
            [
             1,
             "#276419"
            ]
           ],
           "sequential": [
            [
             0,
             "#0d0887"
            ],
            [
             0.1111111111111111,
             "#46039f"
            ],
            [
             0.2222222222222222,
             "#7201a8"
            ],
            [
             0.3333333333333333,
             "#9c179e"
            ],
            [
             0.4444444444444444,
             "#bd3786"
            ],
            [
             0.5555555555555556,
             "#d8576b"
            ],
            [
             0.6666666666666666,
             "#ed7953"
            ],
            [
             0.7777777777777778,
             "#fb9f3a"
            ],
            [
             0.8888888888888888,
             "#fdca26"
            ],
            [
             1,
             "#f0f921"
            ]
           ],
           "sequentialminus": [
            [
             0,
             "#0d0887"
            ],
            [
             0.1111111111111111,
             "#46039f"
            ],
            [
             0.2222222222222222,
             "#7201a8"
            ],
            [
             0.3333333333333333,
             "#9c179e"
            ],
            [
             0.4444444444444444,
             "#bd3786"
            ],
            [
             0.5555555555555556,
             "#d8576b"
            ],
            [
             0.6666666666666666,
             "#ed7953"
            ],
            [
             0.7777777777777778,
             "#fb9f3a"
            ],
            [
             0.8888888888888888,
             "#fdca26"
            ],
            [
             1,
             "#f0f921"
            ]
           ]
          },
          "colorway": [
           "#636efa",
           "#EF553B",
           "#00cc96",
           "#ab63fa",
           "#FFA15A",
           "#19d3f3",
           "#FF6692",
           "#B6E880",
           "#FF97FF",
           "#FECB52"
          ],
          "font": {
           "color": "#2a3f5f"
          },
          "geo": {
           "bgcolor": "white",
           "lakecolor": "white",
           "landcolor": "#E5ECF6",
           "showlakes": true,
           "showland": true,
           "subunitcolor": "white"
          },
          "hoverlabel": {
           "align": "left"
          },
          "hovermode": "closest",
          "mapbox": {
           "style": "light"
          },
          "paper_bgcolor": "white",
          "plot_bgcolor": "#E5ECF6",
          "polar": {
           "angularaxis": {
            "gridcolor": "white",
            "linecolor": "white",
            "ticks": ""
           },
           "bgcolor": "#E5ECF6",
           "radialaxis": {
            "gridcolor": "white",
            "linecolor": "white",
            "ticks": ""
           }
          },
          "scene": {
           "xaxis": {
            "backgroundcolor": "#E5ECF6",
            "gridcolor": "white",
            "gridwidth": 2,
            "linecolor": "white",
            "showbackground": true,
            "ticks": "",
            "zerolinecolor": "white"
           },
           "yaxis": {
            "backgroundcolor": "#E5ECF6",
            "gridcolor": "white",
            "gridwidth": 2,
            "linecolor": "white",
            "showbackground": true,
            "ticks": "",
            "zerolinecolor": "white"
           },
           "zaxis": {
            "backgroundcolor": "#E5ECF6",
            "gridcolor": "white",
            "gridwidth": 2,
            "linecolor": "white",
            "showbackground": true,
            "ticks": "",
            "zerolinecolor": "white"
           }
          },
          "shapedefaults": {
           "line": {
            "color": "#2a3f5f"
           }
          },
          "ternary": {
           "aaxis": {
            "gridcolor": "white",
            "linecolor": "white",
            "ticks": ""
           },
           "baxis": {
            "gridcolor": "white",
            "linecolor": "white",
            "ticks": ""
           },
           "bgcolor": "#E5ECF6",
           "caxis": {
            "gridcolor": "white",
            "linecolor": "white",
            "ticks": ""
           }
          },
          "title": {
           "x": 0.05
          },
          "xaxis": {
           "automargin": true,
           "gridcolor": "white",
           "linecolor": "white",
           "ticks": "",
           "title": {
            "standoff": 15
           },
           "zerolinecolor": "white",
           "zerolinewidth": 2
          },
          "yaxis": {
           "automargin": true,
           "gridcolor": "white",
           "linecolor": "white",
           "ticks": "",
           "title": {
            "standoff": 15
           },
           "zerolinecolor": "white",
           "zerolinewidth": 2
          }
         }
        }
       }
      }
     },
     "metadata": {},
     "output_type": "display_data"
    }
   ],
   "source": [
    "# Create a map using Plotly Express\n",
    "fig = px.scatter_mapbox(gdf2, \n",
    "                        lat=gdf2.geometry.y, \n",
    "                        lon=gdf2.geometry.x,\n",
    "                        color='Bar name',\n",
    "                        color_continuous_scale='blues',\n",
    "                        mapbox_style='dark',\n",
    "                        zoom=12)\n",
    "\n",
    "# Display the map\n",
    "fig.update_layout(mapbox_style=\"open-street-map\")\n",
    "fig.update_layout(margin={\"r\":0,\"t\":0,\"l\":0,\"b\":0})\n",
    "fig.show()"
   ]
  },
  {
   "cell_type": "code",
   "execution_count": null,
   "id": "fef64c1b-0834-4bb0-881b-b06e2102c8c8",
   "metadata": {},
   "outputs": [],
   "source": []
  }
 ],
 "metadata": {
  "kernelspec": {
   "display_name": "Python 3 (ipykernel)",
   "language": "python",
   "name": "python3"
  },
  "language_info": {
   "codemirror_mode": {
    "name": "ipython",
    "version": 3
   },
   "file_extension": ".py",
   "mimetype": "text/x-python",
   "name": "python",
   "nbconvert_exporter": "python",
   "pygments_lexer": "ipython3",
   "version": "3.10.7"
  }
 },
 "nbformat": 4,
 "nbformat_minor": 5
}

{
 "cells": [
  {
   "cell_type": "markdown",
   "id": "b4e96f87-496d-402c-bd88-2f9d956ed9fc",
   "metadata": {},
   "source": [
    "## Libaries"
   ]
  },
  {
   "cell_type": "code",
   "execution_count": 1,
   "id": "23af737c-d10b-4191-8f9b-7b21bb97650a",
   "metadata": {},
   "outputs": [],
   "source": [
    "# Main libraries installation\n",
    "!pip install pyproject-toml h3 geopandas folium > nul"
   ]
  },
  {
   "cell_type": "code",
   "execution_count": 2,
   "id": "4ed461bb",
   "metadata": {},
   "outputs": [
    {
     "name": "stdout",
     "output_type": "stream",
     "text": [
      "Defaulting to user installation because normal site-packages is not writeable\n",
      "Requirement already satisfied: plotly in c:\\users\\lenovo\\appdata\\roaming\\python\\python310\\site-packages (5.18.0)\n",
      "Requirement already satisfied: tenacity>=6.2.0 in c:\\program files\\python310\\lib\\site-packages (from plotly) (8.1.0)\n",
      "Requirement already satisfied: packaging in c:\\users\\lenovo\\appdata\\roaming\\python\\python310\\site-packages (from plotly) (21.3)\n",
      "Requirement already satisfied: pyparsing!=3.0.5,>=2.0.2 in c:\\users\\lenovo\\appdata\\roaming\\python\\python310\\site-packages (from packaging->plotly) (3.0.9)\n"
     ]
    }
   ],
   "source": [
    "# Install or upgrade the 'kaleido' library for static image export from Plotly\n",
    "# Note: This is commented out as it's optional and may not be necessary depending on the system.\n",
    "# Uncomment and run these lines if there are issues with static image export.\n",
    "# pip install -U kaleido\n",
    "\n",
    "# Install or upgrade the 'plotly' library\n",
    "# Note: This line is not commented out as it is a standard library required for Plotly functionality.\n",
    "!pip install -U plotly"
   ]
  },
  {
   "cell_type": "code",
   "execution_count": 3,
   "id": "ee39ae14-746c-4ddb-b24c-7073156db65c",
   "metadata": {},
   "outputs": [],
   "source": [
    "# Import necessary libraries\n",
    "import h3  # Library for working with H3 hexagons\n",
    "import pandas as pd  # Library for data manipulation and analysis\n",
    "import geopandas as gpd  # Library for geospatial data manipulation and analysis\n",
    "from shapely.geometry import Point, Polygon  # Library for handling geometric shapes\n",
    "import folium  # Library for creating interactive maps\n",
    "import json  # Library for working with JSON data\n",
    "from shapely.geometry import mapping  # Library for converting Shapely geometries to GeoJSON-like dicts\n",
    "import contextily as cx  # Library for basemaps and context tiles\n",
    "import matplotlib.pyplot as plt  # Library for creating visualizations\n",
    "import plotly.express as px  # Library for creating interactive visualizations\n",
    "import warnings  # Library for managing warnings\n",
    "warnings.filterwarnings(\"ignore\")  # Ignore warnings during runtime\n",
    "import plotly.io as pio  # Library for handling Plotly I/O\n",
    "from IPython.display import Image  # Library for displaying images in IPython environment"
   ]
  },
  {
   "cell_type": "markdown",
   "id": "549d9c8d-45d9-44fc-8385-e38157910aa7",
   "metadata": {},
   "source": [
    "## Data Ingestion"
   ]
  },
  {
   "cell_type": "code",
   "execution_count": 4,
   "id": "ef1de313-2c3f-4783-b5a6-0980600db582",
   "metadata": {},
   "outputs": [],
   "source": [
    "# Get the coordinates of the Eiffel Tower\n",
    "torre_eiffel_coords = (48.858844, 2.294350)  # Latitude and longitude of the Eiffel Tower"
   ]
  },
  {
   "cell_type": "code",
   "execution_count": 5,
   "id": "e50b19b5",
   "metadata": {},
   "outputs": [],
   "source": [
    "# Create a DataFrame with information about the Eiffel Tower\n",
    "place_dict = {'place': ['Eiffel Tower'], 'lat': [48.858844], 'long': [2.294350]}\n",
    "df = pd.DataFrame(place_dict)"
   ]
  },
  {
   "cell_type": "code",
   "execution_count": 6,
   "id": "8f495b9a",
   "metadata": {},
   "outputs": [],
   "source": [
    "# Convert the CSV to a GeoDataFrame\n",
    "gdf_puntos = gpd.GeoDataFrame(\n",
    "    df, geometry=gpd.points_from_xy(df.long, df.lat)\n",
    ")"
   ]
  },
  {
   "cell_type": "code",
   "execution_count": 7,
   "id": "c83a086a",
   "metadata": {},
   "outputs": [],
   "source": [
    "# Set a Coordinate Reference System (CRS) for the GeoDataFrame\n",
    "gdf_puntos = gdf_puntos.set_crs(4326, allow_override=True)"
   ]
  },
  {
   "cell_type": "code",
   "execution_count": 8,
   "id": "dac2af46",
   "metadata": {},
   "outputs": [],
   "source": [
    "# Convert points to H3 hexagons with resolution 9\n",
    "resolution_h3 = 9\n",
    "\n",
    "# Convert points to WGS84 projection\n",
    "gdf_puntos = gdf_puntos.to_crs(epsg=4326)\n",
    "\n",
    "# Add the `hex_id` column\n",
    "gdf_puntos['hex_id'] = gdf_puntos['geometry'].apply(lambda geom: h3.geo_to_h3(geom.y, geom.x, resolution_h3))"
   ]
  },
  {
   "cell_type": "code",
   "execution_count": 9,
   "id": "469c1732",
   "metadata": {},
   "outputs": [],
   "source": [
    "# Function to get H3 hexagon of resolution 12 for the centroid of a polygon\n",
    "def get_h3_for_polygon(polygon, resolution):\n",
    "    centroid = polygon.centroid\n",
    "    lat, lon = centroid.y, centroid.x\n",
    "    hex_id = h3.geo_to_h3(lat, lon, resolution)\n",
    "    return hex_id"
   ]
  },
  {
   "cell_type": "code",
   "execution_count": 10,
   "id": "aa3c90f3",
   "metadata": {},
   "outputs": [],
   "source": [
    "# Add the `hex_id` column to gdf_puntos using the get_h3_for_polygon function\n",
    "gdf_puntos['hex_id'] = gdf_puntos['geometry'].apply(lambda geom: get_h3_for_polygon(geom, resolution_h3))"
   ]
  },
  {
   "cell_type": "code",
   "execution_count": 11,
   "id": "76aedda9",
   "metadata": {},
   "outputs": [
    {
     "name": "stdout",
     "output_type": "stream",
     "text": [
      "<class 'geopandas.geodataframe.GeoDataFrame'>\n",
      "RangeIndex: 1 entries, 0 to 0\n",
      "Data columns (total 5 columns):\n",
      " #   Column    Non-Null Count  Dtype   \n",
      "---  ------    --------------  -----   \n",
      " 0   place     1 non-null      object  \n",
      " 1   lat       1 non-null      float64 \n",
      " 2   long      1 non-null      float64 \n",
      " 3   geometry  1 non-null      geometry\n",
      " 4   hex_id    1 non-null      object  \n",
      "dtypes: float64(2), geometry(1), object(2)\n",
      "memory usage: 168.0+ bytes\n"
     ]
    }
   ],
   "source": [
    "# Display information about the GeoDataFrame gdf_puntos\n",
    "gdf_puntos.info()"
   ]
  },
  {
   "cell_type": "markdown",
   "id": "3c663c0b-cb99-48ba-8969-ab7a79582676",
   "metadata": {},
   "source": [
    "## Data exploring"
   ]
  },
  {
   "cell_type": "code",
   "execution_count": 12,
   "id": "f32898f4",
   "metadata": {},
   "outputs": [],
   "source": [
    "# Get the boundaries of the H3 hexagon for each hexagon in the Series\n",
    "hexagon_boundaries = []\n",
    "for hex_id in gdf_puntos['hex_id']:\n",
    "    hexagon_boundary = h3.h3_to_geo_boundary(hex_id)\n",
    "    hexagon_boundaries.append(hexagon_boundary)"
   ]
  },
  {
   "cell_type": "code",
   "execution_count": 13,
   "id": "980886b2",
   "metadata": {},
   "outputs": [
    {
     "name": "stdout",
     "output_type": "stream",
     "text": [
      "                                            geometry         h3_index  \\\n",
      "0  POLYGON ((2.29380 48.85912, 2.29181 48.85815, ...  891fb46741bffff   \n",
      "\n",
      "   resolution  \n",
      "0           9  \n"
     ]
    }
   ],
   "source": [
    "# Assuming hexagon_boundary is a list of coordinates [(lat, lon), ...]\n",
    "hexagon_coordinates = [(lon, lat) for lat, lon in hexagon_boundary]\n",
    "\n",
    "# Create a GeoDataFrame with the coordinates\n",
    "hexagon_gdf = gpd.GeoDataFrame(geometry=[Polygon(hexagon_coordinates)], crs=\"EPSG:4326\")\n",
    "\n",
    "# Add H3 index and resolution\n",
    "hexagon_gdf['h3_index'] = gdf_puntos['hex_id']\n",
    "hexagon_gdf['resolution'] = resolution_h3\n",
    "\n",
    "# Display the result\n",
    "print(hexagon_gdf)"
   ]
  },
  {
   "cell_type": "markdown",
   "id": "e0ed0c59-f603-4955-9fd1-fd69223a234c",
   "metadata": {},
   "source": [
    "## Data Visualization"
   ]
  },
  {
   "cell_type": "code",
   "execution_count": 14,
   "id": "04eab342",
   "metadata": {},
   "outputs": [
    {
     "data": {
      "application/vnd.plotly.v1+json": {
       "config": {
        "plotlyServerURL": "https://plot.ly"
       },
       "data": [
        {
         "colorscale": [
          [
           0,
           "#636efa"
          ],
          [
           1,
           "#636efa"
          ]
         ],
         "customdata": [
          [
           "891fb46741bffff",
           9
          ]
         ],
         "geojson": {
          "bbox": [
           2.291809798504986,
           48.85558568672719,
           2.296468527758217,
           48.85912039945539
          ],
          "features": [
           {
            "bbox": [
             2.291809798504986,
             48.85558568672719,
             2.296468527758217,
             48.85912039945539
            ],
            "geometry": {
             "coordinates": [
              [
               [
                2.2938038275156103,
                48.85912039945539
               ],
               [
                2.291809798504986,
                48.85814815962206
               ],
               [
                2.292145251197937,
                48.85638078974249
               ],
               [
                2.2944745929588186,
                48.85558568672719
               ],
               [
                2.296468527758217,
                48.85655791002811
               ],
               [
                2.296133215006863,
                48.85832525287562
               ],
               [
                2.2938038275156103,
                48.85912039945539
               ]
              ]
             ],
             "type": "Polygon"
            },
            "id": "0",
            "properties": {},
            "type": "Feature"
           }
          ],
          "type": "FeatureCollection"
         },
         "hovertemplate": "h3_index=%{customdata[0]}<br>index=%{location}<br>resolution=%{customdata[1]}<extra></extra>",
         "locations": [
          0
         ],
         "marker": {
          "line": {
           "color": "White",
           "width": 0.5
          },
          "opacity": 0.3
         },
         "name": "891fb46741bffff",
         "showlegend": true,
         "showscale": false,
         "subplot": "mapbox",
         "type": "choroplethmapbox",
         "z": [
          1
         ]
        },
        {
         "hovertemplate": "place=%{text}<br>lat=%{lat}<br>long=%{lon}<extra></extra>",
         "lat": [
          48.858844
         ],
         "legendgroup": "",
         "lon": [
          2.29435
         ],
         "marker": {
          "color": "red",
          "size": 10
         },
         "mode": "markers+text",
         "name": "",
         "showlegend": false,
         "subplot": "mapbox",
         "text": [
          "Eiffel Tower"
         ],
         "type": "scattermapbox"
        }
       ],
       "layout": {
        "legend": {
         "title": {
          "text": "h3_index"
         },
         "tracegroupgap": 0
        },
        "mapbox": {
         "center": {
          "lat": 48.857353045076565,
          "lon": 2.2941391920998906
         },
         "domain": {
          "x": [
           0,
           1
          ],
          "y": [
           0,
           1
          ]
         },
         "layers": [
          {
           "below": "traces",
           "color": "rgba(0,0,0,0)",
           "source": {
            "bbox": [
             2.291809798504986,
             48.85558568672719,
             2.296468527758217,
             48.85912039945539
            ],
            "features": [
             {
              "bbox": [
               2.291809798504986,
               48.85558568672719,
               2.296468527758217,
               48.85912039945539
              ],
              "geometry": {
               "coordinates": [
                [
                 [
                  2.2938038275156103,
                  48.85912039945539
                 ],
                 [
                  2.291809798504986,
                  48.85814815962206
                 ],
                 [
                  2.292145251197937,
                  48.85638078974249
                 ],
                 [
                  2.2944745929588186,
                  48.85558568672719
                 ],
                 [
                  2.296468527758217,
                  48.85655791002811
                 ],
                 [
                  2.296133215006863,
                  48.85832525287562
                 ],
                 [
                  2.2938038275156103,
                  48.85912039945539
                 ]
                ]
               ],
               "type": "Polygon"
              },
              "id": "0",
              "properties": {},
              "type": "Feature"
             }
            ],
            "type": "FeatureCollection"
           },
           "sourcetype": "geojson",
           "type": "fill"
          }
         ],
         "style": "carto-positron",
         "zoom": 15
        },
        "margin": {
         "b": 0,
         "l": 0,
         "r": 0,
         "t": 0
        },
        "template": {
         "data": {
          "bar": [
           {
            "error_x": {
             "color": "#2a3f5f"
            },
            "error_y": {
             "color": "#2a3f5f"
            },
            "marker": {
             "line": {
              "color": "#E5ECF6",
              "width": 0.5
             },
             "pattern": {
              "fillmode": "overlay",
              "size": 10,
              "solidity": 0.2
             }
            },
            "type": "bar"
           }
          ],
          "barpolar": [
           {
            "marker": {
             "line": {
              "color": "#E5ECF6",
              "width": 0.5
             },
             "pattern": {
              "fillmode": "overlay",
              "size": 10,
              "solidity": 0.2
             }
            },
            "type": "barpolar"
           }
          ],
          "carpet": [
           {
            "aaxis": {
             "endlinecolor": "#2a3f5f",
             "gridcolor": "white",
             "linecolor": "white",
             "minorgridcolor": "white",
             "startlinecolor": "#2a3f5f"
            },
            "baxis": {
             "endlinecolor": "#2a3f5f",
             "gridcolor": "white",
             "linecolor": "white",
             "minorgridcolor": "white",
             "startlinecolor": "#2a3f5f"
            },
            "type": "carpet"
           }
          ],
          "choropleth": [
           {
            "colorbar": {
             "outlinewidth": 0,
             "ticks": ""
            },
            "type": "choropleth"
           }
          ],
          "contour": [
           {
            "colorbar": {
             "outlinewidth": 0,
             "ticks": ""
            },
            "colorscale": [
             [
              0,
              "#0d0887"
             ],
             [
              0.1111111111111111,
              "#46039f"
             ],
             [
              0.2222222222222222,
              "#7201a8"
             ],
             [
              0.3333333333333333,
              "#9c179e"
             ],
             [
              0.4444444444444444,
              "#bd3786"
             ],
             [
              0.5555555555555556,
              "#d8576b"
             ],
             [
              0.6666666666666666,
              "#ed7953"
             ],
             [
              0.7777777777777778,
              "#fb9f3a"
             ],
             [
              0.8888888888888888,
              "#fdca26"
             ],
             [
              1,
              "#f0f921"
             ]
            ],
            "type": "contour"
           }
          ],
          "contourcarpet": [
           {
            "colorbar": {
             "outlinewidth": 0,
             "ticks": ""
            },
            "type": "contourcarpet"
           }
          ],
          "heatmap": [
           {
            "colorbar": {
             "outlinewidth": 0,
             "ticks": ""
            },
            "colorscale": [
             [
              0,
              "#0d0887"
             ],
             [
              0.1111111111111111,
              "#46039f"
             ],
             [
              0.2222222222222222,
              "#7201a8"
             ],
             [
              0.3333333333333333,
              "#9c179e"
             ],
             [
              0.4444444444444444,
              "#bd3786"
             ],
             [
              0.5555555555555556,
              "#d8576b"
             ],
             [
              0.6666666666666666,
              "#ed7953"
             ],
             [
              0.7777777777777778,
              "#fb9f3a"
             ],
             [
              0.8888888888888888,
              "#fdca26"
             ],
             [
              1,
              "#f0f921"
             ]
            ],
            "type": "heatmap"
           }
          ],
          "heatmapgl": [
           {
            "colorbar": {
             "outlinewidth": 0,
             "ticks": ""
            },
            "colorscale": [
             [
              0,
              "#0d0887"
             ],
             [
              0.1111111111111111,
              "#46039f"
             ],
             [
              0.2222222222222222,
              "#7201a8"
             ],
             [
              0.3333333333333333,
              "#9c179e"
             ],
             [
              0.4444444444444444,
              "#bd3786"
             ],
             [
              0.5555555555555556,
              "#d8576b"
             ],
             [
              0.6666666666666666,
              "#ed7953"
             ],
             [
              0.7777777777777778,
              "#fb9f3a"
             ],
             [
              0.8888888888888888,
              "#fdca26"
             ],
             [
              1,
              "#f0f921"
             ]
            ],
            "type": "heatmapgl"
           }
          ],
          "histogram": [
           {
            "marker": {
             "pattern": {
              "fillmode": "overlay",
              "size": 10,
              "solidity": 0.2
             }
            },
            "type": "histogram"
           }
          ],
          "histogram2d": [
           {
            "colorbar": {
             "outlinewidth": 0,
             "ticks": ""
            },
            "colorscale": [
             [
              0,
              "#0d0887"
             ],
             [
              0.1111111111111111,
              "#46039f"
             ],
             [
              0.2222222222222222,
              "#7201a8"
             ],
             [
              0.3333333333333333,
              "#9c179e"
             ],
             [
              0.4444444444444444,
              "#bd3786"
             ],
             [
              0.5555555555555556,
              "#d8576b"
             ],
             [
              0.6666666666666666,
              "#ed7953"
             ],
             [
              0.7777777777777778,
              "#fb9f3a"
             ],
             [
              0.8888888888888888,
              "#fdca26"
             ],
             [
              1,
              "#f0f921"
             ]
            ],
            "type": "histogram2d"
           }
          ],
          "histogram2dcontour": [
           {
            "colorbar": {
             "outlinewidth": 0,
             "ticks": ""
            },
            "colorscale": [
             [
              0,
              "#0d0887"
             ],
             [
              0.1111111111111111,
              "#46039f"
             ],
             [
              0.2222222222222222,
              "#7201a8"
             ],
             [
              0.3333333333333333,
              "#9c179e"
             ],
             [
              0.4444444444444444,
              "#bd3786"
             ],
             [
              0.5555555555555556,
              "#d8576b"
             ],
             [
              0.6666666666666666,
              "#ed7953"
             ],
             [
              0.7777777777777778,
              "#fb9f3a"
             ],
             [
              0.8888888888888888,
              "#fdca26"
             ],
             [
              1,
              "#f0f921"
             ]
            ],
            "type": "histogram2dcontour"
           }
          ],
          "mesh3d": [
           {
            "colorbar": {
             "outlinewidth": 0,
             "ticks": ""
            },
            "type": "mesh3d"
           }
          ],
          "parcoords": [
           {
            "line": {
             "colorbar": {
              "outlinewidth": 0,
              "ticks": ""
             }
            },
            "type": "parcoords"
           }
          ],
          "pie": [
           {
            "automargin": true,
            "type": "pie"
           }
          ],
          "scatter": [
           {
            "fillpattern": {
             "fillmode": "overlay",
             "size": 10,
             "solidity": 0.2
            },
            "type": "scatter"
           }
          ],
          "scatter3d": [
           {
            "line": {
             "colorbar": {
              "outlinewidth": 0,
              "ticks": ""
             }
            },
            "marker": {
             "colorbar": {
              "outlinewidth": 0,
              "ticks": ""
             }
            },
            "type": "scatter3d"
           }
          ],
          "scattercarpet": [
           {
            "marker": {
             "colorbar": {
              "outlinewidth": 0,
              "ticks": ""
             }
            },
            "type": "scattercarpet"
           }
          ],
          "scattergeo": [
           {
            "marker": {
             "colorbar": {
              "outlinewidth": 0,
              "ticks": ""
             }
            },
            "type": "scattergeo"
           }
          ],
          "scattergl": [
           {
            "marker": {
             "colorbar": {
              "outlinewidth": 0,
              "ticks": ""
             }
            },
            "type": "scattergl"
           }
          ],
          "scattermapbox": [
           {
            "marker": {
             "colorbar": {
              "outlinewidth": 0,
              "ticks": ""
             }
            },
            "type": "scattermapbox"
           }
          ],
          "scatterpolar": [
           {
            "marker": {
             "colorbar": {
              "outlinewidth": 0,
              "ticks": ""
             }
            },
            "type": "scatterpolar"
           }
          ],
          "scatterpolargl": [
           {
            "marker": {
             "colorbar": {
              "outlinewidth": 0,
              "ticks": ""
             }
            },
            "type": "scatterpolargl"
           }
          ],
          "scatterternary": [
           {
            "marker": {
             "colorbar": {
              "outlinewidth": 0,
              "ticks": ""
             }
            },
            "type": "scatterternary"
           }
          ],
          "surface": [
           {
            "colorbar": {
             "outlinewidth": 0,
             "ticks": ""
            },
            "colorscale": [
             [
              0,
              "#0d0887"
             ],
             [
              0.1111111111111111,
              "#46039f"
             ],
             [
              0.2222222222222222,
              "#7201a8"
             ],
             [
              0.3333333333333333,
              "#9c179e"
             ],
             [
              0.4444444444444444,
              "#bd3786"
             ],
             [
              0.5555555555555556,
              "#d8576b"
             ],
             [
              0.6666666666666666,
              "#ed7953"
             ],
             [
              0.7777777777777778,
              "#fb9f3a"
             ],
             [
              0.8888888888888888,
              "#fdca26"
             ],
             [
              1,
              "#f0f921"
             ]
            ],
            "type": "surface"
           }
          ],
          "table": [
           {
            "cells": {
             "fill": {
              "color": "#EBF0F8"
             },
             "line": {
              "color": "white"
             }
            },
            "header": {
             "fill": {
              "color": "#C8D4E3"
             },
             "line": {
              "color": "white"
             }
            },
            "type": "table"
           }
          ]
         },
         "layout": {
          "annotationdefaults": {
           "arrowcolor": "#2a3f5f",
           "arrowhead": 0,
           "arrowwidth": 1
          },
          "autotypenumbers": "strict",
          "coloraxis": {
           "colorbar": {
            "outlinewidth": 0,
            "ticks": ""
           }
          },
          "colorscale": {
           "diverging": [
            [
             0,
             "#8e0152"
            ],
            [
             0.1,
             "#c51b7d"
            ],
            [
             0.2,
             "#de77ae"
            ],
            [
             0.3,
             "#f1b6da"
            ],
            [
             0.4,
             "#fde0ef"
            ],
            [
             0.5,
             "#f7f7f7"
            ],
            [
             0.6,
             "#e6f5d0"
            ],
            [
             0.7,
             "#b8e186"
            ],
            [
             0.8,
             "#7fbc41"
            ],
            [
             0.9,
             "#4d9221"
            ],
            [
             1,
             "#276419"
            ]
           ],
           "sequential": [
            [
             0,
             "#0d0887"
            ],
            [
             0.1111111111111111,
             "#46039f"
            ],
            [
             0.2222222222222222,
             "#7201a8"
            ],
            [
             0.3333333333333333,
             "#9c179e"
            ],
            [
             0.4444444444444444,
             "#bd3786"
            ],
            [
             0.5555555555555556,
             "#d8576b"
            ],
            [
             0.6666666666666666,
             "#ed7953"
            ],
            [
             0.7777777777777778,
             "#fb9f3a"
            ],
            [
             0.8888888888888888,
             "#fdca26"
            ],
            [
             1,
             "#f0f921"
            ]
           ],
           "sequentialminus": [
            [
             0,
             "#0d0887"
            ],
            [
             0.1111111111111111,
             "#46039f"
            ],
            [
             0.2222222222222222,
             "#7201a8"
            ],
            [
             0.3333333333333333,
             "#9c179e"
            ],
            [
             0.4444444444444444,
             "#bd3786"
            ],
            [
             0.5555555555555556,
             "#d8576b"
            ],
            [
             0.6666666666666666,
             "#ed7953"
            ],
            [
             0.7777777777777778,
             "#fb9f3a"
            ],
            [
             0.8888888888888888,
             "#fdca26"
            ],
            [
             1,
             "#f0f921"
            ]
           ]
          },
          "colorway": [
           "#636efa",
           "#EF553B",
           "#00cc96",
           "#ab63fa",
           "#FFA15A",
           "#19d3f3",
           "#FF6692",
           "#B6E880",
           "#FF97FF",
           "#FECB52"
          ],
          "font": {
           "color": "#2a3f5f"
          },
          "geo": {
           "bgcolor": "white",
           "lakecolor": "white",
           "landcolor": "#E5ECF6",
           "showlakes": true,
           "showland": true,
           "subunitcolor": "white"
          },
          "hoverlabel": {
           "align": "left"
          },
          "hovermode": "closest",
          "mapbox": {
           "style": "light"
          },
          "paper_bgcolor": "white",
          "plot_bgcolor": "#E5ECF6",
          "polar": {
           "angularaxis": {
            "gridcolor": "white",
            "linecolor": "white",
            "ticks": ""
           },
           "bgcolor": "#E5ECF6",
           "radialaxis": {
            "gridcolor": "white",
            "linecolor": "white",
            "ticks": ""
           }
          },
          "scene": {
           "xaxis": {
            "backgroundcolor": "#E5ECF6",
            "gridcolor": "white",
            "gridwidth": 2,
            "linecolor": "white",
            "showbackground": true,
            "ticks": "",
            "zerolinecolor": "white"
           },
           "yaxis": {
            "backgroundcolor": "#E5ECF6",
            "gridcolor": "white",
            "gridwidth": 2,
            "linecolor": "white",
            "showbackground": true,
            "ticks": "",
            "zerolinecolor": "white"
           },
           "zaxis": {
            "backgroundcolor": "#E5ECF6",
            "gridcolor": "white",
            "gridwidth": 2,
            "linecolor": "white",
            "showbackground": true,
            "ticks": "",
            "zerolinecolor": "white"
           }
          },
          "shapedefaults": {
           "line": {
            "color": "#2a3f5f"
           }
          },
          "ternary": {
           "aaxis": {
            "gridcolor": "white",
            "linecolor": "white",
            "ticks": ""
           },
           "baxis": {
            "gridcolor": "white",
            "linecolor": "white",
            "ticks": ""
           },
           "bgcolor": "#E5ECF6",
           "caxis": {
            "gridcolor": "white",
            "linecolor": "white",
            "ticks": ""
           }
          },
          "title": {
           "x": 0.05
          },
          "xaxis": {
           "automargin": true,
           "gridcolor": "white",
           "linecolor": "white",
           "ticks": "",
           "title": {
            "standoff": 15
           },
           "zerolinecolor": "white",
           "zerolinewidth": 2
          },
          "yaxis": {
           "automargin": true,
           "gridcolor": "white",
           "linecolor": "white",
           "ticks": "",
           "title": {
            "standoff": 15
           },
           "zerolinecolor": "white",
           "zerolinewidth": 2
          }
         }
        }
       }
      }
     },
     "metadata": {},
     "output_type": "display_data"
    }
   ],
   "source": [
    "# Assuming hexagon_gdf is your GeoDataFrame with H3 hexagon\n",
    "fig = px.choropleth_mapbox(hexagon_gdf,\n",
    "                           geojson=hexagon_gdf.geometry.__geo_interface__,\n",
    "                           locations=hexagon_gdf.index,\n",
    "                           color='h3_index',  # Add H3 index to color\n",
    "                           hover_data=['h3_index', 'resolution'],  # Add H3 index and resolution to hover\n",
    "                           mapbox_style=\"carto-positron\",\n",
    "                           center={\"lat\": hexagon_gdf.geometry.centroid.y.mean(), \"lon\": hexagon_gdf.geometry.centroid.x.mean()},\n",
    "                           zoom=15)\n",
    "\n",
    "# Add transparency to the polygon\n",
    "fig.update_traces(marker=dict(opacity=0.3, line=dict(width=0.5, color='White')))\n",
    "\n",
    "# Add the Eiffel Tower point\n",
    "scatter_trace = px.scatter_mapbox(gdf_puntos, \n",
    "                                  lat=\"lat\",  # Name of the latitude column\n",
    "                                  lon=\"long\",  # Name of the longitude column\n",
    "                                  text=\"place\")  # Name of the column for text\n",
    "\n",
    "# Update the point marker\n",
    "scatter_trace.update_traces(marker=dict(color='red', size=10))\n",
    "\n",
    "# Add the point to the plot\n",
    "fig.add_trace(scatter_trace.data[0])\n",
    "\n",
    "# Hide the index on the map\n",
    "fig.update_layout(mapbox_layers=[{\n",
    "    'below': 'traces',\n",
    "    'sourcetype': 'geojson',\n",
    "    'source': hexagon_gdf.geometry.__geo_interface__,\n",
    "    'type': 'fill',\n",
    "    'color': 'rgba(0,0,0,0)'  # Transparent color\n",
    "}])\n",
    "\n",
    "fig.update_layout(margin={\"r\":0,\"t\":0,\"l\":0,\"b\":0})\n",
    "fig.show()"
   ]
  },
  {
   "cell_type": "code",
   "execution_count": 15,
   "id": "f56d5449",
   "metadata": {},
   "outputs": [],
   "source": [
    "# Assuming 'fig' is your Plotly figure\n",
    "pio.write_html(fig, 'data/h3/mapa.html')"
   ]
  }
 ],
 "metadata": {
  "kernelspec": {
   "display_name": "Python 3 (ipykernel)",
   "language": "python",
   "name": "python3"
  },
  "language_info": {
   "codemirror_mode": {
    "name": "ipython",
    "version": 3
   },
   "file_extension": ".py",
   "mimetype": "text/x-python",
   "name": "python",
   "nbconvert_exporter": "python",
   "pygments_lexer": "ipython3",
   "version": "3.10.7"
  }
 },
 "nbformat": 4,
 "nbformat_minor": 5
}

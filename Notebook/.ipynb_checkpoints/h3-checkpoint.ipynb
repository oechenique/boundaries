{
 "cells": [
  {
   "cell_type": "markdown",
   "id": "b4e96f87-496d-402c-bd88-2f9d956ed9fc",
   "metadata": {},
   "source": [
    "## Libaries"
   ]
  },
  {
   "cell_type": "code",
   "execution_count": 3,
   "id": "23af737c-d10b-4191-8f9b-7b21bb97650a",
   "metadata": {},
   "outputs": [
    {
     "name": "stderr",
     "output_type": "stream",
     "text": [
      "  error: subprocess-exited-with-error\n",
      "  \n",
      "  Building wheel for h3 (pyproject.toml) did not run successfully.\n",
      "  exit code: 1\n",
      "  \n",
      "  [356 lines of output]\n",
      "  \n",
      "  \n",
      "  --------------------------------------------------------------------------------\n",
      "  -- Trying 'Ninja (Visual Studio 17 2022 x64 v143)' generator\n",
      "  --------------------------------\n",
      "  ---------------------------\n",
      "  ----------------------\n",
      "  -----------------\n",
      "  ------------\n",
      "  -------\n",
      "  --\n",
      "  Not searching for unused variables given on the command line.\n",
      "  CMake Deprecation Warning at CMakeLists.txt:1 (cmake_minimum_required):\n",
      "    Compatibility with CMake < 3.5 will be removed from a future version of\n",
      "    CMake.\n",
      "  \n",
      "    Update the VERSION argument <min> value or use a ...<max> suffix to tell\n",
      "    CMake that the project does not need compatibility with older versions.\n",
      "  \n",
      "  \n",
      "  CMake Error: CMake was unable to find a build program corresponding to \"Ninja\".  CMAKE_MAKE_PROGRAM is not set.  You probably need to select a different build tool.\n",
      "  -- Configuring incomplete, errors occurred!\n",
      "  --\n",
      "  -------\n",
      "  ------------\n",
      "  -----------------\n",
      "  ----------------------\n",
      "  ---------------------------\n",
      "  --------------------------------\n",
      "  -- Trying 'Ninja (Visual Studio 17 2022 x64 v143)' generator - failure\n",
      "  --------------------------------------------------------------------------------\n",
      "  \n",
      "  \n",
      "  \n",
      "  --------------------------------------------------------------------------------\n",
      "  -- Trying 'Visual Studio 17 2022 x64 v143' generator\n",
      "  --------------------------------\n",
      "  ---------------------------\n",
      "  ----------------------\n",
      "  -----------------\n",
      "  ------------\n",
      "  -------\n",
      "  --\n",
      "  Not searching for unused variables given on the command line.\n",
      "  CMake Deprecation Warning at CMakeLists.txt:1 (cmake_minimum_required):\n",
      "    Compatibility with CMake < 3.5 will be removed from a future version of\n",
      "    CMake.\n",
      "  \n",
      "    Update the VERSION argument <min> value or use a ...<max> suffix to tell\n",
      "    CMake that the project does not need compatibility with older versions.\n",
      "  \n",
      "  \n",
      "  CMake Error at CMakeLists.txt:2 (PROJECT):\n",
      "    Generator\n",
      "  \n",
      "      Visual Studio 17 2022\n",
      "  \n",
      "    could not find any instance of Visual Studio.\n",
      "  \n",
      "  \n",
      "  \n",
      "  -- Configuring incomplete, errors occurred!\n",
      "  --\n",
      "  -------\n",
      "  ------------\n",
      "  -----------------\n",
      "  ----------------------\n",
      "  ---------------------------\n",
      "  --------------------------------\n",
      "  -- Trying 'Visual Studio 17 2022 x64 v143' generator - failure\n",
      "  --------------------------------------------------------------------------------\n",
      "  \n",
      "  \n",
      "  \n",
      "  --------------------------------------------------------------------------------\n",
      "  -- Trying 'Ninja (Visual Studio 16 2019 x64 v142)' generator\n",
      "  --------------------------------\n",
      "  ---------------------------\n",
      "  ----------------------\n",
      "  -----------------\n",
      "  ------------\n",
      "  -------\n",
      "  --\n",
      "  Not searching for unused variables given on the command line.\n",
      "  CMake Deprecation Warning at CMakeLists.txt:1 (cmake_minimum_required):\n",
      "    Compatibility with CMake < 3.5 will be removed from a future version of\n",
      "    CMake.\n",
      "  \n",
      "    Update the VERSION argument <min> value or use a ...<max> suffix to tell\n",
      "    CMake that the project does not need compatibility with older versions.\n",
      "  \n",
      "  \n",
      "  CMake Error: CMake was unable to find a build program corresponding to \"Ninja\".  CMAKE_MAKE_PROGRAM is not set.  You probably need to select a different build tool.\n",
      "  -- Configuring incomplete, errors occurred!\n",
      "  --\n",
      "  -------\n",
      "  ------------\n",
      "  -----------------\n",
      "  ----------------------\n",
      "  ---------------------------\n",
      "  --------------------------------\n",
      "  -- Trying 'Ninja (Visual Studio 16 2019 x64 v142)' generator - failure\n",
      "  --------------------------------------------------------------------------------\n",
      "  \n",
      "  \n",
      "  \n",
      "  --------------------------------------------------------------------------------\n",
      "  -- Trying 'Visual Studio 16 2019 x64 v142' generator\n",
      "  --------------------------------\n",
      "  ---------------------------\n",
      "  ----------------------\n",
      "  -----------------\n",
      "  ------------\n",
      "  -------\n",
      "  --\n",
      "  Not searching for unused variables given on the command line.\n",
      "  CMake Deprecation Warning at CMakeLists.txt:1 (cmake_minimum_required):\n",
      "    Compatibility with CMake < 3.5 will be removed from a future version of\n",
      "    CMake.\n",
      "  \n",
      "    Update the VERSION argument <min> value or use a ...<max> suffix to tell\n",
      "    CMake that the project does not need compatibility with older versions.\n",
      "  \n",
      "  \n",
      "  CMake Error at CMakeLists.txt:2 (PROJECT):\n",
      "    Generator\n",
      "  \n",
      "      Visual Studio 16 2019\n",
      "  \n",
      "    could not find any instance of Visual Studio.\n",
      "  \n",
      "  \n",
      "  \n",
      "  -- Configuring incomplete, errors occurred!\n",
      "  --\n",
      "  -------\n",
      "  ------------\n",
      "  -----------------\n",
      "  ----------------------\n",
      "  ---------------------------\n",
      "  --------------------------------\n",
      "  -- Trying 'Visual Studio 16 2019 x64 v142' generator - failure\n",
      "  --------------------------------------------------------------------------------\n",
      "  \n",
      "  \n",
      "  \n",
      "  --------------------------------------------------------------------------------\n",
      "  -- Trying 'Ninja (Visual Studio 15 2017 x64 v141)' generator\n",
      "  --------------------------------\n",
      "  ---------------------------\n",
      "  ----------------------\n",
      "  -----------------\n",
      "  ------------\n",
      "  -------\n",
      "  --\n",
      "  Not searching for unused variables given on the command line.\n",
      "  CMake Deprecation Warning at CMakeLists.txt:1 (cmake_minimum_required):\n",
      "    Compatibility with CMake < 3.5 will be removed from a future version of\n",
      "    CMake.\n",
      "  \n",
      "    Update the VERSION argument <min> value or use a ...<max> suffix to tell\n",
      "    CMake that the project does not need compatibility with older versions.\n",
      "  \n",
      "  \n",
      "  CMake Error: CMake was unable to find a build program corresponding to \"Ninja\".  CMAKE_MAKE_PROGRAM is not set.  You probably need to select a different build tool.\n",
      "  -- Configuring incomplete, errors occurred!\n",
      "  --\n",
      "  -------\n",
      "  ------------\n",
      "  -----------------\n",
      "  ----------------------\n",
      "  ---------------------------\n",
      "  --------------------------------\n",
      "  -- Trying 'Ninja (Visual Studio 15 2017 x64 v141)' generator - failure\n",
      "  --------------------------------------------------------------------------------\n",
      "  \n",
      "  \n",
      "  \n",
      "  --------------------------------------------------------------------------------\n",
      "  -- Trying 'Visual Studio 15 2017 x64 v141' generator\n",
      "  --------------------------------\n",
      "  ---------------------------\n",
      "  ----------------------\n",
      "  -----------------\n",
      "  ------------\n",
      "  -------\n",
      "  --\n",
      "  Not searching for unused variables given on the command line.\n",
      "  CMake Deprecation Warning at CMakeLists.txt:1 (cmake_minimum_required):\n",
      "    Compatibility with CMake < 3.5 will be removed from a future version of\n",
      "    CMake.\n",
      "  \n",
      "    Update the VERSION argument <min> value or use a ...<max> suffix to tell\n",
      "    CMake that the project does not need compatibility with older versions.\n",
      "  \n",
      "  \n",
      "  CMake Error at CMakeLists.txt:2 (PROJECT):\n",
      "    Generator\n",
      "  \n",
      "      Visual Studio 15 2017\n",
      "  \n",
      "    could not find any instance of Visual Studio.\n",
      "  \n",
      "  \n",
      "  \n",
      "  -- Configuring incomplete, errors occurred!\n",
      "  --\n",
      "  -------\n",
      "  ------------\n",
      "  -----------------\n",
      "  ----------------------\n",
      "  ---------------------------\n",
      "  --------------------------------\n",
      "  -- Trying 'Visual Studio 15 2017 x64 v141' generator - failure\n",
      "  --------------------------------------------------------------------------------\n",
      "  \n",
      "  \n",
      "  \n",
      "  --------------------------------------------------------------------------------\n",
      "  -- Trying 'NMake Makefiles (Visual Studio 17 2022 x64 v143)' generator\n",
      "  --------------------------------\n",
      "  ---------------------------\n",
      "  ----------------------\n",
      "  -----------------\n",
      "  ------------\n",
      "  -------\n",
      "  --\n",
      "  Not searching for unused variables given on the command line.\n",
      "  CMake Deprecation Warning at CMakeLists.txt:1 (cmake_minimum_required):\n",
      "    Compatibility with CMake < 3.5 will be removed from a future version of\n",
      "    CMake.\n",
      "  \n",
      "    Update the VERSION argument <min> value or use a ...<max> suffix to tell\n",
      "    CMake that the project does not need compatibility with older versions.\n",
      "  \n",
      "  \n",
      "  CMake Error at CMakeLists.txt:2 (PROJECT):\n",
      "    Running\n",
      "  \n",
      "     'nmake' '-?'\n",
      "  \n",
      "    failed with:\n",
      "  \n",
      "     no such file or directory\n",
      "  \n",
      "  \n",
      "  -- Configuring incomplete, errors occurred!\n",
      "  --\n",
      "  -------\n",
      "  ------------\n",
      "  -----------------\n",
      "  ----------------------\n",
      "  ---------------------------\n",
      "  --------------------------------\n",
      "  -- Trying 'NMake Makefiles (Visual Studio 17 2022 x64 v143)' generator - failure\n",
      "  --------------------------------------------------------------------------------\n",
      "  \n",
      "  \n",
      "  \n",
      "  --------------------------------------------------------------------------------\n",
      "  -- Trying 'NMake Makefiles (Visual Studio 16 2019 x64 v142)' generator\n",
      "  --------------------------------\n",
      "  ---------------------------\n",
      "  ----------------------\n",
      "  -----------------\n",
      "  ------------\n",
      "  -------\n",
      "  --\n",
      "  Not searching for unused variables given on the command line.\n",
      "  CMake Deprecation Warning at CMakeLists.txt:1 (cmake_minimum_required):\n",
      "    Compatibility with CMake < 3.5 will be removed from a future version of\n",
      "    CMake.\n",
      "  \n",
      "    Update the VERSION argument <min> value or use a ...<max> suffix to tell\n",
      "    CMake that the project does not need compatibility with older versions.\n",
      "  \n",
      "  \n",
      "  CMake Error at CMakeLists.txt:2 (PROJECT):\n",
      "    Running\n",
      "  \n",
      "     'nmake' '-?'\n",
      "  \n",
      "    failed with:\n",
      "  \n",
      "     no such file or directory\n",
      "  \n",
      "  \n",
      "  -- Configuring incomplete, errors occurred!\n",
      "  --\n",
      "  -------\n",
      "  ------------\n",
      "  -----------------\n",
      "  ----------------------\n",
      "  ---------------------------\n",
      "  --------------------------------\n",
      "  -- Trying 'NMake Makefiles (Visual Studio 16 2019 x64 v142)' generator - failure\n",
      "  --------------------------------------------------------------------------------\n",
      "  \n",
      "  \n",
      "  \n",
      "  --------------------------------------------------------------------------------\n",
      "  -- Trying 'NMake Makefiles (Visual Studio 15 2017 x64 v141)' generator\n",
      "  --------------------------------\n",
      "  ---------------------------\n",
      "  ----------------------\n",
      "  -----------------\n",
      "  ------------\n",
      "  -------\n",
      "  --\n",
      "  Not searching for unused variables given on the command line.\n",
      "  CMake Deprecation Warning at CMakeLists.txt:1 (cmake_minimum_required):\n",
      "    Compatibility with CMake < 3.5 will be removed from a future version of\n",
      "    CMake.\n",
      "  \n",
      "    Update the VERSION argument <min> value or use a ...<max> suffix to tell\n",
      "    CMake that the project does not need compatibility with older versions.\n",
      "  \n",
      "  \n",
      "  CMake Error at CMakeLists.txt:2 (PROJECT):\n",
      "    Running\n",
      "  \n",
      "     'nmake' '-?'\n",
      "  \n",
      "    failed with:\n",
      "  \n",
      "     no such file or directory\n",
      "  \n",
      "  \n",
      "  -- Configuring incomplete, errors occurred!\n",
      "  --\n",
      "  -------\n",
      "  ------------\n",
      "  -----------------\n",
      "  ----------------------\n",
      "  ---------------------------\n",
      "  --------------------------------\n",
      "  -- Trying 'NMake Makefiles (Visual Studio 15 2017 x64 v141)' generator - failure\n",
      "  --------------------------------------------------------------------------------\n",
      "  \n",
      "                  ********************************************************************************\n",
      "                  scikit-build could not get a working generator for your system. Aborting build.\n",
      "  \n",
      "                  Building windows wheels for Python 3.12 requires Microsoft Visual Studio 2022.\n",
      "  Get it with \"Visual Studio 2017\":\n",
      "  \n",
      "    https://visualstudio.microsoft.com/vs/\n",
      "  \n",
      "  Or with \"Visual Studio 2019\":\n",
      "  \n",
      "      https://visualstudio.microsoft.com/vs/\n",
      "  \n",
      "  Or with \"Visual Studio 2022\":\n",
      "  \n",
      "      https://visualstudio.microsoft.com/vs/\n",
      "  \n",
      "                  ********************************************************************************\n",
      "  [end of output]\n",
      "  \n",
      "  note: This error originates from a subprocess, and is likely not a problem with pip.\n",
      "  ERROR: Failed building wheel for h3\n",
      "ERROR: Could not build wheels for h3, which is required to install pyproject.toml-based projects\n"
     ]
    }
   ],
   "source": [
    "# Main libraries installation\n",
    "!pip install pyproject-toml h3 geopandas folium > nul"
   ]
  },
  {
   "cell_type": "code",
   "execution_count": 1,
   "id": "ee39ae14-746c-4ddb-b24c-7073156db65c",
   "metadata": {},
   "outputs": [
    {
     "ename": "ModuleNotFoundError",
     "evalue": "No module named 'h3'",
     "output_type": "error",
     "traceback": [
      "\u001b[1;31m---------------------------------------------------------------------------\u001b[0m",
      "\u001b[1;31mModuleNotFoundError\u001b[0m                       Traceback (most recent call last)",
      "Cell \u001b[1;32mIn[1], line 2\u001b[0m\n\u001b[0;32m      1\u001b[0m \u001b[38;5;66;03m# Import necessary libraries\u001b[39;00m\n\u001b[1;32m----> 2\u001b[0m \u001b[38;5;28;01mimport\u001b[39;00m \u001b[38;5;21;01mh3\u001b[39;00m\n\u001b[0;32m      3\u001b[0m \u001b[38;5;28;01mimport\u001b[39;00m \u001b[38;5;21;01mpandas\u001b[39;00m \u001b[38;5;28;01mas\u001b[39;00m \u001b[38;5;21;01mpd\u001b[39;00m\n\u001b[0;32m      4\u001b[0m \u001b[38;5;28;01mimport\u001b[39;00m \u001b[38;5;21;01mgeopandas\u001b[39;00m \u001b[38;5;28;01mas\u001b[39;00m \u001b[38;5;21;01mgpd\u001b[39;00m\n",
      "\u001b[1;31mModuleNotFoundError\u001b[0m: No module named 'h3'"
     ]
    }
   ],
   "source": [
    "# Import necessary libraries\n",
    "import h3\n",
    "import pandas as pd\n",
    "import geopandas as gpd\n",
    "from shapely.geometry import Point, Polygon\n",
    "import folium\n",
    "import json\n",
    "from shapely.geometry import mapping\n",
    "import contextily as cx\n",
    "import matplotlib.pyplot as plt"
   ]
  },
  {
   "cell_type": "markdown",
   "id": "549d9c8d-45d9-44fc-8385-e38157910aa7",
   "metadata": {},
   "source": [
    "## Data Ingestion"
   ]
  },
  {
   "cell_type": "code",
   "execution_count": 3,
   "id": "ef1de313-2c3f-4783-b5a6-0980600db582",
   "metadata": {},
   "outputs": [],
   "source": [
    "# Paso 1: Obtener las coordenadas de la Torre Eiffel\n",
    "torre_eiffel_coords = (48.858844, 2.294350)  # Latitud y longitud de la Torre Eiffel"
   ]
  },
  {
   "cell_type": "code",
   "execution_count": 4,
   "id": "e50b19b5",
   "metadata": {},
   "outputs": [],
   "source": [
    "place_dict = {'place': ['Eiffel Tower'], 'lat': [48.858844], 'long': [2.294350]}\n",
    "\n",
    "df = pd.DataFrame(place_dict)"
   ]
  },
  {
   "cell_type": "code",
   "execution_count": 5,
   "id": "8f495b9a",
   "metadata": {},
   "outputs": [],
   "source": [
    "# Conviertimos el CSV a geoDataFrame\n",
    "gdf_puntos = gpd.GeoDataFrame(\n",
    "    df, geometry=gpd.points_from_xy(df.long, df.lat)\n",
    ")"
   ]
  },
  {
   "cell_type": "code",
   "execution_count": 6,
   "id": "c83a086a",
   "metadata": {},
   "outputs": [],
   "source": [
    "# Seteamos un Sistema de Proyeccion para el CSV\n",
    "gdf_puntos=gdf_puntos.set_crs(4326, allow_override=True)"
   ]
  },
  {
   "cell_type": "code",
   "execution_count": 7,
   "id": "dac2af46",
   "metadata": {},
   "outputs": [],
   "source": [
    "# Convierte los puntos en hexágonos H3 de resolución 9\n",
    "resolucion_h3 = 9\n",
    "\n",
    "# Convierte los puntos a la proyección WGS84\n",
    "gdf_puntos = gdf_puntos.to_crs(epsg=4326)\n",
    "\n",
    "# Agrega la columna `hex_id`\n",
    "gdf_puntos['hex_id'] = gdf_puntos['geometry'].apply(lambda geom: h3.geo_to_h3(geom.y, geom.x, resolucion_h3))"
   ]
  },
  {
   "cell_type": "code",
   "execution_count": 8,
   "id": "469c1732",
   "metadata": {},
   "outputs": [],
   "source": [
    "# Función para obtener el hexágono H3 de resolución 12 para el centroide de un polígono\n",
    "def get_h3_for_polygon(polygon, resolution):\n",
    "    centroid = polygon.centroid\n",
    "    lat, lon = centroid.y, centroid.x\n",
    "    hex_id = h3.geo_to_h3(lat, lon, resolution)\n",
    "    return hex_id"
   ]
  },
  {
   "cell_type": "code",
   "execution_count": 9,
   "id": "aa3c90f3",
   "metadata": {},
   "outputs": [],
   "source": [
    "# Agrega la columna `hex_id` a gdf_poligono\n",
    "gdf_puntos['hex_id'] = gdf_puntos['geometry'].apply(lambda geom: get_h3_for_polygon(geom, resolucion_h3))"
   ]
  },
  {
   "cell_type": "code",
   "execution_count": 10,
   "id": "76aedda9",
   "metadata": {},
   "outputs": [
    {
     "name": "stdout",
     "output_type": "stream",
     "text": [
      "<class 'geopandas.geodataframe.GeoDataFrame'>\n",
      "RangeIndex: 1 entries, 0 to 0\n",
      "Data columns (total 5 columns):\n",
      " #   Column    Non-Null Count  Dtype   \n",
      "---  ------    --------------  -----   \n",
      " 0   place     1 non-null      object  \n",
      " 1   lat       1 non-null      float64 \n",
      " 2   long      1 non-null      float64 \n",
      " 3   geometry  1 non-null      geometry\n",
      " 4   hex_id    1 non-null      object  \n",
      "dtypes: float64(2), geometry(1), object(2)\n",
      "memory usage: 168.0+ bytes\n"
     ]
    }
   ],
   "source": [
    "gdf_puntos.info()"
   ]
  },
  {
   "cell_type": "code",
   "execution_count": 11,
   "id": "26e89939",
   "metadata": {},
   "outputs": [
    {
     "data": {
      "text/html": [
       "<div>\n",
       "<style scoped>\n",
       "    .dataframe tbody tr th:only-of-type {\n",
       "        vertical-align: middle;\n",
       "    }\n",
       "\n",
       "    .dataframe tbody tr th {\n",
       "        vertical-align: top;\n",
       "    }\n",
       "\n",
       "    .dataframe thead th {\n",
       "        text-align: right;\n",
       "    }\n",
       "</style>\n",
       "<table border=\"1\" class=\"dataframe\">\n",
       "  <thead>\n",
       "    <tr style=\"text-align: right;\">\n",
       "      <th></th>\n",
       "      <th>place</th>\n",
       "      <th>lat</th>\n",
       "      <th>long</th>\n",
       "      <th>geometry</th>\n",
       "      <th>hex_id</th>\n",
       "    </tr>\n",
       "  </thead>\n",
       "  <tbody>\n",
       "    <tr>\n",
       "      <th>0</th>\n",
       "      <td>Eiffel Tower</td>\n",
       "      <td>48.858844</td>\n",
       "      <td>2.29435</td>\n",
       "      <td>POINT (2.29435 48.85884)</td>\n",
       "      <td>891fb46741bffff</td>\n",
       "    </tr>\n",
       "  </tbody>\n",
       "</table>\n",
       "</div>"
      ],
      "text/plain": [
       "          place        lat     long                  geometry           hex_id\n",
       "0  Eiffel Tower  48.858844  2.29435  POINT (2.29435 48.85884)  891fb46741bffff"
      ]
     },
     "execution_count": 11,
     "metadata": {},
     "output_type": "execute_result"
    }
   ],
   "source": [
    "gdf_puntos"
   ]
  },
  {
   "cell_type": "markdown",
   "id": "3c663c0b-cb99-48ba-8969-ab7a79582676",
   "metadata": {},
   "source": [
    "## Data exploring"
   ]
  },
  {
   "cell_type": "code",
   "execution_count": 12,
   "id": "f32898f4",
   "metadata": {},
   "outputs": [],
   "source": [
    "# Se agrupan los datos por indice H3 y Codigo POI\n",
    "df_dim_g = (gdf_puntos\n",
    "            .groupby('hex_id')\n",
    "            .place\n",
    "            .agg(list)\n",
    "            .to_frame(\"ids\")\n",
    "            .reset_index())"
   ]
  },
  {
   "cell_type": "code",
   "execution_count": 13,
   "id": "980886b2",
   "metadata": {},
   "outputs": [],
   "source": [
    "# Contabilizamos puntos dentro de cada hexagono\n",
    "df_dim_g['count'] =(df_dim_g['ids']\n",
    "                      .apply(lambda pin_ids:len(pin_ids)))"
   ]
  },
  {
   "cell_type": "code",
   "execution_count": 14,
   "id": "e336fbdb",
   "metadata": {},
   "outputs": [],
   "source": [
    "# Añadimos una nueva columna geometry a partir de los índices h3 y sus correspondientes coordenadas geográficas\n",
    "\n",
    "from shapely.geometry import Polygon\n",
    "def add_geometry(row):\n",
    "  points = h3.h3_to_geo_boundary(row['hex_id'], True)\n",
    "  return Polygon(points)\n",
    "\n",
    "#Aplicamos la función anterior al dataset\n",
    "df_dim_g['geometry'] = (df_dim_g.apply(add_geometry,axis=1))"
   ]
  },
  {
   "cell_type": "code",
   "execution_count": 15,
   "id": "b674be02-41e2-423a-a663-470562435c1d",
   "metadata": {},
   "outputs": [],
   "source": [
    "# Función para convertir datos de hexágonos geoespaciales almacenados en un DataFrame en un formato GeoJSON\n",
    "\n",
    "def hexagons_dataframe_to_geojson(df_hex, hex_id_field, geometry_field, value_field, file_output=None):\n",
    "    list_features = []\n",
    "\n",
    "    for i, row in df_hex.iterrows():\n",
    "        geometry = mapping(row[geometry_field])  # Convertimos el poligono en un diccionario\n",
    "        feature = {\n",
    "            \"type\": \"Feature\",\n",
    "            \"geometry\": geometry,\n",
    "            \"properties\": {\"value\": row[value_field], \"id\": row[hex_id_field]}\n",
    "        }\n",
    "        list_features.append(feature)\n",
    "\n",
    "    feat_collection = {\n",
    "        \"type\": \"FeatureCollection\",\n",
    "        \"features\": list_features\n",
    "    }\n",
    "\n",
    "    if file_output is not None:\n",
    "        with open(file_output, \"w\") as f:\n",
    "            json.dump(feat_collection, f)\n",
    "\n",
    "    else:\n",
    "        return feat_collection"
   ]
  },
  {
   "cell_type": "code",
   "execution_count": 16,
   "id": "36cad7f0-d7bf-4603-aaf4-85e46aa99e79",
   "metadata": {
    "scrolled": true
   },
   "outputs": [],
   "source": [
    "# Creamos el GeoJSON a partir de la funcion anterior\n",
    "geojson_obj = (hexagons_dataframe_to_geojson\n",
    "                (df_dim_g,\n",
    "                 hex_id_field='hex_id',\n",
    "                 value_field='count',\n",
    "                 geometry_field='geometry'))"
   ]
  },
  {
   "cell_type": "code",
   "execution_count": 17,
   "id": "9f281e45-bf63-40b1-8991-29a8c7f3182b",
   "metadata": {
    "scrolled": true
   },
   "outputs": [
    {
     "name": "stdout",
     "output_type": "stream",
     "text": [
      "                                         coordinates  value               id\n",
      "0  ((2.2938038275156103, 48.85912039945539), (2.2...      1  891fb46741bffff\n"
     ]
    }
   ],
   "source": [
    "# Extraemos features en una lista de diccionarios\n",
    "features = geojson_obj['features']\n",
    "\n",
    "# Creamos una lista de diccionarios con las propiedades necesarias\n",
    "\n",
    "feature_dicts = []\n",
    "for feature in features:\n",
    "    geometry = feature['geometry']\n",
    "    coordinates = geometry['coordinates'][0]  # Extraemos las coordenadas del poligono\n",
    "    properties = feature.get('properties', {})\n",
    "    feature_dict = {\n",
    "        'coordinates': coordinates,\n",
    "        'value': properties.get('value'),\n",
    "        'id': properties.get('id'),\n",
    "        # ... otras propiedades necesarias ...\n",
    "    }\n",
    "    feature_dicts.append(feature_dict)\n",
    "\n",
    "# Creamos un dataset a partir de la lista de diccionarios\n",
    "df_in = pd.DataFrame(feature_dicts)\n",
    "\n",
    "# Visualizamos el df\n",
    "print(df_in)"
   ]
  },
  {
   "cell_type": "code",
   "execution_count": 18,
   "id": "8a5f1a28",
   "metadata": {},
   "outputs": [],
   "source": [
    "coordinates = geometry['coordinates'][0]"
   ]
  },
  {
   "cell_type": "code",
   "execution_count": 19,
   "id": "2951cee3",
   "metadata": {},
   "outputs": [
    {
     "data": {
      "text/plain": [
       "((2.2938038275156103, 48.85912039945539),\n",
       " (2.291809798504986, 48.85814815962206),\n",
       " (2.292145251197937, 48.85638078974249),\n",
       " (2.2944745929588186, 48.85558568672719),\n",
       " (2.296468527758217, 48.85655791002811),\n",
       " (2.296133215006863, 48.85832525287562),\n",
       " (2.2938038275156103, 48.85912039945539))"
      ]
     },
     "execution_count": 19,
     "metadata": {},
     "output_type": "execute_result"
    }
   ],
   "source": [
    "coordinates"
   ]
  },
  {
   "cell_type": "code",
   "execution_count": 30,
   "id": "4a086310",
   "metadata": {},
   "outputs": [
    {
     "name": "stdout",
     "output_type": "stream",
     "text": [
      "   value               id                                           geometry\n",
      "0      1  891fb46741bffff  POLYGON ((2.29380 48.85912, 2.29181 48.85815, ...\n"
     ]
    }
   ],
   "source": [
    "# Asegúrate de que la columna 'coordinates' tenga el formato correcto\n",
    "df_in['coordinates'] = df_in['coordinates'].apply(lambda coords: [(float(coord[0]), float(coord[1])) for coord in coords])\n",
    "\n",
    "# Convertimos la columna 'coordinates' en un polígono de geometrías Shapely\n",
    "df_in['geometry'] = df_in['coordinates'].apply(lambda coords: Polygon(coords))\n",
    "\n",
    "# Creamos el GeoDataFrame\n",
    "gdf_in = gpd.GeoDataFrame(df_in, geometry='geometry', crs='EPSG:4326')\n",
    "\n",
    "# Dropeamos la columna 'coordinates', ya que no la necesitaremos más\n",
    "gdf_in = gdf_in.drop(columns=['coordinates'])\n",
    "\n",
    "# Imprimimos el GeoDataFrame\n",
    "print(gdf_in)"
   ]
  },
  {
   "cell_type": "code",
   "execution_count": 31,
   "id": "75fb7c5f",
   "metadata": {},
   "outputs": [
    {
     "name": "stdout",
     "output_type": "stream",
     "text": [
      "EPSG:4326\n"
     ]
    }
   ],
   "source": [
    "# Print the original Coordinate Reference System (CRS) of the GeoDataFrame\n",
    "print(gdf_in.crs)"
   ]
  },
  {
   "cell_type": "code",
   "execution_count": 32,
   "id": "79168787",
   "metadata": {},
   "outputs": [
    {
     "data": {
      "text/plain": [
       "<Axes: >"
      ]
     },
     "execution_count": 32,
     "metadata": {},
     "output_type": "execute_result"
    },
    {
     "data": {
      "image/png": "[encoded data removed]",
      "text/plain": [
       "<Figure size 640x480 with 1 Axes>"
      ]
     },
     "metadata": {},
     "output_type": "display_data"
    }
   ],
   "source": [
    "gdf_in.plot()"
   ]
  },
  {
   "cell_type": "markdown",
   "id": "e0ed0c59-f603-4955-9fd1-fd69223a234c",
   "metadata": {},
   "source": [
    "## Data Visualization"
   ]
  },
  {
   "cell_type": "code",
   "execution_count": 24,
   "id": "c2b6ac29",
   "metadata": {},
   "outputs": [],
   "source": [
    "# Set the Coordinate Reference System (CRS) to EPSG:4326\n",
    "gdf_in = gdf_in.set_crs(4326, allow_override=True)"
   ]
  },
  {
   "cell_type": "code",
   "execution_count": 25,
   "id": "636e0544",
   "metadata": {},
   "outputs": [
    {
     "data": {
      "text/plain": [
       "<Geographic 2D CRS: EPSG:4326>\n",
       "Name: WGS 84\n",
       "Axis Info [ellipsoidal]:\n",
       "- Lat[north]: Geodetic latitude (degree)\n",
       "- Lon[east]: Geodetic longitude (degree)\n",
       "Area of Use:\n",
       "- name: World.\n",
       "- bounds: (-180.0, -90.0, 180.0, 90.0)\n",
       "Datum: World Geodetic System 1984 ensemble\n",
       "- Ellipsoid: WGS 84\n",
       "- Prime Meridian: Greenwich"
      ]
     },
     "execution_count": 25,
     "metadata": {},
     "output_type": "execute_result"
    }
   ],
   "source": [
    "gdf_in.crs"
   ]
  },
  {
   "cell_type": "code",
   "execution_count": 27,
   "id": "04eab342",
   "metadata": {},
   "outputs": [
    {
     "data": {
      "image/png": "[encoded data removed]",
      "text/plain": [
       "<Figure size 640x480 with 1 Axes>"
      ]
     },
     "metadata": {},
     "output_type": "display_data"
    }
   ],
   "source": [
    "# Crea una copia reproyectada del GeoDataFrame\n",
    "gdf_reprojected = gdf_in.to_crs(\"EPSG:4326\")\n",
    "\n",
    "# Visualiza el GeoDataFrame reproyectado\n",
    "gdf_reprojected.plot()\n",
    "\n",
    "# Ajusta las proporciones del gráfico\n",
    "plt.axis('equal')\n",
    "\n",
    "# Muestra el gráfico\n",
    "plt.show()"
   ]
  },
  {
   "cell_type": "code",
   "execution_count": 28,
   "id": "67da870a-4ec2-4a5c-b71e-78add93c41c3",
   "metadata": {},
   "outputs": [
    {
     "name": "stderr",
     "output_type": "stream",
     "text": [
      "c:\\Program Files\\Python310\\lib\\site-packages\\contextily\\tile.py:614: UserWarning: The inferred zoom level of 34 is not valid for the current tile provider (valid zooms: 0 - 19).\n",
      "  warnings.warn(msg)\n"
     ]
    },
    {
     "data": {
      "image/png": "[encoded data removed]",
      "text/plain": [
       "<Figure size 1400x1000 with 1 Axes>"
      ]
     },
     "metadata": {},
     "output_type": "display_data"
    }
   ],
   "source": [
    "# Ploteamos el gdf\n",
    "fig, ax = plt.subplots(figsize=(14, 10))\n",
    "gdf_in.plot(ax=ax, column='value', cmap='rainbow', legend=False) # utilizamos columna 'value' para diferenciarlos\n",
    "cx.add_basemap(ax, source=cx.providers.OpenStreetMap.Mapnik)\n",
    "ax.set_title('Eiffel Tower H3')\n",
    "plt.show()"
   ]
  },
  {
   "cell_type": "code",
   "execution_count": 29,
   "id": "fef64c1b-0834-4bb0-881b-b06e2102c8c8",
   "metadata": {},
   "outputs": [
    {
     "data": {
      "text/html": [
       "<div style=\"width:100%;\"><div style=\"position:relative;width:100%;height:0;padding-bottom:60%;\"><span style=\"color:#565656\">Make this Notebook Trusted to load map: File -> Trust Notebook</span><iframe srcdoc=\"&lt;!DOCTYPE html&gt;\n",
       "&lt;html&gt;\n",
       "&lt;head&gt;\n",
       "    \n",
       "    &lt;meta http-equiv=&quot;content-type&quot; content=&quot;text/html; charset=UTF-8&quot; /&gt;\n",
       "    \n",
       "        &lt;script&gt;\n",
       "            L_NO_TOUCH = false;\n",
       "            L_DISABLE_3D = false;\n",
       "        &lt;/script&gt;\n",
       "    \n",
       "    &lt;style&gt;html, body {width: 100%;height: 100%;margin: 0;padding: 0;}&lt;/style&gt;\n",
       "    &lt;style&gt;#map {position:absolute;top:0;bottom:0;right:0;left:0;}&lt;/style&gt;\n",
       "    &lt;script src=&quot;https://cdn.jsdelivr.net/npm/leaflet@1.9.3/dist/leaflet.js&quot;&gt;&lt;/script&gt;\n",
       "    &lt;script src=&quot;https://code.jquery.com/jquery-3.7.1.min.js&quot;&gt;&lt;/script&gt;\n",
       "    &lt;script src=&quot;https://cdn.jsdelivr.net/npm/bootstrap@5.2.2/dist/js/bootstrap.bundle.min.js&quot;&gt;&lt;/script&gt;\n",
       "    &lt;script src=&quot;https://cdnjs.cloudflare.com/ajax/libs/Leaflet.awesome-markers/2.0.2/leaflet.awesome-markers.js&quot;&gt;&lt;/script&gt;\n",
       "    &lt;link rel=&quot;stylesheet&quot; href=&quot;https://cdn.jsdelivr.net/npm/leaflet@1.9.3/dist/leaflet.css&quot;/&gt;\n",
       "    &lt;link rel=&quot;stylesheet&quot; href=&quot;https://cdn.jsdelivr.net/npm/bootstrap@5.2.2/dist/css/bootstrap.min.css&quot;/&gt;\n",
       "    &lt;link rel=&quot;stylesheet&quot; href=&quot;https://netdna.bootstrapcdn.com/bootstrap/3.0.0/css/bootstrap.min.css&quot;/&gt;\n",
       "    &lt;link rel=&quot;stylesheet&quot; href=&quot;https://cdn.jsdelivr.net/npm/@fortawesome/fontawesome-free@6.2.0/css/all.min.css&quot;/&gt;\n",
       "    &lt;link rel=&quot;stylesheet&quot; href=&quot;https://cdnjs.cloudflare.com/ajax/libs/Leaflet.awesome-markers/2.0.2/leaflet.awesome-markers.css&quot;/&gt;\n",
       "    &lt;link rel=&quot;stylesheet&quot; href=&quot;https://cdn.jsdelivr.net/gh/python-visualization/folium/folium/templates/leaflet.awesome.rotate.min.css&quot;/&gt;\n",
       "    \n",
       "            &lt;meta name=&quot;viewport&quot; content=&quot;width=device-width,\n",
       "                initial-scale=1.0, maximum-scale=1.0, user-scalable=no&quot; /&gt;\n",
       "            &lt;style&gt;\n",
       "                #map_5466b83d785a80b0f70b4311e01af496 {\n",
       "                    position: relative;\n",
       "                    width: 100.0%;\n",
       "                    height: 100.0%;\n",
       "                    left: 0.0%;\n",
       "                    top: 0.0%;\n",
       "                }\n",
       "                .leaflet-container { font-size: 1rem; }\n",
       "            &lt;/style&gt;\n",
       "        \n",
       "&lt;/head&gt;\n",
       "&lt;body&gt;\n",
       "    \n",
       "    \n",
       "            &lt;div class=&quot;folium-map&quot; id=&quot;map_5466b83d785a80b0f70b4311e01af496&quot; &gt;&lt;/div&gt;\n",
       "        \n",
       "&lt;/body&gt;\n",
       "&lt;script&gt;\n",
       "    \n",
       "    \n",
       "            var map_5466b83d785a80b0f70b4311e01af496 = L.map(\n",
       "                &quot;map_5466b83d785a80b0f70b4311e01af496&quot;,\n",
       "                {\n",
       "                    center: [48.858844, 2.29435],\n",
       "                    crs: L.CRS.EPSG3857,\n",
       "                    zoom: 15,\n",
       "                    zoomControl: true,\n",
       "                    preferCanvas: false,\n",
       "                }\n",
       "            );\n",
       "\n",
       "            \n",
       "\n",
       "        \n",
       "    \n",
       "            var tile_layer_60e110b72f7bf606354291437e91b207 = L.tileLayer(\n",
       "                &quot;https://tile.openstreetmap.org/{z}/{x}/{y}.png&quot;,\n",
       "                {&quot;attribution&quot;: &quot;\\u0026copy; \\u003ca href=\\&quot;https://www.openstreetmap.org/copyright\\&quot;\\u003eOpenStreetMap\\u003c/a\\u003e contributors&quot;, &quot;detectRetina&quot;: false, &quot;maxNativeZoom&quot;: 19, &quot;maxZoom&quot;: 19, &quot;minZoom&quot;: 0, &quot;noWrap&quot;: false, &quot;opacity&quot;: 1, &quot;subdomains&quot;: &quot;abc&quot;, &quot;tms&quot;: false}\n",
       "            );\n",
       "        \n",
       "    \n",
       "            tile_layer_60e110b72f7bf606354291437e91b207.addTo(map_5466b83d785a80b0f70b4311e01af496);\n",
       "        \n",
       "    \n",
       "            var polygon_45408e31c9789b5366d82f4e396f3e80 = L.polygon(\n",
       "                [[2.2938038275156103, 48.85912039945539], [2.291809798504986, 48.85814815962206], [2.292145251197937, 48.85638078974249], [2.2944745929588186, 48.85558568672719], [2.296468527758217, 48.85655791002811], [2.296133215006863, 48.85832525287562], [2.2938038275156103, 48.85912039945539]],\n",
       "                {&quot;bubblingMouseEvents&quot;: true, &quot;color&quot;: &quot;blue&quot;, &quot;dashArray&quot;: null, &quot;dashOffset&quot;: null, &quot;fill&quot;: true, &quot;fillColor&quot;: &quot;blue&quot;, &quot;fillOpacity&quot;: 0.4, &quot;fillRule&quot;: &quot;evenodd&quot;, &quot;lineCap&quot;: &quot;round&quot;, &quot;lineJoin&quot;: &quot;round&quot;, &quot;noClip&quot;: false, &quot;opacity&quot;: 1.0, &quot;smoothFactor&quot;: 1.0, &quot;stroke&quot;: true, &quot;weight&quot;: 3}\n",
       "            ).addTo(map_5466b83d785a80b0f70b4311e01af496);\n",
       "        \n",
       "    \n",
       "            var marker_cbd0397c2ee9281dc727eff42a9cca76 = L.marker(\n",
       "                [48.858844, 2.29435],\n",
       "                {}\n",
       "            ).addTo(map_5466b83d785a80b0f70b4311e01af496);\n",
       "        \n",
       "    \n",
       "        var popup_5097add76e10ada0256961e6c01ad9c6 = L.popup({&quot;maxWidth&quot;: &quot;100%&quot;});\n",
       "\n",
       "        \n",
       "            \n",
       "                var html_48d60cc4ef8a3a1d7e107d00b19962e6 = $(`&lt;div id=&quot;html_48d60cc4ef8a3a1d7e107d00b19962e6&quot; style=&quot;width: 100.0%; height: 100.0%;&quot;&gt;Eiffel Tower&lt;/div&gt;`)[0];\n",
       "                popup_5097add76e10ada0256961e6c01ad9c6.setContent(html_48d60cc4ef8a3a1d7e107d00b19962e6);\n",
       "            \n",
       "        \n",
       "\n",
       "        marker_cbd0397c2ee9281dc727eff42a9cca76.bindPopup(popup_5097add76e10ada0256961e6c01ad9c6)\n",
       "        ;\n",
       "\n",
       "        \n",
       "    \n",
       "    \n",
       "            tile_layer_60e110b72f7bf606354291437e91b207.addTo(map_5466b83d785a80b0f70b4311e01af496);\n",
       "        \n",
       "&lt;/script&gt;\n",
       "&lt;/html&gt;\" style=\"position:absolute;width:100%;height:100%;left:0;top:0;border:none !important;\" allowfullscreen webkitallowfullscreen mozallowfullscreen></iframe></div></div>"
      ],
      "text/plain": [
       "<folium.folium.Map at 0x1d7a27c3940>"
      ]
     },
     "execution_count": 29,
     "metadata": {},
     "output_type": "execute_result"
    }
   ],
   "source": [
    "# Crear un mapa centrado en las coordenadas de la Torre Eiffel\n",
    "m = folium.Map(location=[48.858844, 2.294350], zoom_start=15)\n",
    "\n",
    "# Convertir Point a Polygon y agregar al mapa\n",
    "for _, row in gdf_in.iterrows():\n",
    "    if isinstance(row['geometry'], Point):\n",
    "        # Si la geometría es un punto, conviértelo a un polígono con un solo punto\n",
    "        poly_coords = [row['geometry'].coords[0], row['geometry'].coords[0], row['geometry'].coords[0]]\n",
    "    elif isinstance(row['geometry'], Polygon):\n",
    "        # Si ya es un polígono, usa sus coordenadas\n",
    "        poly_coords = row['geometry'].exterior.coords\n",
    "    else:\n",
    "        # Otros tipos de geometría no soportados\n",
    "        continue\n",
    "\n",
    "    folium.Polygon(locations=poly_coords, color='blue', fill=True, fill_opacity=0.4).add_to(m)\n",
    "\n",
    "# Agregar un marcador para la Torre Eiffel\n",
    "folium.Marker(location=[48.858844, 2.294350], popup='Eiffel Tower').add_to(m)\n",
    "\n",
    "# Guardar el mapa como un archivo HTML\n",
    "m.save('mapa_con_hexagono.html')\n",
    "m\n"
   ]
  }
 ],
 "metadata": {
  "kernelspec": {
   "display_name": "Python 3 (ipykernel)",
   "language": "python",
   "name": "python3"
  },
  "language_info": {
   "codemirror_mode": {
    "name": "ipython",
    "version": 3
   },
   "file_extension": ".py",
   "mimetype": "text/x-python",
   "name": "python",
   "nbconvert_exporter": "python",
   "pygments_lexer": "ipython3",
   "version": "3.12.1"
  }
 },
 "nbformat": 4,
 "nbformat_minor": 5
}
